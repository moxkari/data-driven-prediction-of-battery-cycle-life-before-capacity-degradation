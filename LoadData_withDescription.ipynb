{
 "cells": [
  {
   "cell_type": "code",
   "execution_count": 64,
   "metadata": {},
   "outputs": [],
   "source": [
    "import numpy as np\n",
    "import matplotlib.pyplot as plt\n",
    "import pickle\n",
    "\n",
    "# own imports\n",
    "import matplotlib.pyplot as plt"
   ]
  },
  {
   "cell_type": "code",
   "execution_count": 3,
   "metadata": {},
   "outputs": [],
   "source": [
    "# batch1 = pickle.load(open(r'.\\Data\\batch1.pkl', 'rb'))   # orig\n",
    "batch1 = pickle.load(open(r'./Data/batch1.pkl', 'rb'))    # Wendy\n",
    "#batch1 = pickle.load(open(r'/media/hannes/TOSHIBA EXT/matlab/batch1.pkl', 'rb'))  # Hannes\n",
    "\n",
    "#remove batteries that do not reach 80% capacity\n",
    "del batch1['b1c8']\n",
    "del batch1['b1c10']\n",
    "del batch1['b1c12']\n",
    "del batch1['b1c13']\n",
    "del batch1['b1c22']"
   ]
  },
  {
   "cell_type": "code",
   "execution_count": 4,
   "metadata": {},
   "outputs": [
    {
     "data": {
      "text/plain": [
       "41"
      ]
     },
     "execution_count": 4,
     "metadata": {},
     "output_type": "execute_result"
    }
   ],
   "source": [
    "numBat1 = len(batch1.keys())\n",
    "numBat1"
   ]
  },
  {
   "cell_type": "code",
   "execution_count": 7,
   "metadata": {},
   "outputs": [
    {
     "data": {
      "text/plain": [
       "dict_keys(['b1c0', 'b1c1', 'b1c2', 'b1c3', 'b1c4', 'b1c5', 'b1c6', 'b1c7', 'b1c9', 'b1c11', 'b1c14', 'b1c15', 'b1c16', 'b1c17', 'b1c18', 'b1c19', 'b1c20', 'b1c21', 'b1c23', 'b1c24', 'b1c25', 'b1c26', 'b1c27', 'b1c28', 'b1c29', 'b1c30', 'b1c31', 'b1c32', 'b1c33', 'b1c34', 'b1c35', 'b1c36', 'b1c37', 'b1c38', 'b1c39', 'b1c40', 'b1c41', 'b1c42', 'b1c43', 'b1c44', 'b1c45'])"
      ]
     },
     "execution_count": 7,
     "metadata": {},
     "output_type": "execute_result"
    }
   ],
   "source": [
    "batch1.keys()"
   ]
  },
  {
   "cell_type": "markdown",
   "metadata": {},
   "source": [
    "# 1 Cell"
   ]
  },
  {
   "cell_type": "code",
   "execution_count": 107,
   "metadata": {},
   "outputs": [
    {
     "data": {
      "text/plain": [
       "dict_keys(['cycle_life', 'charge_policy', 'summary', 'cycles'])"
      ]
     },
     "execution_count": 107,
     "metadata": {},
     "output_type": "execute_result"
    }
   ],
   "source": [
    "# this is all data for cell 0 from batch 1\n",
    "# The cleaned data set from all 3 batches contains 124 cells\n",
    "batch1[\"b1c0\"].keys() "
   ]
  },
  {
   "cell_type": "markdown",
   "metadata": {},
   "source": [
    "## Dict structure\n",
    "1. Cell<br>\n",
    "    1.1 Cycle Life<br>\n",
    "    1.2 Charge Policy<br>\n",
    "    1.3 Summary (per charging cycle)\n",
    "        1.3.1 Internal Resistance (Ohm)\n",
    "        1.3.2 Quantity of Charge (Ah)\n",
    "        1.3.3 Quantity of Discharge (Ah)\n",
    "        1.3.4 Temp Avg (C°)\n",
    "        1.3.5 Temp min (C°)\n",
    "        1.3.6 Temp Max (C°)\n",
    "        1.3.7 Charge time (minutes)\n",
    "        1.3.8 Index\n",
    "    1.4 Cycle (all data points per cycle)\n",
    "        1.4.1 I ?\n",
    "        1.4.2 Quantity of Charge (Ah)\n",
    "        1.4.3 Quantity of Discharge (Ah)\n",
    "        1.4.4 Qdlin ?\n",
    "        1.4.5 Temperature (C°)\n",
    "        1.4.6 Tdlin ?\n",
    "        1.4.7 Volt\n",
    "        1.4.8 dQdV ?\n",
    "        1.4.9 time elapsed        "
   ]
  },
  {
   "cell_type": "markdown",
   "metadata": {},
   "source": [
    "# 1.1 Cycle Life"
   ]
  },
  {
   "cell_type": "code",
   "execution_count": 30,
   "metadata": {
    "scrolled": true
   },
   "outputs": [
    {
     "data": {
      "text/plain": [
       "array([[1190.]])"
      ]
     },
     "execution_count": 30,
     "metadata": {},
     "output_type": "execute_result"
    }
   ],
   "source": [
    "batch1[\"b1c0\"][\"cycle_life\"] # total number of cycles measured"
   ]
  },
  {
   "cell_type": "markdown",
   "metadata": {},
   "source": [
    "# 1.2 Charge Policy"
   ]
  },
  {
   "cell_type": "code",
   "execution_count": 11,
   "metadata": {},
   "outputs": [
    {
     "data": {
      "text/plain": [
       "'3.6C(80%)-3.6C'"
      ]
     },
     "execution_count": 11,
     "metadata": {},
     "output_type": "execute_result"
    }
   ],
   "source": [
    "batch1[\"b1c0\"][\"charge_policy\"]"
   ]
  },
  {
   "cell_type": "markdown",
   "metadata": {},
   "source": [
    "# 1.3 Summary (for each charging cycle)"
   ]
  },
  {
   "cell_type": "code",
   "execution_count": 12,
   "metadata": {
    "scrolled": true
   },
   "outputs": [
    {
     "data": {
      "text/plain": [
       "dict_keys(['IR', 'QC', 'QD', 'Tavg', 'Tmin', 'Tmax', 'chargetime', 'cycle'])"
      ]
     },
     "execution_count": 12,
     "metadata": {},
     "output_type": "execute_result"
    }
   ],
   "source": [
    "batch1[\"b1c0\"][\"summary\"].keys()"
   ]
  },
  {
   "cell_type": "markdown",
   "metadata": {},
   "source": [
    "### 1.3.1 Internal resistance"
   ]
  },
  {
   "cell_type": "code",
   "execution_count": 52,
   "metadata": {},
   "outputs": [
    {
     "data": {
      "text/plain": [
       "array([0.        , 0.01674235, 0.01672431, ..., 0.01708527, 0.01707222,\n",
       "       0.0170891 ])"
      ]
     },
     "execution_count": 52,
     "metadata": {},
     "output_type": "execute_result"
    }
   ],
   "source": [
    "batch1[\"b1c0\"][\"summary\"][\"IR\"] # Measured in Ohm?"
   ]
  },
  {
   "cell_type": "markdown",
   "metadata": {},
   "source": [
    "### 1.3.2/3 Quantity of charge/discharge"
   ]
  },
  {
   "cell_type": "code",
   "execution_count": 53,
   "metadata": {},
   "outputs": [
    {
     "data": {
      "text/plain": [
       "array([0.       , 1.0706892, 1.0719005, ..., 1.0264986, 1.0266768,\n",
       "       1.0262098])"
      ]
     },
     "execution_count": 53,
     "metadata": {},
     "output_type": "execute_result"
    }
   ],
   "source": [
    "# Q is used to denote a quantity of electricity or charge. Measured in Ah.\n",
    "batch1[\"b1c0\"][\"summary\"][\"QC\"]\n",
    "batch1[\"b1c0\"][\"summary\"][\"QD\"] "
   ]
  },
  {
   "cell_type": "markdown",
   "metadata": {},
   "source": [
    "### 1.3.4/5/6 Temperature mean/min/max"
   ]
  },
  {
   "cell_type": "code",
   "execution_count": 48,
   "metadata": {},
   "outputs": [
    {
     "data": {
      "text/plain": [
       "array([ 0.      , 35.652016, 35.692978, ..., 36.750278, 36.758877,\n",
       "       36.561554])"
      ]
     },
     "execution_count": 48,
     "metadata": {},
     "output_type": "execute_result"
    }
   ],
   "source": [
    "# measured in Celcius?\n",
    "batch1[\"b1c0\"][\"summary\"][\"Tavg\"]\n",
    "batch1[\"b1c0\"][\"summary\"][\"Tmin\"]\n",
    "batch1[\"b1c0\"][\"summary\"][\"Tmax\"]"
   ]
  },
  {
   "cell_type": "markdown",
   "metadata": {},
   "source": [
    "### 1.3.7 Charge time"
   ]
  },
  {
   "cell_type": "code",
   "execution_count": 54,
   "metadata": {},
   "outputs": [
    {
     "data": {
      "text/plain": [
       "array([ 0.        , 13.34125   , 13.42577667, ..., 13.42549833,\n",
       "       13.34097167, 13.42571167])"
      ]
     },
     "execution_count": 54,
     "metadata": {},
     "output_type": "execute_result"
    }
   ],
   "source": [
    "batch1[\"b1c0\"][\"summary\"][\"chargetime\"] # measured in minutes?"
   ]
  },
  {
   "cell_type": "markdown",
   "metadata": {},
   "source": [
    "### 1.3.8 Cycle (index)"
   ]
  },
  {
   "cell_type": "code",
   "execution_count": 50,
   "metadata": {},
   "outputs": [
    {
     "data": {
      "text/plain": [
       "array([1.000e+00, 2.000e+00, 3.000e+00, ..., 1.187e+03, 1.188e+03,\n",
       "       1.189e+03])"
      ]
     },
     "execution_count": 50,
     "metadata": {},
     "output_type": "execute_result"
    }
   ],
   "source": [
    "batch1[\"b1c0\"][\"summary\"][\"cycle\"] # Number/index of charging cycle"
   ]
  },
  {
   "cell_type": "markdown",
   "metadata": {},
   "source": [
    "# 1.4 Cycles"
   ]
  },
  {
   "cell_type": "code",
   "execution_count": 51,
   "metadata": {},
   "outputs": [
    {
     "data": {
      "text/plain": [
       "['1184', '1185', '1186', '1187']"
      ]
     },
     "execution_count": 51,
     "metadata": {},
     "output_type": "execute_result"
    }
   ],
   "source": [
    "list(batch1[\"b1c0\"][\"cycles\"].keys())[-5:-1] # For this cell they measured 1188 charging cycles"
   ]
  },
  {
   "cell_type": "markdown",
   "metadata": {},
   "source": [
    "### Get all data from one exemplary charging cycle"
   ]
  },
  {
   "cell_type": "code",
   "execution_count": 56,
   "metadata": {},
   "outputs": [
    {
     "data": {
      "text/plain": [
       "dict_keys(['I', 'Qc', 'Qd', 'Qdlin', 'T', 'Tdlin', 'V', 'dQdV', 't'])"
      ]
     },
     "execution_count": 56,
     "metadata": {},
     "output_type": "execute_result"
    }
   ],
   "source": [
    "batch1[\"b1c0\"][\"cycles\"][\"1054\"].keys()"
   ]
  },
  {
   "cell_type": "markdown",
   "metadata": {},
   "source": [
    "### 1.4.1/2/3 I (index), Qc (charge) and Qd (discharge)"
   ]
  },
  {
   "cell_type": "code",
   "execution_count": 82,
   "metadata": {},
   "outputs": [
    {
     "data": {
      "text/plain": [
       "array([0.0000000e+00, 5.9319001e-07, 5.9319001e-07, ..., 1.0357687e+00,\n",
       "       1.0357687e+00, 1.0357687e+00])"
      ]
     },
     "execution_count": 82,
     "metadata": {},
     "output_type": "execute_result"
    }
   ],
   "source": [
    "# Why are I, Qc and Qd identical?\n",
    "# When building the pickle all of them were set to \"Qc\"\n",
    "#assert sorted(batch1[\"b1c0\"][\"cycles\"][\"1054\"][\"I\"]) == sorted(batch1[\"b1c0\"][\"cycles\"][\"1054\"][\"Qc\"])\n",
    "#assert sorted(batch1[\"b1c0\"][\"cycles\"][\"1054\"][\"I\"]) == sorted(batch1[\"b1c0\"][\"cycles\"][\"1054\"][\"Qd\"])\n",
    "batch1[\"b1c0\"][\"cycles\"][\"1054\"][\"I\"]"
   ]
  },
  {
   "cell_type": "markdown",
   "metadata": {},
   "source": [
    "### 1.4.4 Qdlin (linear charge)"
   ]
  },
  {
   "cell_type": "code",
   "execution_count": 81,
   "metadata": {},
   "outputs": [
    {
     "data": {
      "image/png": "[encoded data removed]",
      "text/plain": [
       "<Figure size 432x288 with 1 Axes>"
      ]
     },
     "metadata": {
      "needs_background": "light"
     },
     "output_type": "display_data"
    }
   ],
   "source": [
    "# Is Qdlin a smoothed out version of Qd?\n",
    "plt.plot(batch1[\"b1c0\"][\"cycles\"][\"1054\"][\"Qd\"], label='Qd')\n",
    "plt.plot(batch1[\"b1c0\"][\"cycles\"][\"1054\"][\"Qdlin\"], label='Qdlin')\n",
    "plt.legend()\n",
    "plt.show()"
   ]
  },
  {
   "cell_type": "markdown",
   "metadata": {},
   "source": [
    "### 1.4.5 T (temperature)"
   ]
  },
  {
   "cell_type": "code",
   "execution_count": 91,
   "metadata": {},
   "outputs": [
    {
     "data": {
      "text/plain": [
       "array([32.275799, 32.275799, 32.275799, ..., 32.112251, 32.112251,\n",
       "       32.112251])"
      ]
     },
     "execution_count": 91,
     "metadata": {},
     "output_type": "execute_result"
    }
   ],
   "source": [
    "batch1[\"b1c0\"][\"cycles\"][\"1054\"][\"T\"]"
   ]
  },
  {
   "cell_type": "markdown",
   "metadata": {},
   "source": [
    "### 1.4.6 Tdlin"
   ]
  },
  {
   "cell_type": "code",
   "execution_count": 85,
   "metadata": {},
   "outputs": [
    {
     "data": {
      "image/png": "[encoded data removed]",
      "text/plain": [
       "<Figure size 432x288 with 1 Axes>"
      ]
     },
     "metadata": {
      "needs_background": "light"
     },
     "output_type": "display_data"
    }
   ],
   "source": [
    "# Is Tdlin a smoothed out version of T? Most likely not\n",
    "plt.plot(batch1[\"b1c0\"][\"cycles\"][\"1054\"][\"T\"], label='T')\n",
    "plt.plot(batch1[\"b1c0\"][\"cycles\"][\"1054\"][\"Tdlin\"], label='Tdlin')\n",
    "plt.legend()\n",
    "plt.show()"
   ]
  },
  {
   "cell_type": "markdown",
   "metadata": {},
   "source": [
    "### 1.4.7 V (Volt)"
   ]
  },
  {
   "cell_type": "code",
   "execution_count": 96,
   "metadata": {},
   "outputs": [
    {
     "data": {
      "text/plain": [
       "array([2.0175753, 2.0321321, 2.0450382, ..., 2.0015354, 2.0115385,\n",
       "       2.0168495])"
      ]
     },
     "execution_count": 96,
     "metadata": {},
     "output_type": "execute_result"
    }
   ],
   "source": [
    "batch1[\"b1c0\"][\"cycles\"][\"1054\"][\"V\"]"
   ]
  },
  {
   "cell_type": "markdown",
   "metadata": {},
   "source": [
    "### 1.4.8 dQdV"
   ]
  },
  {
   "cell_type": "code",
   "execution_count": 97,
   "metadata": {},
   "outputs": [
    {
     "data": {
      "text/plain": [
       "array([ 0.00000000e+00,  0.00000000e+00,  0.00000000e+00,  0.00000000e+00,\n",
       "       -1.27691832e-03, -3.21159282e-03, -6.01041088e-03, -9.67337250e-03,\n",
       "       -1.42004777e-02, -1.95917264e-02, -2.55824827e-02, -3.15732390e-02,\n",
       "       -3.73576079e-02, -4.22778332e-02, -4.63339150e-02, -4.95258532e-02,\n",
       "       -5.18536479e-02, -5.33172990e-02, -5.39168065e-02, -5.39168065e-02,\n",
       "       -5.39168065e-02, -5.39168065e-02, -5.39168065e-02, -5.39168065e-02,\n",
       "       -5.39168065e-02, -5.39168065e-02, -5.39168065e-02, -5.39168065e-02,\n",
       "       -5.39168065e-02, -5.39168065e-02, -5.39168065e-02, -5.39168065e-02,\n",
       "       -5.39168065e-02, -5.39168065e-02, -5.39168065e-02, -5.39168065e-02,\n",
       "       -5.39168065e-02, -5.40146568e-02, -5.56531938e-02, -5.88324177e-02,\n",
       "       -6.35523283e-02, -6.98129257e-02, -7.76142100e-02, -8.69561810e-02,\n",
       "       -9.72809783e-02, -1.07605776e-01, -1.17832723e-01, -1.26518983e-01,\n",
       "       -1.33664556e-01, -1.39269443e-01, -1.43333643e-01, -1.45251805e-01,\n",
       "       -1.44712074e-01, -1.42272311e-01, -1.38915342e-01, -1.34641167e-01,\n",
       "       -1.29449786e-01, -1.23341198e-01, -1.17160219e-01, -1.10979239e-01,\n",
       "       -1.05403611e-01, -1.00745188e-01, -9.70039721e-02, -9.41799618e-02,\n",
       "       -9.22731577e-02, -9.12835596e-02, -9.12111677e-02, -9.12111677e-02,\n",
       "       -9.12111677e-02, -9.12111677e-02, -9.12111677e-02, -9.18565323e-02,\n",
       "       -9.39353256e-02, -9.74475476e-02, -1.02393198e-01, -1.08772278e-01,\n",
       "       -1.16584786e-01, -1.25830723e-01, -1.34067921e-01, -1.40544987e-01,\n",
       "       -1.44616558e-01, -1.45494570e-01, -1.43179021e-01, -1.37669913e-01,\n",
       "       -1.28967245e-01, -1.18816182e-01, -1.07231689e-01, -9.66559364e-02,\n",
       "       -8.78403144e-02, -8.07848234e-02, -7.54894634e-02, -7.24056375e-02,\n",
       "       -7.26313629e-02, -7.61666396e-02, -8.12663038e-02, -8.79153883e-02,\n",
       "       -9.61138931e-02, -1.05861818e-01, -1.15544023e-01, -1.23986382e-01,\n",
       "       -1.30737492e-01, -1.34699335e-01, -1.35871913e-01, -1.34255224e-01,\n",
       "       -1.29849269e-01, -1.23940304e-01, -1.16806189e-01, -1.10062066e-01,\n",
       "       -1.04882059e-01, -1.01266169e-01, -9.92143966e-02, -9.86897950e-02,\n",
       "       -9.94050393e-02, -1.01360129e-01, -1.03268810e-01, -1.04853219e-01,\n",
       "       -1.06113358e-01, -1.07049225e-01, -1.08579883e-01, -1.11890901e-01,\n",
       "       -1.17019226e-01, -1.24252183e-01, -1.33589772e-01, -1.45031993e-01,\n",
       "       -1.58578845e-01, -1.71437907e-01, -1.82724307e-01, -1.91518983e-01,\n",
       "       -1.96636366e-01, -1.98076454e-01, -1.95839249e-01, -1.89955634e-01,\n",
       "       -1.82184963e-01, -1.72527236e-01, -1.63774876e-01, -1.56812754e-01,\n",
       "       -1.51640871e-01, -1.48259225e-01, -1.46651284e-01, -1.46784581e-01,\n",
       "       -1.48628232e-01, -1.50422883e-01, -1.52168533e-01, -1.53865184e-01,\n",
       "       -1.55512834e-01, -1.57268741e-01, -1.59214342e-01, -1.61366170e-01,\n",
       "       -1.63756692e-01, -1.66385908e-01, -1.69253819e-01, -1.72360423e-01,\n",
       "       -1.75726924e-01, -1.79353664e-01, -1.83083385e-01, -1.86834651e-01,\n",
       "       -1.90607461e-01, -1.94401816e-01, -1.98184461e-01, -2.01863994e-01,\n",
       "       -2.05440415e-01, -2.08892522e-01, -2.12219972e-01, -2.15422765e-01,\n",
       "       -2.18500901e-01, -2.21711990e-01, -2.25277224e-01, -2.29229855e-01,\n",
       "       -2.33661288e-01, -2.38571522e-01, -2.43960557e-01, -2.49828393e-01,\n",
       "       -2.56267166e-01, -2.63297964e-01, -2.70663176e-01, -2.78141611e-01,\n",
       "       -2.85733268e-01, -2.93438149e-01, -3.01296094e-01, -3.09556574e-01,\n",
       "       -3.18219589e-01, -3.27193004e-01, -3.36455730e-01, -3.46007770e-01,\n",
       "       -3.55849122e-01, -3.66285593e-01, -3.77767356e-01, -3.90254569e-01,\n",
       "       -4.03497761e-01, -4.17496932e-01, -4.32252082e-01, -4.47763211e-01,\n",
       "       -4.65302269e-01, -4.85391935e-01, -5.07726403e-01, -5.31855500e-01,\n",
       "       -5.57779227e-01, -5.85507576e-01, -6.16445870e-01, -6.50594107e-01,\n",
       "       -6.87952288e-01, -7.27248463e-01, -7.71721331e-01, -8.24313754e-01,\n",
       "       -8.85025732e-01, -9.52764098e-01, -1.02536248e+00, -1.10141555e+00,\n",
       "       -1.19290293e+00, -1.30857217e+00, -1.44416378e+00, -1.59237652e+00,\n",
       "       -1.75952287e+00, -1.93906694e+00, -2.11635373e+00, -2.33713366e+00,\n",
       "       -2.59722056e+00, -2.83524278e+00, -3.10362405e+00, -3.36084311e+00,\n",
       "       -3.68983023e+00, -3.92931710e+00, -4.27261541e+00, -4.50580451e+00,\n",
       "       -4.77938698e+00, -5.02915347e+00, -5.29094766e+00, -5.47010644e+00,\n",
       "       -5.66814224e+00, -5.81241887e+00, -5.91331884e+00, -5.92142398e+00,\n",
       "       -6.12354384e+00, -6.12503595e+00, -6.17439404e+00, -6.14001186e+00,\n",
       "       -6.10191736e+00, -6.06828837e+00, -6.01737590e+00, -6.03863093e+00,\n",
       "       -5.99477739e+00, -5.84830438e+00, -5.80688467e+00, -5.74616606e+00,\n",
       "       -5.68957366e+00, -5.66331790e+00, -5.60853502e+00, -5.48689778e+00,\n",
       "       -5.42779898e+00, -5.39222675e+00, -5.32841086e+00, -5.28248348e+00,\n",
       "       -5.11580592e+00, -5.08493704e+00, -5.04180087e+00, -4.96488678e+00,\n",
       "       -4.93443562e+00, -4.86464466e+00, -4.79745227e+00, -4.75315673e+00,\n",
       "       -4.70617294e+00, -4.72107763e+00, -4.64114625e+00, -4.63691542e+00,\n",
       "       -4.57692913e+00, -4.53221445e+00, -4.51627991e+00, -4.42816761e+00,\n",
       "       -4.43695494e+00, -4.39182245e+00, -4.32572535e+00, -4.31357386e+00,\n",
       "       -4.24978382e+00, -4.21490017e+00, -4.21388121e+00, -4.16023326e+00,\n",
       "       -4.17768854e+00, -4.11709418e+00, -4.09545336e+00, -4.11180992e+00,\n",
       "       -4.03925979e+00, -3.95893079e+00, -3.96699584e+00, -3.90158764e+00,\n",
       "       -3.85241083e+00, -3.79508235e+00, -3.72962585e+00, -3.66946798e+00,\n",
       "       -3.59868790e+00, -3.57842625e+00, -3.54104368e+00, -3.46728310e+00,\n",
       "       -3.41031586e+00, -3.35369008e+00, -3.29523136e+00, -3.26072782e+00,\n",
       "       -3.21367597e+00, -3.13720035e+00, -3.08407366e+00, -3.04372019e+00,\n",
       "       -2.99984244e+00, -2.95001204e+00, -2.90429479e+00, -2.86681540e+00,\n",
       "       -2.81031541e+00, -2.75853114e+00, -2.72956144e+00, -2.68689800e+00,\n",
       "       -2.63605266e+00, -2.58202646e+00, -2.54260393e+00, -2.51448149e+00,\n",
       "       -2.47668369e+00, -2.43252329e+00, -2.40782935e+00, -2.38222155e+00,\n",
       "       -2.34035400e+00, -2.29636154e+00, -2.25812532e+00, -2.21973154e+00,\n",
       "       -2.18441311e+00, -2.15998852e+00, -2.13369593e+00, -2.08631757e+00,\n",
       "       -2.03968050e+00, -2.01105180e+00, -1.99318537e+00, -1.97422116e+00,\n",
       "       -1.94191236e+00, -1.89489804e+00, -1.85360640e+00, -1.82085083e+00,\n",
       "       -1.79344614e+00, -1.76971705e+00, -1.74434245e+00, -1.71301816e+00,\n",
       "       -1.68147970e+00, -1.65689999e+00, -1.63798179e+00, -1.61410417e+00,\n",
       "       -1.58756636e+00, -1.56082964e+00, -1.53515207e+00, -1.51107105e+00,\n",
       "       -1.48795433e+00, -1.46550263e+00, -1.44300969e+00, -1.42146039e+00,\n",
       "       -1.40085473e+00, -1.38048958e+00, -1.35998579e+00, -1.33932821e+00,\n",
       "       -1.31758609e+00, -1.29465106e+00, -1.27082243e+00, -1.24886959e+00,\n",
       "       -1.23058981e+00, -1.21598307e+00, -1.20345330e+00, -1.19011848e+00,\n",
       "       -1.17507820e+00, -1.15860977e+00, -1.14082153e+00, -1.12394083e+00,\n",
       "       -1.10765463e+00, -1.09016568e+00, -1.07147398e+00, -1.05151502e+00,\n",
       "       -1.03312917e+00, -1.01721684e+00, -1.00377803e+00, -9.92679820e-01,\n",
       "       -9.81582857e-01, -9.70160275e-01, -9.58412074e-01, -9.46338255e-01,\n",
       "       -9.34074265e-01, -9.21636462e-01, -9.09024845e-01, -8.96239413e-01,\n",
       "       -8.83443444e-01, -8.70999107e-01, -8.58906401e-01, -8.47165326e-01,\n",
       "       -8.35775883e-01, -8.24667132e-01, -8.14018286e-01, -8.03845551e-01,\n",
       "       -7.94148929e-01, -7.84898064e-01, -7.75842791e-01, -7.66936281e-01,\n",
       "       -7.58094692e-01, -7.49318022e-01, -7.40606273e-01, -7.31780059e-01,\n",
       "       -7.22823172e-01, -7.13675832e-01, -7.04237160e-01, -6.94507156e-01,\n",
       "       -6.84532649e-01, -6.74397481e-01, -6.64101654e-01, -6.53645166e-01,\n",
       "       -6.43468876e-01, -6.33791165e-01, -6.24671812e-01, -6.16211697e-01,\n",
       "       -6.08410821e-01, -6.01269182e-01, -5.94786782e-01, -5.88981442e-01,\n",
       "       -5.83853201e-01, -5.78961202e-01, -5.74087065e-01, -5.69230789e-01,\n",
       "       -5.64392374e-01, -5.59472699e-01, -5.54257904e-01, -5.48747991e-01,\n",
       "       -5.42925137e-01, -5.36789302e-01, -5.30340486e-01, -5.23578690e-01,\n",
       "       -5.16783563e-01, -5.10109389e-01, -5.03655290e-01, -4.97635126e-01,\n",
       "       -4.92048895e-01, -4.86896599e-01, -4.82178236e-01, -4.77841853e-01,\n",
       "       -4.73885440e-01, -4.70029346e-01, -4.66119287e-01, -4.62155264e-01,\n",
       "       -4.58137276e-01, -4.54062919e-01, -4.49925722e-01, -4.45725684e-01,\n",
       "       -4.41514760e-01, -4.37294960e-01, -4.33066285e-01, -4.28828734e-01,\n",
       "       -4.24666180e-01, -4.20639157e-01, -4.16750070e-01, -4.13005390e-01,\n",
       "       -4.09405117e-01, -4.05949252e-01, -4.02637794e-01, -3.99425050e-01,\n",
       "       -3.96306070e-01, -3.93196980e-01, -3.90037245e-01, -3.86826866e-01,\n",
       "       -3.83565841e-01, -3.80263228e-01, -3.76950805e-01, -3.73628571e-01,\n",
       "       -3.70342220e-01, -3.67096703e-01, -3.63892021e-01, -3.60728173e-01,\n",
       "       -3.57593245e-01, -3.54477448e-01, -3.51371724e-01, -3.48244296e-01,\n",
       "       -3.45095163e-01, -3.41924326e-01, -3.38731784e-01, -3.35823498e-01,\n",
       "       -3.33244296e-01, -3.31006092e-01, -3.29118678e-01, -3.27582054e-01,\n",
       "       -3.26396218e-01, -3.25506730e-01, -3.24596837e-01, -3.23666540e-01,\n",
       "       -3.22409880e-01, -3.20782025e-01, -3.18782978e-01, -3.16412736e-01,\n",
       "       -3.13677804e-01, -3.10585494e-01, -3.07190250e-01, -3.03808823e-01,\n",
       "       -3.00441213e-01, -2.97087419e-01, -2.93747443e-01, -2.90723623e-01,\n",
       "       -2.88112624e-01, -2.85907943e-01, -2.84102266e-01, -2.82695593e-01,\n",
       "       -2.81687924e-01, -2.81054772e-01, -2.80511275e-01, -2.80057434e-01,\n",
       "       -2.79390909e-01, -2.78415036e-01, -2.77129814e-01, -2.75535244e-01,\n",
       "       -2.73673599e-01, -2.71606160e-01, -2.69357413e-01, -2.67212220e-01,\n",
       "       -2.65170580e-01, -2.63232494e-01, -2.61397961e-01, -2.59624589e-01,\n",
       "       -2.57896414e-01, -2.56171163e-01, -2.54387555e-01, -2.52545591e-01,\n",
       "       -2.50645271e-01, -2.48690945e-01, -2.46801803e-01, -2.44977842e-01,\n",
       "       -2.43261458e-01, -2.41668613e-01, -2.40199307e-01, -2.38853540e-01,\n",
       "       -2.37568922e-01, -2.36238345e-01, -2.34857458e-01, -2.33307075e-01,\n",
       "       -2.31587194e-01, -2.29697816e-01, -2.27638941e-01, -2.25654527e-01,\n",
       "       -2.23885267e-01, -2.22393552e-01, -2.21286488e-01, -2.20564076e-01,\n",
       "       -2.20226314e-01, -2.20273204e-01, -2.20300959e-01, -2.20273586e-01,\n",
       "       -2.19947126e-01, -2.19180888e-01, -2.17974870e-01, -2.16329074e-01,\n",
       "       -2.14267612e-01, -2.11878943e-01, -2.09163069e-01, -2.06523774e-01,\n",
       "       -2.03997052e-01, -2.01582903e-01, -1.99281327e-01, -1.97287663e-01,\n",
       "       -1.95769554e-01, -1.94702887e-01, -1.93999202e-01, -1.93658501e-01,\n",
       "       -1.93680782e-01, -1.94066045e-01, -1.94472295e-01, -1.94839831e-01,\n",
       "       -1.94973312e-01, -1.94705096e-01, -1.94035183e-01, -1.92963573e-01,\n",
       "       -1.91510770e-01, -1.89805043e-01, -1.87846392e-01, -1.85976811e-01,\n",
       "       -1.84256003e-01, -1.82683967e-01, -1.81260704e-01, -1.79968041e-01,\n",
       "       -1.78784806e-01, -1.77690492e-01, -1.76556833e-01, -1.75383828e-01,\n",
       "       -1.74171478e-01, -1.72919782e-01, -1.71679066e-01, -1.70468318e-01,\n",
       "       -1.69305709e-01, -1.68212413e-01, -1.67188431e-01, -1.66233762e-01,\n",
       "       -1.65348407e-01, -1.64538771e-01, -1.63804893e-01, -1.63096448e-01,\n",
       "       -1.62394447e-01, -1.61698891e-01, -1.61009779e-01, -1.60308888e-01,\n",
       "       -1.59545289e-01, -1.58718982e-01, -1.57823560e-01, -1.56858986e-01,\n",
       "       -1.55825259e-01, -1.54722380e-01, -1.53488620e-01, -1.52079492e-01,\n",
       "       -1.50513219e-01, -1.48840730e-01, -1.47062025e-01, -1.45177103e-01,\n",
       "       -1.43185965e-01, -1.41494488e-01, -1.40185343e-01, -1.39320260e-01,\n",
       "       -1.38943726e-01, -1.39055742e-01, -1.39656307e-01, -1.40688692e-01,\n",
       "       -1.41731162e-01, -1.42783717e-01, -1.43440480e-01, -1.43618777e-01,\n",
       "       -1.43318610e-01, -1.42539977e-01, -1.41340247e-01, -1.39788774e-01,\n",
       "       -1.37942288e-01, -1.36222524e-01, -1.34629482e-01, -1.33163163e-01,\n",
       "       -1.31823566e-01, -1.30651382e-01, -1.29658743e-01, -1.28788279e-01,\n",
       "       -1.27970638e-01, -1.27205818e-01, -1.26493820e-01, -1.25829503e-01,\n",
       "       -1.25159114e-01, -1.24482653e-01, -1.23759429e-01, -1.22977311e-01,\n",
       "       -1.22136299e-01, -1.21236393e-01, -1.20312840e-01, -1.19418413e-01,\n",
       "       -1.18558253e-01, -1.17786113e-01, -1.17101993e-01, -1.16505894e-01,\n",
       "       -1.15997815e-01, -1.15525224e-01, -1.15067945e-01, -1.14590732e-01,\n",
       "       -1.14040812e-01, -1.13418184e-01, -1.12722849e-01, -1.11954807e-01,\n",
       "       -1.11177226e-01, -1.10396026e-01, -1.09663738e-01, -1.09000538e-01,\n",
       "       -1.08406425e-01, -1.07881399e-01, -1.07417373e-01, -1.06989473e-01,\n",
       "       -1.06597699e-01, -1.06178880e-01, -1.05727100e-01, -1.05242358e-01,\n",
       "       -1.04724655e-01, -1.04179933e-01, -1.03613104e-01, -1.03032252e-01,\n",
       "       -1.02462254e-01, -1.01903108e-01, -1.01354816e-01, -1.00817376e-01,\n",
       "       -1.00281071e-01, -9.97429568e-02, -9.91970882e-02, -9.86385571e-02,\n",
       "       -9.80673633e-02, -9.74835070e-02, -9.68934712e-02, -9.63601937e-02,\n",
       "       -9.58836746e-02, -9.54736324e-02, -9.51330111e-02, -9.48618106e-02,\n",
       "       -9.46600311e-02, -9.51035318e-02, -9.69776100e-02, -1.00275783e-01,\n",
       "       -1.04935112e-01, -1.10955597e-01, -1.18337240e-01, -1.27080039e-01,\n",
       "       -1.35015536e-01, -1.41389558e-01, -1.45626247e-01, -1.46940303e-01,\n",
       "       -1.45331729e-01, -1.40800522e-01, -1.33472470e-01, -1.24783261e-01,\n",
       "       -1.14732895e-01, -1.05489831e-01, -9.78082417e-02, -9.16881274e-02,\n",
       "       -8.71294879e-02, -8.45840669e-02, -8.47682538e-02, -8.75562636e-02,\n",
       "       -9.15124065e-02, -9.66366826e-02, -1.02929092e-01, -1.10389634e-01,\n",
       "       -1.17239321e-01, -1.22658678e-01, -1.26195963e-01, -1.27134786e-01,\n",
       "       -1.25475147e-01, -1.21217045e-01, -1.14360482e-01, -1.05210215e-01,\n",
       "       -9.37879000e-02, -8.18725269e-02, -7.02835685e-02, -5.90210248e-02,\n",
       "       -4.80848959e-02, -3.83965104e-02, -3.25077888e-02, -3.04187313e-02,\n",
       "       -3.18245787e-02, -3.67036754e-02, -4.50560214e-02, -5.68816166e-02,\n",
       "       -7.10657700e-02, -8.63538378e-02, -1.01824491e-01, -1.14925810e-01,\n",
       "       -1.25657793e-01, -1.34020442e-01, -1.40013756e-01, -1.43540995e-01,\n",
       "       -1.44555311e-01, -1.44171397e-01, -1.43643895e-01, -1.42972807e-01,\n",
       "       -1.42158131e-01, -1.41199867e-01, -1.40224307e-01, -1.39248747e-01,\n",
       "       -1.38369927e-01, -1.37634693e-01, -1.37043048e-01, -1.36594989e-01,\n",
       "       -1.36244119e-01, -1.35812346e-01, -1.35299669e-01, -1.34579798e-01,\n",
       "       -1.33635437e-01, -1.32466585e-01, -1.31073242e-01, -1.29563856e-01,\n",
       "       -1.28054470e-01, -1.26591482e-01, -1.25352984e-01, -1.24338978e-01,\n",
       "       -1.23549462e-01, -1.22984437e-01, -1.22565766e-01, -1.22270048e-01,\n",
       "       -1.21988836e-01, -1.21606086e-01, -1.21121799e-01, -1.20535974e-01,\n",
       "       -1.19848612e-01, -1.19150109e-01, -1.18451606e-01, -1.17831240e-01,\n",
       "       -1.17312412e-01, -1.16895121e-01, -1.16579368e-01, -1.16390346e-01,\n",
       "       -1.16496082e-01, -1.16896576e-01, -1.17501431e-01, -1.18299506e-01,\n",
       "       -1.19290801e-01, -1.20475317e-01, -1.21798763e-01, -1.23122209e-01,\n",
       "       -1.24420461e-01, -1.25525493e-01, -1.26437305e-01, -1.27155896e-01,\n",
       "       -1.27681267e-01, -1.27928041e-01, -1.27839708e-01, -1.27470560e-01,\n",
       "       -1.26959527e-01, -1.26306607e-01, -1.25511802e-01, -1.24575112e-01,\n",
       "       -1.23613192e-01, -1.22651271e-01, -1.21774727e-01, -1.21040069e-01,\n",
       "       -1.20447297e-01, -1.19996410e-01, -1.19692836e-01, -1.19664468e-01,\n",
       "       -1.19911306e-01, -1.20316696e-01, -1.20855406e-01, -1.21527437e-01,\n",
       "       -1.22332789e-01, -1.23233173e-01, -1.24133557e-01, -1.25028514e-01,\n",
       "       -1.25790150e-01, -1.26418465e-01, -1.26913459e-01, -1.27275133e-01,\n",
       "       -1.27511856e-01, -1.27629272e-01, -1.27665673e-01, -1.27716089e-01,\n",
       "       -1.27780520e-01, -1.27858966e-01, -1.27951427e-01, -1.27060345e-01,\n",
       "       -1.25042982e-01, -1.21890967e-01, -1.17598655e-01, -1.12166046e-01,\n",
       "       -1.05593140e-01, -9.80616547e-02, -9.05161544e-02, -8.29566389e-02,\n",
       "       -7.63806660e-02, -7.09309748e-02, -6.66075655e-02, -6.34104379e-02,\n",
       "       -6.17554653e-02, -6.23162197e-02, -6.49109835e-02, -6.85951925e-02,\n",
       "       -7.33688468e-02, -7.92319463e-02, -8.61844911e-02, -9.34756042e-02,\n",
       "       -1.00766717e-01, -1.07641957e-01, -1.13427752e-01, -1.18124101e-01,\n",
       "       -1.21731006e-01, -1.24245996e-01, -1.25573712e-01, -1.25714155e-01,\n",
       "       -1.25418199e-01, -1.25024415e-01, -1.24532803e-01, -1.23943361e-01,\n",
       "       -1.23290003e-01, -1.22636645e-01, -1.21985755e-01, -1.21432694e-01,\n",
       "       -1.20977463e-01, -1.20620060e-01, -1.20360485e-01, -1.20198740e-01,\n",
       "       -1.20134824e-01, -1.20134824e-01, -1.20134824e-01, -1.20134824e-01,\n",
       "       -1.20134824e-01, -1.20134824e-01, -1.20579212e-01, -1.21594770e-01,\n",
       "       -1.23181497e-01, -1.25339393e-01, -1.28068458e-01, -1.31368692e-01,\n",
       "       -1.35240096e-01, -1.39127237e-01, -1.43014378e-01, -1.46457131e-01,\n",
       "       -1.49328715e-01, -1.51629129e-01, -1.53358375e-01, -1.54277658e-01,\n",
       "       -1.53635411e-01, -1.51431634e-01, -1.48221758e-01, -1.44021520e-01,\n",
       "       -1.38830922e-01, -1.32649962e-01, -1.26042681e-01, -1.19435399e-01,\n",
       "       -1.13066911e-01, -1.07688783e-01, -1.03301017e-01, -9.99036118e-02,\n",
       "       -9.74965677e-02, -9.60798847e-02, -9.56535628e-02, -9.56535628e-02,\n",
       "       -9.56535628e-02, -9.56535628e-02, -9.56535628e-02, -9.56679976e-02,\n",
       "       -9.60649054e-02, -9.68442862e-02, -9.80061400e-02, -9.95504667e-02,\n",
       "       -1.01477266e-01, -1.03786539e-01, -1.06425460e-01, -1.09064380e-01,\n",
       "       -1.11688866e-01, -1.13930879e-01, -1.15790419e-01, -1.17267486e-01,\n",
       "       -1.18362080e-01, -1.19074201e-01, -1.19403849e-01, -1.19403849e-01,\n",
       "       -1.19403849e-01, -1.19403849e-01, -1.19403849e-01, -1.19403849e-01,\n",
       "       -1.19403849e-01, -1.19403849e-01, -1.19403849e-01, -1.19403849e-01,\n",
       "       -1.19403849e-01, -1.19403849e-01, -1.19403849e-01, -1.19590916e-01,\n",
       "       -1.19969643e-01, -1.20540030e-01, -1.21302078e-01, -1.22255787e-01,\n",
       "       -1.23401156e-01, -1.24689333e-01, -1.25977510e-01, -1.27265687e-01,\n",
       "       -1.28366798e-01, -1.29276248e-01, -1.29994038e-01, -1.30520167e-01,\n",
       "       -1.30854635e-01, -1.30997443e-01, -1.30997443e-01, -1.30997443e-01,\n",
       "       -1.30997443e-01, -1.30997443e-01, -1.30997443e-01, -1.30997443e-01,\n",
       "       -1.30997443e-01, -1.30997443e-01, -1.30997443e-01, -1.30997443e-01,\n",
       "       -1.30997443e-01, -1.30997443e-01, -1.30635199e-01, -1.29878403e-01,\n",
       "       -1.28727053e-01, -1.27181152e-01, -1.25240698e-01, -1.22905692e-01,\n",
       "       -1.20265649e-01, -1.17625606e-01, -1.14985564e-01, -1.12707765e-01,\n",
       "       -1.10824519e-01, -1.09335825e-01, -1.08241684e-01, -1.07542095e-01,\n",
       "       -1.07237058e-01, -1.07237058e-01, -1.07237058e-01, -1.07237058e-01,\n",
       "       -1.07237058e-01, -1.07237058e-01, -1.07237058e-01, -1.07237058e-01,\n",
       "       -1.07237058e-01, -1.07237058e-01, -1.07237058e-01, -1.07237058e-01,\n",
       "       -1.00877061e-01, -1.00381103e-01, -9.75909327e-02, -9.25065487e-02,\n",
       "       -8.51279514e-02, -7.54551409e-02, -6.80400742e-02, -5.61248455e-02,\n",
       "       -4.96984955e-02, -3.25981013e-02, -2.02277405e-02,  0.00000000e+00])"
      ]
     },
     "execution_count": 97,
     "metadata": {},
     "output_type": "execute_result"
    }
   ],
   "source": [
    "# Delta of Q and V?\n",
    "# This has len(1000), not 1051 like the other features\n",
    "batch1[\"b1c0\"][\"cycles\"][\"1054\"][\"dQdV\"]"
   ]
  },
  {
   "cell_type": "code",
   "execution_count": 168,
   "metadata": {},
   "outputs": [
    {
     "name": "stdout",
     "output_type": "stream",
     "text": [
      "cid 0 tl 2 dql 2\n",
      "cid 1 tl 1059 dql 1000\n",
      "cid 2 tl 1045 dql 1000\n",
      "cid 3 tl 1048 dql 1000\n",
      "cid 4 tl 1059 dql 1000\n",
      "cid 5 tl 1058 dql 1000\n",
      "cid 6 tl 1078 dql 1000\n",
      "cid 7 tl 1074 dql 1000\n",
      "cid 8 tl 1062 dql 1000\n",
      "cid 9 tl 1077 dql 1000\n",
      "cid 10 tl 1067 dql 1000\n",
      "cid 11 tl 1074 dql 1000\n",
      "cid 12 tl 1060 dql 1000\n",
      "cid 13 tl 1075 dql 1000\n",
      "cid 14 tl 1040 dql 1000\n",
      "cid 15 tl 1047 dql 1000\n",
      "cid 16 tl 1083 dql 1000\n",
      "cid 17 tl 1050 dql 1000\n",
      "cid 18 tl 1055 dql 1000\n",
      "cid 19 tl 1063 dql 1000\n",
      "cid 20 tl 1076 dql 1000\n",
      "cid 21 tl 1046 dql 1000\n",
      "cid 22 tl 1066 dql 1000\n",
      "cid 23 tl 1041 dql 1000\n",
      "cid 24 tl 1068 dql 1000\n",
      "cid 25 tl 1062 dql 1000\n",
      "cid 26 tl 1039 dql 1000\n",
      "cid 27 tl 1076 dql 1000\n",
      "cid 28 tl 1070 dql 1000\n",
      "cid 29 tl 1087 dql 1000\n",
      "cid 30 tl 1070 dql 1000\n",
      "cid 31 tl 1062 dql 1000\n",
      "cid 32 tl 1076 dql 1000\n",
      "cid 33 tl 1087 dql 1000\n",
      "cid 34 tl 1070 dql 1000\n",
      "cid 35 tl 1075 dql 1000\n",
      "cid 36 tl 1056 dql 1000\n",
      "cid 37 tl 1063 dql 1000\n",
      "cid 38 tl 1059 dql 1000\n",
      "cid 39 tl 1075 dql 1000\n",
      "cid 40 tl 1066 dql 1000\n",
      "cid 41 tl 1055 dql 1000\n",
      "cid 42 tl 1088 dql 1000\n",
      "cid 43 tl 1053 dql 1000\n",
      "cid 44 tl 1078 dql 1000\n",
      "cid 45 tl 1050 dql 1000\n",
      "cid 46 tl 1038 dql 1000\n",
      "cid 47 tl 1070 dql 1000\n",
      "cid 48 tl 1070 dql 1000\n",
      "cid 49 tl 1093 dql 1000\n",
      "cid 50 tl 1050 dql 1000\n",
      "cid 51 tl 1039 dql 1000\n",
      "cid 52 tl 1080 dql 1000\n",
      "cid 53 tl 1056 dql 1000\n",
      "cid 54 tl 1069 dql 1000\n",
      "cid 55 tl 1065 dql 1000\n",
      "cid 56 tl 1072 dql 1000\n",
      "cid 57 tl 1063 dql 1000\n",
      "cid 58 tl 1068 dql 1000\n",
      "cid 59 tl 1077 dql 1000\n",
      "cid 60 tl 1084 dql 1000\n",
      "cid 61 tl 1046 dql 1000\n",
      "cid 62 tl 1091 dql 1000\n",
      "cid 63 tl 1067 dql 1000\n",
      "cid 64 tl 1063 dql 1000\n",
      "cid 65 tl 1068 dql 1000\n",
      "cid 66 tl 1033 dql 1000\n",
      "cid 67 tl 1093 dql 1000\n",
      "cid 68 tl 1083 dql 1000\n",
      "cid 69 tl 1096 dql 1000\n",
      "cid 70 tl 1083 dql 1000\n",
      "cid 71 tl 1071 dql 1000\n",
      "cid 72 tl 1096 dql 1000\n",
      "cid 73 tl 1066 dql 1000\n",
      "cid 74 tl 1066 dql 1000\n",
      "cid 75 tl 1094 dql 1000\n",
      "cid 76 tl 1067 dql 1000\n",
      "cid 77 tl 1090 dql 1000\n",
      "cid 78 tl 1087 dql 1000\n",
      "cid 79 tl 1081 dql 1000\n",
      "cid 80 tl 1106 dql 1000\n",
      "cid 81 tl 1073 dql 1000\n",
      "cid 82 tl 1085 dql 1000\n",
      "cid 83 tl 1076 dql 1000\n",
      "cid 84 tl 1071 dql 1000\n",
      "cid 85 tl 1053 dql 1000\n",
      "cid 86 tl 1061 dql 1000\n",
      "cid 87 tl 1040 dql 1000\n",
      "cid 88 tl 1083 dql 1000\n",
      "cid 89 tl 1071 dql 1000\n",
      "cid 90 tl 1062 dql 1000\n",
      "cid 91 tl 1095 dql 1000\n",
      "cid 92 tl 1077 dql 1000\n",
      "cid 93 tl 1073 dql 1000\n",
      "cid 94 tl 1077 dql 1000\n",
      "cid 95 tl 1060 dql 1000\n",
      "cid 96 tl 1096 dql 1000\n",
      "cid 97 tl 1059 dql 1000\n",
      "cid 98 tl 1096 dql 1000\n",
      "cid 99 tl 1053 dql 1000\n",
      "cid 100 tl 1069 dql 1000\n",
      "cid 101 tl 1072 dql 1000\n",
      "cid 102 tl 1052 dql 1000\n",
      "cid 103 tl 1073 dql 1000\n",
      "cid 104 tl 1045 dql 1000\n",
      "cid 105 tl 1082 dql 1000\n",
      "cid 106 tl 1069 dql 1000\n",
      "cid 107 tl 1078 dql 1000\n",
      "cid 108 tl 1063 dql 1000\n",
      "cid 109 tl 1070 dql 1000\n",
      "cid 110 tl 1032 dql 1000\n",
      "cid 111 tl 1075 dql 1000\n",
      "cid 112 tl 1062 dql 1000\n",
      "cid 113 tl 1068 dql 1000\n",
      "cid 114 tl 1061 dql 1000\n",
      "cid 115 tl 1082 dql 1000\n",
      "cid 116 tl 1066 dql 1000\n",
      "cid 117 tl 1071 dql 1000\n",
      "cid 118 tl 1073 dql 1000\n",
      "cid 119 tl 1050 dql 1000\n",
      "cid 120 tl 1063 dql 1000\n",
      "cid 121 tl 1059 dql 1000\n",
      "cid 122 tl 1065 dql 1000\n",
      "cid 123 tl 1069 dql 1000\n",
      "cid 124 tl 1073 dql 1000\n",
      "cid 125 tl 1055 dql 1000\n",
      "cid 126 tl 1063 dql 1000\n",
      "cid 127 tl 1054 dql 1000\n",
      "cid 128 tl 1059 dql 1000\n",
      "cid 129 tl 1059 dql 1000\n",
      "cid 130 tl 1064 dql 1000\n",
      "cid 131 tl 1059 dql 1000\n",
      "cid 132 tl 1064 dql 1000\n",
      "cid 133 tl 1107 dql 1000\n",
      "cid 134 tl 1061 dql 1000\n",
      "cid 135 tl 1078 dql 1000\n",
      "cid 136 tl 1070 dql 1000\n",
      "cid 137 tl 1086 dql 1000\n",
      "cid 138 tl 1085 dql 1000\n",
      "cid 139 tl 1050 dql 1000\n",
      "cid 140 tl 1068 dql 1000\n",
      "cid 141 tl 1060 dql 1000\n",
      "cid 142 tl 1077 dql 1000\n",
      "cid 143 tl 1057 dql 1000\n",
      "cid 144 tl 1087 dql 1000\n",
      "cid 145 tl 1077 dql 1000\n",
      "cid 146 tl 1064 dql 1000\n",
      "cid 147 tl 1052 dql 1000\n",
      "cid 148 tl 1073 dql 1000\n",
      "cid 149 tl 1066 dql 1000\n",
      "cid 150 tl 1079 dql 1000\n",
      "cid 151 tl 1066 dql 1000\n",
      "cid 152 tl 1063 dql 1000\n",
      "cid 153 tl 1056 dql 1000\n",
      "cid 154 tl 1079 dql 1000\n",
      "cid 155 tl 1091 dql 1000\n",
      "cid 156 tl 1063 dql 1000\n",
      "cid 157 tl 1040 dql 1000\n",
      "cid 158 tl 1039 dql 1000\n",
      "cid 159 tl 1068 dql 1000\n",
      "cid 160 tl 1076 dql 1000\n",
      "cid 161 tl 1089 dql 1000\n",
      "cid 162 tl 1058 dql 1000\n",
      "cid 163 tl 1048 dql 1000\n",
      "cid 164 tl 1071 dql 1000\n",
      "cid 165 tl 1042 dql 1000\n",
      "cid 166 tl 1044 dql 1000\n",
      "cid 167 tl 1061 dql 1000\n",
      "cid 168 tl 1067 dql 1000\n",
      "cid 169 tl 1047 dql 1000\n",
      "cid 170 tl 1093 dql 1000\n",
      "cid 171 tl 1074 dql 1000\n",
      "cid 172 tl 1077 dql 1000\n",
      "cid 173 tl 1092 dql 1000\n",
      "cid 174 tl 1040 dql 1000\n",
      "cid 175 tl 1064 dql 1000\n",
      "cid 176 tl 1044 dql 1000\n",
      "cid 177 tl 1066 dql 1000\n",
      "cid 178 tl 1062 dql 1000\n",
      "cid 179 tl 1054 dql 1000\n",
      "cid 180 tl 1078 dql 1000\n",
      "cid 181 tl 1066 dql 1000\n",
      "cid 182 tl 1068 dql 1000\n",
      "cid 183 tl 1062 dql 1000\n",
      "cid 184 tl 1091 dql 1000\n",
      "cid 185 tl 1071 dql 1000\n",
      "cid 186 tl 1066 dql 1000\n",
      "cid 187 tl 1072 dql 1000\n",
      "cid 188 tl 1089 dql 1000\n",
      "cid 189 tl 1070 dql 1000\n",
      "cid 190 tl 1082 dql 1000\n",
      "cid 191 tl 1066 dql 1000\n",
      "cid 192 tl 1078 dql 1000\n",
      "cid 193 tl 1088 dql 1000\n",
      "cid 194 tl 1087 dql 1000\n",
      "cid 195 tl 1050 dql 1000\n",
      "cid 196 tl 1060 dql 1000\n",
      "cid 197 tl 1050 dql 1000\n",
      "cid 198 tl 1058 dql 1000\n",
      "cid 199 tl 1056 dql 1000\n",
      "cid 200 tl 1079 dql 1000\n",
      "cid 201 tl 1062 dql 1000\n",
      "cid 202 tl 1060 dql 1000\n",
      "cid 203 tl 1049 dql 1000\n",
      "cid 204 tl 1057 dql 1000\n",
      "cid 205 tl 1066 dql 1000\n",
      "cid 206 tl 1073 dql 1000\n",
      "cid 207 tl 1048 dql 1000\n",
      "cid 208 tl 1081 dql 1000\n",
      "cid 209 tl 1094 dql 1000\n",
      "cid 210 tl 1079 dql 1000\n",
      "cid 211 tl 1077 dql 1000\n",
      "cid 212 tl 1071 dql 1000\n",
      "cid 213 tl 1076 dql 1000\n",
      "cid 214 tl 1093 dql 1000\n",
      "cid 215 tl 1078 dql 1000\n",
      "cid 216 tl 1069 dql 1000\n",
      "cid 217 tl 1069 dql 1000\n",
      "cid 218 tl 1083 dql 1000\n",
      "cid 219 tl 1080 dql 1000\n",
      "cid 220 tl 1053 dql 1000\n",
      "cid 221 tl 1066 dql 1000\n",
      "cid 222 tl 1070 dql 1000\n",
      "cid 223 tl 1057 dql 1000\n",
      "cid 224 tl 1066 dql 1000\n",
      "cid 225 tl 1059 dql 1000\n",
      "cid 226 tl 1091 dql 1000\n",
      "cid 227 tl 1068 dql 1000\n",
      "cid 228 tl 1076 dql 1000\n",
      "cid 229 tl 1068 dql 1000\n",
      "cid 230 tl 1060 dql 1000\n",
      "cid 231 tl 1088 dql 1000\n",
      "cid 232 tl 1078 dql 1000\n",
      "cid 233 tl 1044 dql 1000\n",
      "cid 234 tl 1055 dql 1000\n",
      "cid 235 tl 1073 dql 1000\n",
      "cid 236 tl 1068 dql 1000\n",
      "cid 237 tl 1042 dql 1000\n",
      "cid 238 tl 1038 dql 1000\n",
      "cid 239 tl 1057 dql 1000\n",
      "cid 240 tl 1051 dql 1000\n",
      "cid 241 tl 1050 dql 1000\n",
      "cid 242 tl 1059 dql 1000\n",
      "cid 243 tl 1070 dql 1000\n",
      "cid 244 tl 1070 dql 1000\n",
      "cid 245 tl 1061 dql 1000\n",
      "cid 246 tl 1050 dql 1000\n",
      "cid 247 tl 1088 dql 1000\n",
      "cid 248 tl 1069 dql 1000\n",
      "cid 249 tl 1040 dql 1000\n",
      "cid 250 tl 1054 dql 1000\n",
      "cid 251 tl 1063 dql 1000\n",
      "cid 252 tl 1062 dql 1000\n",
      "cid 253 tl 1054 dql 1000\n",
      "cid 254 tl 1063 dql 1000\n",
      "cid 255 tl 1063 dql 1000\n",
      "cid 256 tl 1081 dql 1000\n",
      "cid 257 tl 1074 dql 1000\n",
      "cid 258 tl 1056 dql 1000\n",
      "cid 259 tl 1076 dql 1000\n",
      "cid 260 tl 1046 dql 1000\n",
      "cid 261 tl 1021 dql 1000\n",
      "cid 262 tl 1073 dql 1000\n",
      "cid 263 tl 1063 dql 1000\n",
      "cid 264 tl 1072 dql 1000\n",
      "cid 265 tl 1055 dql 1000\n",
      "cid 266 tl 1044 dql 1000\n",
      "cid 267 tl 1036 dql 1000\n",
      "cid 268 tl 1064 dql 1000\n",
      "cid 269 tl 1041 dql 1000\n",
      "cid 270 tl 1079 dql 1000\n",
      "cid 271 tl 1050 dql 1000\n",
      "cid 272 tl 1064 dql 1000\n",
      "cid 273 tl 1055 dql 1000\n",
      "cid 274 tl 1061 dql 1000\n",
      "cid 275 tl 1086 dql 1000\n",
      "cid 276 tl 1095 dql 1000\n",
      "cid 277 tl 1062 dql 1000\n",
      "cid 278 tl 1058 dql 1000\n",
      "cid 279 tl 1055 dql 1000\n",
      "cid 280 tl 1049 dql 1000\n",
      "cid 281 tl 1062 dql 1000\n",
      "cid 282 tl 1068 dql 1000\n",
      "cid 283 tl 1063 dql 1000\n",
      "cid 284 tl 1076 dql 1000\n",
      "cid 285 tl 1034 dql 1000\n",
      "cid 286 tl 1062 dql 1000\n",
      "cid 287 tl 1060 dql 1000\n",
      "cid 288 tl 1054 dql 1000\n",
      "cid 289 tl 1067 dql 1000\n",
      "cid 290 tl 1041 dql 1000\n",
      "cid 291 tl 1043 dql 1000\n",
      "cid 292 tl 1065 dql 1000\n",
      "cid 293 tl 1068 dql 1000\n",
      "cid 294 tl 1042 dql 1000\n",
      "cid 295 tl 1074 dql 1000\n",
      "cid 296 tl 1046 dql 1000\n",
      "cid 297 tl 1047 dql 1000\n",
      "cid 298 tl 1059 dql 1000\n",
      "cid 299 tl 1057 dql 1000\n",
      "cid 300 tl 1038 dql 1000\n",
      "cid 301 tl 1040 dql 1000\n",
      "cid 302 tl 1040 dql 1000\n",
      "cid 303 tl 1075 dql 1000\n",
      "cid 304 tl 1061 dql 1000\n",
      "cid 305 tl 1071 dql 1000\n",
      "cid 306 tl 1051 dql 1000\n",
      "cid 307 tl 1044 dql 1000\n",
      "cid 308 tl 1075 dql 1000\n",
      "cid 309 tl 1063 dql 1000\n",
      "cid 310 tl 1069 dql 1000\n",
      "cid 311 tl 1047 dql 1000\n",
      "cid 312 tl 1052 dql 1000\n",
      "cid 313 tl 1061 dql 1000\n",
      "cid 314 tl 1051 dql 1000\n",
      "cid 315 tl 1047 dql 1000\n",
      "cid 316 tl 1089 dql 1000\n",
      "cid 317 tl 1069 dql 1000\n",
      "cid 318 tl 1083 dql 1000\n",
      "cid 319 tl 1044 dql 1000\n",
      "cid 320 tl 1079 dql 1000\n",
      "cid 321 tl 1059 dql 1000\n",
      "cid 322 tl 1055 dql 1000\n",
      "cid 323 tl 1070 dql 1000\n",
      "cid 324 tl 1073 dql 1000\n",
      "cid 325 tl 1045 dql 1000\n",
      "cid 326 tl 1027 dql 1000\n",
      "cid 327 tl 1051 dql 1000\n",
      "cid 328 tl 1032 dql 1000\n",
      "cid 329 tl 1035 dql 1000\n",
      "cid 330 tl 1056 dql 1000\n",
      "cid 331 tl 1052 dql 1000\n",
      "cid 332 tl 1060 dql 1000\n",
      "cid 333 tl 1044 dql 1000\n",
      "cid 334 tl 1074 dql 1000\n",
      "cid 335 tl 1067 dql 1000\n",
      "cid 336 tl 1048 dql 1000\n",
      "cid 337 tl 1075 dql 1000\n",
      "cid 338 tl 1046 dql 1000\n",
      "cid 339 tl 1050 dql 1000\n",
      "cid 340 tl 1062 dql 1000\n",
      "cid 341 tl 1056 dql 1000\n",
      "cid 342 tl 1041 dql 1000\n",
      "cid 343 tl 1069 dql 1000\n",
      "cid 344 tl 1049 dql 1000\n",
      "cid 345 tl 1062 dql 1000\n",
      "cid 346 tl 1046 dql 1000\n",
      "cid 347 tl 1051 dql 1000\n",
      "cid 348 tl 1072 dql 1000\n",
      "cid 349 tl 1051 dql 1000\n",
      "cid 350 tl 1079 dql 1000\n",
      "cid 351 tl 1051 dql 1000\n",
      "cid 352 tl 1082 dql 1000\n",
      "cid 353 tl 1077 dql 1000\n",
      "cid 354 tl 1038 dql 1000\n",
      "cid 355 tl 1075 dql 1000\n",
      "cid 356 tl 1066 dql 1000\n",
      "cid 357 tl 1059 dql 1000\n",
      "cid 358 tl 1053 dql 1000\n",
      "cid 359 tl 1061 dql 1000\n",
      "cid 360 tl 1060 dql 1000\n",
      "cid 361 tl 1085 dql 1000\n",
      "cid 362 tl 1068 dql 1000\n",
      "cid 363 tl 1068 dql 1000\n",
      "cid 364 tl 1075 dql 1000\n",
      "cid 365 tl 1085 dql 1000\n",
      "cid 366 tl 1052 dql 1000\n",
      "cid 367 tl 1079 dql 1000\n",
      "cid 368 tl 1057 dql 1000\n",
      "cid 369 tl 1079 dql 1000\n",
      "cid 370 tl 1093 dql 1000\n",
      "cid 371 tl 1068 dql 1000\n",
      "cid 372 tl 1061 dql 1000\n",
      "cid 373 tl 1075 dql 1000\n",
      "cid 374 tl 1063 dql 1000\n",
      "cid 375 tl 1091 dql 1000\n",
      "cid 376 tl 1096 dql 1000\n",
      "cid 377 tl 1065 dql 1000\n",
      "cid 378 tl 1049 dql 1000\n",
      "cid 379 tl 1065 dql 1000\n",
      "cid 380 tl 1061 dql 1000\n",
      "cid 381 tl 1076 dql 1000\n",
      "cid 382 tl 1057 dql 1000\n",
      "cid 383 tl 1057 dql 1000\n",
      "cid 384 tl 1048 dql 1000\n",
      "cid 385 tl 1059 dql 1000\n",
      "cid 386 tl 1067 dql 1000\n",
      "cid 387 tl 1052 dql 1000\n",
      "cid 388 tl 1059 dql 1000\n",
      "cid 389 tl 1103 dql 1000\n",
      "cid 390 tl 1062 dql 1000\n",
      "cid 391 tl 1064 dql 1000\n",
      "cid 392 tl 1045 dql 1000\n",
      "cid 393 tl 1069 dql 1000\n",
      "cid 394 tl 1066 dql 1000\n",
      "cid 395 tl 1069 dql 1000\n",
      "cid 396 tl 1075 dql 1000\n",
      "cid 397 tl 1053 dql 1000\n",
      "cid 398 tl 1067 dql 1000\n",
      "cid 399 tl 1067 dql 1000\n",
      "cid 400 tl 1038 dql 1000\n",
      "cid 401 tl 1075 dql 1000\n",
      "cid 402 tl 1052 dql 1000\n",
      "cid 403 tl 1047 dql 1000\n",
      "cid 404 tl 1043 dql 1000\n",
      "cid 405 tl 1048 dql 1000\n",
      "cid 406 tl 1041 dql 1000\n",
      "cid 407 tl 1066 dql 1000\n",
      "cid 408 tl 1057 dql 1000\n",
      "cid 409 tl 1071 dql 1000\n",
      "cid 410 tl 1044 dql 1000\n",
      "cid 411 tl 1053 dql 1000\n",
      "cid 412 tl 1042 dql 1000\n",
      "cid 413 tl 1060 dql 1000\n",
      "cid 414 tl 1076 dql 1000\n",
      "cid 415 tl 1058 dql 1000\n",
      "cid 416 tl 1051 dql 1000\n",
      "cid 417 tl 1054 dql 1000\n",
      "cid 418 tl 1034 dql 1000\n",
      "cid 419 tl 1053 dql 1000\n",
      "cid 420 tl 1061 dql 1000\n",
      "cid 421 tl 1022 dql 1000\n",
      "cid 422 tl 1043 dql 1000\n",
      "cid 423 tl 1041 dql 1000\n",
      "cid 424 tl 1041 dql 1000\n",
      "cid 425 tl 1046 dql 1000\n",
      "cid 426 tl 1073 dql 1000\n",
      "cid 427 tl 1089 dql 1000\n",
      "cid 428 tl 1068 dql 1000\n",
      "cid 429 tl 1076 dql 1000\n",
      "cid 430 tl 1068 dql 1000\n",
      "cid 431 tl 1060 dql 1000\n",
      "cid 432 tl 1074 dql 1000\n",
      "cid 433 tl 1039 dql 1000\n",
      "cid 434 tl 1069 dql 1000\n",
      "cid 435 tl 1046 dql 1000\n",
      "cid 436 tl 1051 dql 1000\n",
      "cid 437 tl 1051 dql 1000\n",
      "cid 438 tl 1054 dql 1000\n",
      "cid 439 tl 1036 dql 1000\n",
      "cid 440 tl 1040 dql 1000\n",
      "cid 441 tl 1046 dql 1000\n",
      "cid 442 tl 1079 dql 1000\n",
      "cid 443 tl 1046 dql 1000\n",
      "cid 444 tl 1068 dql 1000\n",
      "cid 445 tl 1014 dql 1000\n",
      "cid 446 tl 1068 dql 1000\n",
      "cid 447 tl 1064 dql 1000\n",
      "cid 448 tl 1048 dql 1000\n",
      "cid 449 tl 1048 dql 1000\n",
      "cid 450 tl 1046 dql 1000\n",
      "cid 451 tl 1072 dql 1000\n",
      "cid 452 tl 1057 dql 1000\n",
      "cid 453 tl 1076 dql 1000\n",
      "cid 454 tl 1066 dql 1000\n",
      "cid 455 tl 1066 dql 1000\n",
      "cid 456 tl 1038 dql 1000\n",
      "cid 457 tl 1072 dql 1000\n",
      "cid 458 tl 1048 dql 1000\n",
      "cid 459 tl 1064 dql 1000\n",
      "cid 460 tl 1070 dql 1000\n",
      "cid 461 tl 1048 dql 1000\n",
      "cid 462 tl 1048 dql 1000\n",
      "cid 463 tl 1066 dql 1000\n",
      "cid 464 tl 1061 dql 1000\n",
      "cid 465 tl 1045 dql 1000\n",
      "cid 466 tl 1078 dql 1000\n",
      "cid 467 tl 1068 dql 1000\n",
      "cid 468 tl 1045 dql 1000\n",
      "cid 469 tl 1083 dql 1000\n",
      "cid 470 tl 1065 dql 1000\n",
      "cid 471 tl 1060 dql 1000\n",
      "cid 472 tl 1056 dql 1000\n",
      "cid 473 tl 1026 dql 1000\n",
      "cid 474 tl 1041 dql 1000\n",
      "cid 475 tl 1044 dql 1000\n",
      "cid 476 tl 1059 dql 1000\n",
      "cid 477 tl 1048 dql 1000\n",
      "cid 478 tl 1069 dql 1000\n",
      "cid 479 tl 1065 dql 1000\n",
      "cid 480 tl 1061 dql 1000\n",
      "cid 481 tl 1069 dql 1000\n",
      "cid 482 tl 1053 dql 1000\n",
      "cid 483 tl 1063 dql 1000\n",
      "cid 484 tl 1029 dql 1000\n",
      "cid 485 tl 1068 dql 1000\n",
      "cid 486 tl 1053 dql 1000\n",
      "cid 487 tl 1081 dql 1000\n",
      "cid 488 tl 1055 dql 1000\n",
      "cid 489 tl 1044 dql 1000\n",
      "cid 490 tl 1045 dql 1000\n",
      "cid 491 tl 1055 dql 1000\n",
      "cid 492 tl 1064 dql 1000\n",
      "cid 493 tl 1045 dql 1000\n",
      "cid 494 tl 1023 dql 1000\n",
      "cid 495 tl 1053 dql 1000\n",
      "cid 496 tl 1074 dql 1000\n",
      "cid 497 tl 1054 dql 1000\n",
      "cid 498 tl 1039 dql 1000\n",
      "cid 499 tl 1057 dql 1000\n",
      "cid 500 tl 1060 dql 1000\n",
      "cid 501 tl 1075 dql 1000\n",
      "cid 502 tl 1068 dql 1000\n",
      "cid 503 tl 1039 dql 1000\n",
      "cid 504 tl 1037 dql 1000\n",
      "cid 505 tl 1077 dql 1000\n",
      "cid 506 tl 1020 dql 1000\n",
      "cid 507 tl 1043 dql 1000\n",
      "cid 508 tl 1073 dql 1000\n",
      "cid 509 tl 1057 dql 1000\n",
      "cid 510 tl 1031 dql 1000\n",
      "cid 511 tl 1052 dql 1000\n",
      "cid 512 tl 1057 dql 1000\n",
      "cid 513 tl 1032 dql 1000\n",
      "cid 514 tl 1037 dql 1000\n",
      "cid 515 tl 1043 dql 1000\n",
      "cid 516 tl 1022 dql 1000\n",
      "cid 517 tl 1051 dql 1000\n",
      "cid 518 tl 1059 dql 1000\n",
      "cid 519 tl 1077 dql 1000\n",
      "cid 520 tl 1080 dql 1000\n",
      "cid 521 tl 1053 dql 1000\n",
      "cid 522 tl 1032 dql 1000\n",
      "cid 523 tl 1021 dql 1000\n",
      "cid 524 tl 1054 dql 1000\n",
      "cid 525 tl 1036 dql 1000\n",
      "cid 526 tl 1078 dql 1000\n",
      "cid 527 tl 1043 dql 1000\n",
      "cid 528 tl 1043 dql 1000\n",
      "cid 529 tl 1055 dql 1000\n",
      "cid 530 tl 1057 dql 1000\n",
      "cid 531 tl 1036 dql 1000\n",
      "cid 532 tl 1064 dql 1000\n",
      "cid 533 tl 1051 dql 1000\n",
      "cid 534 tl 1049 dql 1000\n",
      "cid 535 tl 1051 dql 1000\n",
      "cid 536 tl 1046 dql 1000\n",
      "cid 537 tl 1055 dql 1000\n",
      "cid 538 tl 1056 dql 1000\n",
      "cid 539 tl 1057 dql 1000\n",
      "cid 540 tl 1070 dql 1000\n",
      "cid 541 tl 1034 dql 1000\n",
      "cid 542 tl 1052 dql 1000\n",
      "cid 543 tl 1031 dql 1000\n",
      "cid 544 tl 1051 dql 1000\n",
      "cid 545 tl 1057 dql 1000\n",
      "cid 546 tl 1035 dql 1000\n",
      "cid 547 tl 1043 dql 1000\n",
      "cid 548 tl 1060 dql 1000\n",
      "cid 549 tl 1065 dql 1000\n",
      "cid 550 tl 1038 dql 1000\n",
      "cid 551 tl 1057 dql 1000\n",
      "cid 552 tl 1043 dql 1000\n",
      "cid 553 tl 1057 dql 1000\n",
      "cid 554 tl 1049 dql 1000\n",
      "cid 555 tl 1046 dql 1000\n",
      "cid 556 tl 1055 dql 1000\n",
      "cid 557 tl 1056 dql 1000\n",
      "cid 558 tl 1041 dql 1000\n",
      "cid 559 tl 1054 dql 1000\n",
      "cid 560 tl 1058 dql 1000\n",
      "cid 561 tl 1027 dql 1000\n",
      "cid 562 tl 1050 dql 1000\n",
      "cid 563 tl 1052 dql 1000\n",
      "cid 564 tl 1046 dql 1000\n",
      "cid 565 tl 1038 dql 1000\n",
      "cid 566 tl 1035 dql 1000\n",
      "cid 567 tl 1065 dql 1000\n",
      "cid 568 tl 1059 dql 1000\n",
      "cid 569 tl 1027 dql 1000\n",
      "cid 570 tl 1049 dql 1000\n",
      "cid 571 tl 1037 dql 1000\n",
      "cid 572 tl 1036 dql 1000\n",
      "cid 573 tl 1056 dql 1000\n",
      "cid 574 tl 1047 dql 1000\n",
      "cid 575 tl 1067 dql 1000\n",
      "cid 576 tl 1047 dql 1000\n",
      "cid 577 tl 1060 dql 1000\n",
      "cid 578 tl 1067 dql 1000\n",
      "cid 579 tl 1060 dql 1000\n",
      "cid 580 tl 1058 dql 1000\n",
      "cid 581 tl 1044 dql 1000\n",
      "cid 582 tl 1052 dql 1000\n",
      "cid 583 tl 1040 dql 1000\n",
      "cid 584 tl 1070 dql 1000\n",
      "cid 585 tl 1053 dql 1000\n",
      "cid 586 tl 1036 dql 1000\n",
      "cid 587 tl 1047 dql 1000\n",
      "cid 588 tl 1048 dql 1000\n",
      "cid 589 tl 1036 dql 1000\n",
      "cid 590 tl 1044 dql 1000\n"
     ]
    },
    {
     "name": "stdout",
     "output_type": "stream",
     "text": [
      "cid 591 tl 1074 dql 1000\n",
      "cid 592 tl 1003 dql 1000\n",
      "cid 593 tl 1038 dql 1000\n",
      "cid 594 tl 1051 dql 1000\n",
      "cid 595 tl 1059 dql 1000\n",
      "cid 596 tl 1025 dql 1000\n",
      "cid 597 tl 1057 dql 1000\n",
      "cid 598 tl 1040 dql 1000\n",
      "cid 599 tl 1052 dql 1000\n",
      "cid 600 tl 1048 dql 1000\n",
      "cid 601 tl 1051 dql 1000\n",
      "cid 602 tl 1030 dql 1000\n",
      "cid 603 tl 1056 dql 1000\n",
      "cid 604 tl 1074 dql 1000\n",
      "cid 605 tl 1066 dql 1000\n",
      "cid 606 tl 1023 dql 1000\n",
      "cid 607 tl 1035 dql 1000\n",
      "cid 608 tl 1036 dql 1000\n",
      "cid 609 tl 1039 dql 1000\n",
      "cid 610 tl 1060 dql 1000\n",
      "cid 611 tl 1050 dql 1000\n",
      "cid 612 tl 1020 dql 1000\n",
      "cid 613 tl 1045 dql 1000\n",
      "cid 614 tl 1041 dql 1000\n",
      "cid 615 tl 1027 dql 1000\n",
      "cid 616 tl 1054 dql 1000\n",
      "cid 617 tl 1047 dql 1000\n",
      "cid 618 tl 1045 dql 1000\n",
      "cid 619 tl 1049 dql 1000\n",
      "cid 620 tl 1054 dql 1000\n",
      "cid 621 tl 1054 dql 1000\n",
      "cid 622 tl 1075 dql 1000\n",
      "cid 623 tl 1035 dql 1000\n",
      "cid 624 tl 1074 dql 1000\n",
      "cid 625 tl 1057 dql 1000\n",
      "cid 626 tl 1072 dql 1000\n",
      "cid 627 tl 1053 dql 1000\n",
      "cid 628 tl 1043 dql 1000\n",
      "cid 629 tl 1000 dql 1000\n",
      "cid 630 tl 1006 dql 1000\n",
      "cid 631 tl 1037 dql 1000\n",
      "cid 632 tl 1057 dql 1000\n",
      "cid 633 tl 1043 dql 1000\n",
      "cid 634 tl 1048 dql 1000\n",
      "cid 635 tl 1045 dql 1000\n",
      "cid 636 tl 1038 dql 1000\n",
      "cid 637 tl 1065 dql 1000\n",
      "cid 638 tl 1036 dql 1000\n",
      "cid 639 tl 1062 dql 1000\n",
      "cid 640 tl 1032 dql 1000\n",
      "cid 641 tl 1045 dql 1000\n",
      "cid 642 tl 1062 dql 1000\n",
      "cid 643 tl 1039 dql 1000\n",
      "cid 644 tl 1030 dql 1000\n",
      "cid 645 tl 1026 dql 1000\n",
      "cid 646 tl 1049 dql 1000\n",
      "cid 647 tl 1020 dql 1000\n",
      "cid 648 tl 1034 dql 1000\n",
      "cid 649 tl 1053 dql 1000\n",
      "cid 650 tl 1066 dql 1000\n",
      "cid 651 tl 1039 dql 1000\n",
      "cid 652 tl 1050 dql 1000\n",
      "cid 653 tl 1024 dql 1000\n",
      "cid 654 tl 1008 dql 1000\n",
      "cid 655 tl 1058 dql 1000\n",
      "cid 656 tl 1054 dql 1000\n",
      "cid 657 tl 1026 dql 1000\n",
      "cid 658 tl 1057 dql 1000\n",
      "cid 659 tl 1042 dql 1000\n",
      "cid 660 tl 1038 dql 1000\n",
      "cid 661 tl 1054 dql 1000\n",
      "cid 662 tl 1052 dql 1000\n",
      "cid 663 tl 1014 dql 1000\n",
      "cid 664 tl 1064 dql 1000\n",
      "cid 665 tl 1025 dql 1000\n",
      "cid 666 tl 1047 dql 1000\n",
      "cid 667 tl 1006 dql 1000\n",
      "cid 668 tl 1042 dql 1000\n",
      "cid 669 tl 1035 dql 1000\n",
      "cid 670 tl 1048 dql 1000\n",
      "cid 671 tl 1041 dql 1000\n",
      "cid 672 tl 1020 dql 1000\n",
      "cid 673 tl 1057 dql 1000\n",
      "cid 674 tl 1041 dql 1000\n",
      "cid 675 tl 1043 dql 1000\n",
      "cid 676 tl 1062 dql 1000\n",
      "cid 677 tl 1038 dql 1000\n",
      "cid 678 tl 1066 dql 1000\n",
      "cid 679 tl 1022 dql 1000\n",
      "cid 680 tl 1036 dql 1000\n",
      "cid 681 tl 1018 dql 1000\n",
      "cid 682 tl 1033 dql 1000\n",
      "cid 683 tl 1001 dql 1000\n",
      "cid 684 tl 1039 dql 1000\n",
      "cid 685 tl 1007 dql 1000\n",
      "cid 686 tl 1071 dql 1000\n",
      "cid 687 tl 1044 dql 1000\n",
      "cid 688 tl 1023 dql 1000\n",
      "cid 689 tl 1073 dql 1000\n",
      "cid 690 tl 1041 dql 1000\n",
      "cid 691 tl 1004 dql 1000\n",
      "cid 692 tl 1028 dql 1000\n",
      "cid 693 tl 998 dql 1000\n",
      "cid 694 tl 1007 dql 1000\n",
      "cid 695 tl 1027 dql 1000\n",
      "cid 696 tl 1025 dql 1000\n",
      "cid 697 tl 1006 dql 1000\n",
      "cid 698 tl 1020 dql 1000\n",
      "cid 699 tl 1035 dql 1000\n",
      "cid 700 tl 1017 dql 1000\n",
      "cid 701 tl 1044 dql 1000\n",
      "cid 702 tl 1039 dql 1000\n",
      "cid 703 tl 1038 dql 1000\n",
      "cid 704 tl 1001 dql 1000\n",
      "cid 705 tl 1021 dql 1000\n",
      "cid 706 tl 1041 dql 1000\n",
      "cid 707 tl 1013 dql 1000\n",
      "cid 708 tl 1056 dql 1000\n",
      "cid 709 tl 1040 dql 1000\n",
      "cid 710 tl 1048 dql 1000\n",
      "cid 711 tl 1034 dql 1000\n",
      "cid 712 tl 1019 dql 1000\n",
      "cid 713 tl 1030 dql 1000\n",
      "cid 714 tl 1037 dql 1000\n",
      "cid 715 tl 1022 dql 1000\n",
      "cid 716 tl 1037 dql 1000\n",
      "cid 717 tl 1040 dql 1000\n",
      "cid 718 tl 1055 dql 1000\n",
      "cid 719 tl 1026 dql 1000\n",
      "cid 720 tl 1016 dql 1000\n",
      "cid 721 tl 999 dql 1000\n",
      "cid 722 tl 1031 dql 1000\n",
      "cid 723 tl 984 dql 1000\n",
      "cid 724 tl 987 dql 1000\n",
      "cid 725 tl 989 dql 1000\n",
      "cid 726 tl 1028 dql 1000\n",
      "cid 727 tl 1013 dql 1000\n",
      "cid 728 tl 1010 dql 1000\n",
      "cid 729 tl 1009 dql 1000\n",
      "cid 730 tl 1021 dql 1000\n",
      "cid 731 tl 1055 dql 1000\n",
      "cid 732 tl 1005 dql 1000\n",
      "cid 733 tl 1026 dql 1000\n",
      "cid 734 tl 1009 dql 1000\n",
      "cid 735 tl 1024 dql 1000\n",
      "cid 736 tl 1027 dql 1000\n",
      "cid 737 tl 1013 dql 1000\n",
      "cid 738 tl 992 dql 1000\n",
      "cid 739 tl 1036 dql 1000\n",
      "cid 740 tl 1033 dql 1000\n",
      "cid 741 tl 1003 dql 1000\n",
      "cid 742 tl 986 dql 1000\n",
      "cid 743 tl 999 dql 1000\n",
      "cid 744 tl 1030 dql 1000\n",
      "cid 745 tl 1037 dql 1000\n",
      "cid 746 tl 1050 dql 1000\n",
      "cid 747 tl 1018 dql 1000\n",
      "cid 748 tl 1003 dql 1000\n",
      "cid 749 tl 1012 dql 1000\n",
      "cid 750 tl 993 dql 1000\n",
      "cid 751 tl 990 dql 1000\n",
      "cid 752 tl 992 dql 1000\n",
      "cid 753 tl 1010 dql 1000\n",
      "cid 754 tl 1016 dql 1000\n",
      "cid 755 tl 1018 dql 1000\n",
      "cid 756 tl 1000 dql 1000\n",
      "cid 757 tl 988 dql 1000\n",
      "cid 758 tl 1012 dql 1000\n",
      "cid 759 tl 1004 dql 1000\n",
      "cid 760 tl 1014 dql 1000\n",
      "cid 761 tl 1006 dql 1000\n",
      "cid 762 tl 994 dql 1000\n",
      "cid 763 tl 1010 dql 1000\n",
      "cid 764 tl 1021 dql 1000\n",
      "cid 765 tl 1006 dql 1000\n",
      "cid 766 tl 1022 dql 1000\n",
      "cid 767 tl 1013 dql 1000\n",
      "cid 768 tl 994 dql 1000\n",
      "cid 769 tl 1013 dql 1000\n",
      "cid 770 tl 1007 dql 1000\n",
      "cid 771 tl 1040 dql 1000\n",
      "cid 772 tl 1022 dql 1000\n",
      "cid 773 tl 1015 dql 1000\n",
      "cid 774 tl 1007 dql 1000\n",
      "cid 775 tl 1008 dql 1000\n",
      "cid 776 tl 1018 dql 1000\n",
      "cid 777 tl 1013 dql 1000\n",
      "cid 778 tl 1021 dql 1000\n",
      "cid 779 tl 960 dql 1000\n",
      "cid 780 tl 1034 dql 1000\n",
      "cid 781 tl 1011 dql 1000\n",
      "cid 782 tl 995 dql 1000\n",
      "cid 783 tl 1009 dql 1000\n",
      "cid 784 tl 999 dql 1000\n",
      "cid 785 tl 994 dql 1000\n",
      "cid 786 tl 1002 dql 1000\n",
      "cid 787 tl 979 dql 1000\n",
      "cid 788 tl 1029 dql 1000\n",
      "cid 789 tl 1011 dql 1000\n",
      "cid 790 tl 988 dql 1000\n",
      "cid 791 tl 1008 dql 1000\n",
      "cid 792 tl 1020 dql 1000\n",
      "cid 793 tl 1000 dql 1000\n",
      "cid 794 tl 1014 dql 1000\n",
      "cid 795 tl 988 dql 1000\n",
      "cid 796 tl 995 dql 1000\n",
      "cid 797 tl 1036 dql 1000\n",
      "cid 798 tl 1012 dql 1000\n",
      "cid 799 tl 988 dql 1000\n",
      "cid 800 tl 989 dql 1000\n",
      "cid 801 tl 1027 dql 1000\n",
      "cid 802 tl 1033 dql 1000\n",
      "cid 803 tl 978 dql 1000\n",
      "cid 804 tl 1029 dql 1000\n",
      "cid 805 tl 995 dql 1000\n",
      "cid 806 tl 992 dql 1000\n",
      "cid 807 tl 982 dql 1000\n",
      "cid 808 tl 1002 dql 1000\n",
      "cid 809 tl 1010 dql 1000\n",
      "cid 810 tl 988 dql 1000\n",
      "cid 811 tl 992 dql 1000\n",
      "cid 812 tl 1012 dql 1000\n",
      "cid 813 tl 1024 dql 1000\n",
      "cid 814 tl 1004 dql 1000\n",
      "cid 815 tl 1016 dql 1000\n",
      "cid 816 tl 955 dql 1000\n",
      "cid 817 tl 1012 dql 1000\n",
      "cid 818 tl 999 dql 1000\n",
      "cid 819 tl 977 dql 1000\n",
      "cid 820 tl 1027 dql 1000\n",
      "cid 821 tl 979 dql 1000\n",
      "cid 822 tl 988 dql 1000\n",
      "cid 823 tl 1019 dql 1000\n",
      "cid 824 tl 981 dql 1000\n",
      "cid 825 tl 1010 dql 1000\n",
      "cid 826 tl 985 dql 1000\n",
      "cid 827 tl 986 dql 1000\n",
      "cid 828 tl 1012 dql 1000\n",
      "cid 829 tl 1006 dql 1000\n",
      "cid 830 tl 974 dql 1000\n",
      "cid 831 tl 1006 dql 1000\n",
      "cid 832 tl 985 dql 1000\n",
      "cid 833 tl 1013 dql 1000\n",
      "cid 834 tl 1010 dql 1000\n",
      "cid 835 tl 994 dql 1000\n",
      "cid 836 tl 990 dql 1000\n",
      "cid 837 tl 1011 dql 1000\n",
      "cid 838 tl 992 dql 1000\n",
      "cid 839 tl 983 dql 1000\n",
      "cid 840 tl 1000 dql 1000\n",
      "cid 841 tl 1012 dql 1000\n",
      "cid 842 tl 975 dql 1000\n",
      "cid 843 tl 975 dql 1000\n",
      "cid 844 tl 1002 dql 1000\n",
      "cid 845 tl 1003 dql 1000\n",
      "cid 846 tl 991 dql 1000\n",
      "cid 847 tl 978 dql 1000\n",
      "cid 848 tl 990 dql 1000\n",
      "cid 849 tl 987 dql 1000\n",
      "cid 850 tl 993 dql 1000\n",
      "cid 851 tl 991 dql 1000\n",
      "cid 852 tl 1011 dql 1000\n",
      "cid 853 tl 1002 dql 1000\n",
      "cid 854 tl 998 dql 1000\n",
      "cid 855 tl 993 dql 1000\n",
      "cid 856 tl 996 dql 1000\n",
      "cid 857 tl 983 dql 1000\n",
      "cid 858 tl 977 dql 1000\n",
      "cid 859 tl 979 dql 1000\n",
      "cid 860 tl 983 dql 1000\n",
      "cid 861 tl 998 dql 1000\n",
      "cid 862 tl 989 dql 1000\n",
      "cid 863 tl 1010 dql 1000\n",
      "cid 864 tl 1006 dql 1000\n",
      "cid 865 tl 977 dql 1000\n",
      "cid 866 tl 971 dql 1000\n",
      "cid 867 tl 1000 dql 1000\n",
      "cid 868 tl 965 dql 1000\n",
      "cid 869 tl 974 dql 1000\n",
      "cid 870 tl 982 dql 1000\n",
      "cid 871 tl 954 dql 1000\n",
      "cid 872 tl 1024 dql 1000\n",
      "cid 873 tl 988 dql 1000\n",
      "cid 874 tl 985 dql 1000\n",
      "cid 875 tl 979 dql 1000\n",
      "cid 876 tl 987 dql 1000\n",
      "cid 877 tl 963 dql 1000\n",
      "cid 878 tl 996 dql 1000\n",
      "cid 879 tl 980 dql 1000\n",
      "cid 880 tl 996 dql 1000\n",
      "cid 881 tl 990 dql 1000\n",
      "cid 882 tl 955 dql 1000\n",
      "cid 883 tl 968 dql 1000\n",
      "cid 884 tl 965 dql 1000\n",
      "cid 885 tl 992 dql 1000\n",
      "cid 886 tl 979 dql 1000\n",
      "cid 887 tl 995 dql 1000\n",
      "cid 888 tl 984 dql 1000\n",
      "cid 889 tl 958 dql 1000\n",
      "cid 890 tl 976 dql 1000\n",
      "cid 891 tl 948 dql 1000\n",
      "cid 892 tl 976 dql 1000\n",
      "cid 893 tl 966 dql 1000\n",
      "cid 894 tl 986 dql 1000\n",
      "cid 895 tl 953 dql 1000\n",
      "cid 896 tl 999 dql 1000\n",
      "cid 897 tl 1002 dql 1000\n",
      "cid 898 tl 981 dql 1000\n",
      "cid 899 tl 984 dql 1000\n",
      "cid 900 tl 963 dql 1000\n",
      "cid 901 tl 999 dql 1000\n",
      "cid 902 tl 972 dql 1000\n",
      "cid 903 tl 959 dql 1000\n",
      "cid 904 tl 958 dql 1000\n",
      "cid 905 tl 974 dql 1000\n",
      "cid 906 tl 952 dql 1000\n",
      "cid 907 tl 1013 dql 1000\n",
      "cid 908 tl 1008 dql 1000\n",
      "cid 909 tl 1071 dql 1000\n",
      "cid 910 tl 1025 dql 1000\n",
      "cid 911 tl 1018 dql 1000\n",
      "cid 912 tl 978 dql 1000\n",
      "cid 913 tl 985 dql 1000\n",
      "cid 914 tl 953 dql 1000\n",
      "cid 915 tl 998 dql 1000\n",
      "cid 916 tl 999 dql 1000\n",
      "cid 917 tl 973 dql 1000\n",
      "cid 918 tl 1005 dql 1000\n",
      "cid 919 tl 989 dql 1000\n",
      "cid 920 tl 947 dql 1000\n",
      "cid 921 tl 990 dql 1000\n",
      "cid 922 tl 969 dql 1000\n",
      "cid 923 tl 964 dql 1000\n",
      "cid 924 tl 964 dql 1000\n",
      "cid 925 tl 960 dql 1000\n",
      "cid 926 tl 969 dql 1000\n",
      "cid 927 tl 983 dql 1000\n",
      "cid 928 tl 979 dql 1000\n",
      "cid 929 tl 967 dql 1000\n",
      "cid 930 tl 972 dql 1000\n",
      "cid 931 tl 992 dql 1000\n",
      "cid 932 tl 979 dql 1000\n",
      "cid 933 tl 988 dql 1000\n",
      "cid 934 tl 950 dql 1000\n",
      "cid 935 tl 975 dql 1000\n",
      "cid 936 tl 973 dql 1000\n",
      "cid 937 tl 987 dql 1000\n",
      "cid 938 tl 983 dql 1000\n",
      "cid 939 tl 971 dql 1000\n",
      "cid 940 tl 923 dql 1000\n",
      "cid 941 tl 956 dql 1000\n",
      "cid 942 tl 971 dql 1000\n",
      "cid 943 tl 969 dql 1000\n",
      "cid 944 tl 990 dql 1000\n",
      "cid 945 tl 980 dql 1000\n",
      "cid 946 tl 988 dql 1000\n",
      "cid 947 tl 986 dql 1000\n",
      "cid 948 tl 984 dql 1000\n",
      "cid 949 tl 959 dql 1000\n",
      "cid 950 tl 975 dql 1000\n",
      "cid 951 tl 996 dql 1000\n",
      "cid 952 tl 973 dql 1000\n",
      "cid 953 tl 956 dql 1000\n",
      "cid 954 tl 999 dql 1000\n",
      "cid 955 tl 944 dql 1000\n",
      "cid 956 tl 977 dql 1000\n",
      "cid 957 tl 960 dql 1000\n",
      "cid 958 tl 966 dql 1000\n",
      "cid 959 tl 965 dql 1000\n",
      "cid 960 tl 940 dql 1000\n",
      "cid 961 tl 982 dql 1000\n",
      "cid 962 tl 989 dql 1000\n",
      "cid 963 tl 971 dql 1000\n",
      "cid 964 tl 964 dql 1000\n",
      "cid 965 tl 944 dql 1000\n",
      "cid 966 tl 962 dql 1000\n",
      "cid 967 tl 945 dql 1000\n",
      "cid 968 tl 973 dql 1000\n",
      "cid 969 tl 959 dql 1000\n",
      "cid 970 tl 949 dql 1000\n",
      "cid 971 tl 1006 dql 1000\n",
      "cid 972 tl 995 dql 1000\n",
      "cid 973 tl 965 dql 1000\n",
      "cid 974 tl 975 dql 1000\n",
      "cid 975 tl 947 dql 1000\n",
      "cid 976 tl 961 dql 1000\n",
      "cid 977 tl 961 dql 1000\n"
     ]
    },
    {
     "name": "stdout",
     "output_type": "stream",
     "text": [
      "cid 978 tl 939 dql 1000\n",
      "cid 979 tl 980 dql 1000\n",
      "cid 980 tl 998 dql 1000\n",
      "cid 981 tl 965 dql 1000\n",
      "cid 982 tl 977 dql 1000\n",
      "cid 983 tl 996 dql 1000\n",
      "cid 984 tl 976 dql 1000\n",
      "cid 985 tl 992 dql 1000\n",
      "cid 986 tl 1001 dql 1000\n",
      "cid 987 tl 945 dql 1000\n",
      "cid 988 tl 980 dql 1000\n",
      "cid 989 tl 1001 dql 1000\n",
      "cid 990 tl 974 dql 1000\n",
      "cid 991 tl 963 dql 1000\n",
      "cid 992 tl 994 dql 1000\n",
      "cid 993 tl 962 dql 1000\n",
      "cid 994 tl 1004 dql 1000\n",
      "cid 995 tl 931 dql 1000\n",
      "cid 996 tl 927 dql 1000\n",
      "cid 997 tl 965 dql 1000\n",
      "cid 998 tl 954 dql 1000\n",
      "cid 999 tl 972 dql 1000\n",
      "cid 1000 tl 997 dql 1000\n",
      "cid 1001 tl 969 dql 1000\n",
      "cid 1002 tl 938 dql 1000\n",
      "cid 1003 tl 970 dql 1000\n",
      "cid 1004 tl 958 dql 1000\n",
      "cid 1005 tl 947 dql 1000\n",
      "cid 1006 tl 967 dql 1000\n",
      "cid 1007 tl 983 dql 1000\n",
      "cid 1008 tl 960 dql 1000\n",
      "cid 1009 tl 1008 dql 1000\n",
      "cid 1010 tl 998 dql 1000\n",
      "cid 1011 tl 989 dql 1000\n",
      "cid 1012 tl 977 dql 1000\n",
      "cid 1013 tl 986 dql 1000\n",
      "cid 1014 tl 957 dql 1000\n",
      "cid 1015 tl 959 dql 1000\n",
      "cid 1016 tl 964 dql 1000\n",
      "cid 1017 tl 960 dql 1000\n",
      "cid 1018 tl 979 dql 1000\n",
      "cid 1019 tl 983 dql 1000\n",
      "cid 1020 tl 960 dql 1000\n",
      "cid 1021 tl 953 dql 1000\n",
      "cid 1022 tl 973 dql 1000\n",
      "cid 1023 tl 958 dql 1000\n",
      "cid 1024 tl 955 dql 1000\n",
      "cid 1025 tl 965 dql 1000\n",
      "cid 1026 tl 949 dql 1000\n",
      "cid 1027 tl 966 dql 1000\n",
      "cid 1028 tl 941 dql 1000\n",
      "cid 1029 tl 999 dql 1000\n",
      "cid 1030 tl 961 dql 1000\n",
      "cid 1031 tl 951 dql 1000\n",
      "cid 1032 tl 950 dql 1000\n",
      "cid 1033 tl 963 dql 1000\n",
      "cid 1034 tl 953 dql 1000\n",
      "cid 1035 tl 972 dql 1000\n",
      "cid 1036 tl 963 dql 1000\n",
      "cid 1037 tl 968 dql 1000\n",
      "cid 1038 tl 976 dql 1000\n",
      "cid 1039 tl 944 dql 1000\n",
      "cid 1040 tl 978 dql 1000\n",
      "cid 1041 tl 950 dql 1000\n",
      "cid 1042 tl 975 dql 1000\n",
      "cid 1043 tl 941 dql 1000\n",
      "cid 1044 tl 923 dql 1000\n",
      "cid 1045 tl 972 dql 1000\n",
      "cid 1046 tl 947 dql 1000\n",
      "cid 1047 tl 946 dql 1000\n",
      "cid 1048 tl 941 dql 1000\n",
      "cid 1049 tl 937 dql 1000\n",
      "cid 1050 tl 957 dql 1000\n",
      "cid 1051 tl 941 dql 1000\n",
      "cid 1052 tl 923 dql 1000\n",
      "cid 1053 tl 938 dql 1000\n",
      "cid 1054 tl 949 dql 1000\n",
      "cid 1055 tl 942 dql 1000\n",
      "cid 1056 tl 935 dql 1000\n",
      "cid 1057 tl 925 dql 1000\n",
      "cid 1058 tl 944 dql 1000\n",
      "cid 1059 tl 929 dql 1000\n",
      "cid 1060 tl 938 dql 1000\n",
      "cid 1061 tl 941 dql 1000\n",
      "cid 1062 tl 978 dql 1000\n",
      "cid 1063 tl 963 dql 1000\n",
      "cid 1064 tl 947 dql 1000\n",
      "cid 1065 tl 924 dql 1000\n",
      "cid 1066 tl 953 dql 1000\n",
      "cid 1067 tl 982 dql 1000\n",
      "cid 1068 tl 934 dql 1000\n",
      "cid 1069 tl 973 dql 1000\n",
      "cid 1070 tl 979 dql 1000\n",
      "cid 1071 tl 945 dql 1000\n",
      "cid 1072 tl 931 dql 1000\n"
     ]
    }
   ],
   "source": [
    "# checking: dQdV always len=1000\n",
    "bcc = batch1['b1c5']['cycles']\n",
    "for cid, cycle in bcc.items():\n",
    "    print('cid', cid, 'tl', len(cycle['t']), 'dql', len(cycle['dQdV']))"
   ]
  },
  {
   "cell_type": "code",
   "execution_count": 169,
   "metadata": {},
   "outputs": [
    {
     "data": {
      "text/plain": [
       "[<matplotlib.lines.Line2D at 0x10fc07d68>]"
      ]
     },
     "execution_count": 169,
     "metadata": {},
     "output_type": "execute_result"
    },
    {
     "data": {
      "image/png": "[encoded data removed]",
      "text/plain": [
       "<Figure size 432x288 with 1 Axes>"
      ]
     },
     "metadata": {
      "needs_background": "light"
     },
     "output_type": "display_data"
    }
   ],
   "source": [
    "# dQ/dV over t ?_?\n",
    "plt.plot(batch1['b1c43']['cycles']['10']['t'][0:1000], batch1['b1c43']['cycles']['10']['dQdV'])"
   ]
  },
  {
   "cell_type": "code",
   "execution_count": 104,
   "metadata": {},
   "outputs": [
    {
     "data": {
      "image/png": "[encoded data removed]",
      "text/plain": [
       "<Figure size 432x288 with 1 Axes>"
      ]
     },
     "metadata": {
      "needs_background": "light"
     },
     "output_type": "display_data"
    }
   ],
   "source": [
    "# dQdV, Qdlin:  what is the relationship between these two?\n",
    "plt.plot(batch1['b1c43']['cycles']['10']['Qdlin'], label='Qdlin')\n",
    "plt.plot(batch1['b1c43']['cycles']['10']['dQdV'], label='dQdV')\n",
    "plt.legend()\n",
    "plt.show()"
   ]
  },
  {
   "cell_type": "code",
   "execution_count": 173,
   "metadata": {},
   "outputs": [
    {
     "data": {
      "image/png": "[encoded data removed]",
      "text/plain": [
       "<Figure size 432x288 with 1 Axes>"
      ]
     },
     "metadata": {
      "needs_background": "light"
     },
     "output_type": "display_data"
    }
   ],
   "source": [
    "# Qc & Qd\n",
    "plt.plot(bat_dict['b1c43']['cycles']['10']['t'], bat_dict['b1c43']['cycles']['10']['Qc'], label='Qc')\n",
    "plt.plot(bat_dict['b1c43']['cycles']['10']['t'], bat_dict['b1c43']['cycles']['10']['Qd'], label='Qd')\n",
    "plt.xlabel('time (0.1 minutes)')\n",
    "plt.ylabel('charge (coulombs)')  # 1C = 1A * 1s,  1 Coulomb = constant current of 1 Ampere in 1 second\n",
    "plt.legend()\n",
    "plt.show()"
   ]
  },
  {
   "cell_type": "markdown",
   "metadata": {},
   "source": [
    "### 1.4.9 t (time)"
   ]
  },
  {
   "cell_type": "code",
   "execution_count": 106,
   "metadata": {},
   "outputs": [
    {
     "data": {
      "text/plain": [
       "array([0.00000000e+00, 2.56166667e-03, 3.01666667e-03, ...,\n",
       "       5.11831683e+01, 5.11938200e+01, 5.11998900e+01])"
      ]
     },
     "execution_count": 106,
     "metadata": {},
     "output_type": "execute_result"
    }
   ],
   "source": [
    "# time elapsed at each step\n",
    "# measured in minutes?\n",
    "batch1[\"b1c0\"][\"cycles\"][\"1054\"][\"t\"]"
   ]
  },
  {
   "cell_type": "code",
   "execution_count": 83,
   "metadata": {
    "scrolled": true
   },
   "outputs": [
    {
     "data": {
      "text/plain": [
       "array([2.0264158, 2.0393877, 2.0516596, ..., 2.0124063, 2.0224609,\n",
       "       2.0250397])"
      ]
     },
     "execution_count": 83,
     "metadata": {},
     "output_type": "execute_result"
    }
   ],
   "source": [
    "#len(batch1[\"b1c0\"]['cycles']['10']['dQdV'])  # len 1189, keys ['cycle_life', 'charge_policy', 'summary', 'cycles']\n",
    "batch1[\"b1c0\"]['cycles']['1']['V']"
   ]
  },
  {
   "cell_type": "markdown",
   "metadata": {},
   "source": [
    "# Continue original notebook"
   ]
  },
  {
   "cell_type": "code",
   "execution_count": 4,
   "metadata": {},
   "outputs": [],
   "source": [
    "# batch2 = pickle.load(open(r'/media/hannes/TOSHIBA EXT/matlab/batch2.pkl','rb'))\n",
    "# batch2 = pickle.load(open(r'.\\Data\\batch2.pkl','rb'))\n",
    "batch2 = pickle.load(open(r'./Data/batch2.pkl', 'rb'))    # Wendy"
   ]
  },
  {
   "cell_type": "code",
   "execution_count": 5,
   "metadata": {
    "collapsed": true
   },
   "outputs": [],
   "source": [
    "# There are four cells from batch1 that carried into batch2, we'll remove the data from batch2\n",
    "# and put it with the correct cell from batch1\n",
    "batch2_keys = ['b2c7', 'b2c8', 'b2c9', 'b2c15', 'b2c16']\n",
    "batch1_keys = ['b1c0', 'b1c1', 'b1c2', 'b1c3', 'b1c4']\n",
    "add_len = [662, 981, 1060, 208, 482];"
   ]
  },
  {
   "cell_type": "code",
   "execution_count": 6,
   "metadata": {},
   "outputs": [],
   "source": [
    "for i, bk in enumerate(batch1_keys):\n",
    "    batch1[bk]['cycle_life'] = batch1[bk]['cycle_life'] + add_len[i]\n",
    "    for j in batch1[bk]['summary'].keys():\n",
    "        if j == 'cycle':\n",
    "            batch1[bk]['summary'][j] = np.hstack((batch1[bk]['summary'][j], batch2[batch2_keys[i]]['summary'][j] + len(batch1[bk]['summary'][j])))\n",
    "        else:\n",
    "            batch1[bk]['summary'][j] = np.hstack((batch1[bk]['summary'][j], batch2[batch2_keys[i]]['summary'][j]))\n",
    "    last_cycle = len(batch1[bk]['cycles'].keys())\n",
    "    for j, jk in enumerate(batch2[batch2_keys[i]]['cycles'].keys()):\n",
    "        batch1[bk]['cycles'][str(last_cycle + j)] = batch2[batch2_keys[i]]['cycles'][jk]"
   ]
  },
  {
   "cell_type": "code",
   "execution_count": 7,
   "metadata": {
    "collapsed": true
   },
   "outputs": [],
   "source": [
    "del batch2['b2c7']\n",
    "del batch2['b2c8']\n",
    "del batch2['b2c9']\n",
    "del batch2['b2c15']\n",
    "del batch2['b2c16']"
   ]
  },
  {
   "cell_type": "code",
   "execution_count": 8,
   "metadata": {},
   "outputs": [
    {
     "data": {
      "text/plain": [
       "43"
      ]
     },
     "execution_count": 8,
     "metadata": {},
     "output_type": "execute_result"
    }
   ],
   "source": [
    "numBat2 = len(batch2.keys())\n",
    "numBat2"
   ]
  },
  {
   "cell_type": "code",
   "execution_count": 9,
   "metadata": {
    "collapsed": true
   },
   "outputs": [],
   "source": [
    "# batch3 = pickle.load(open(r'.\\Data\\batch3.pkl','rb'))\n",
    "# batch3 = pickle.load(open(r'/media/hannes/TOSHIBA EXT/matlab/batch3.pkl','rb'))\n",
    "batch3 = pickle.load(open(r'./Data/batch3.pkl', 'rb'))    # Wendy\n",
    "\n",
    "# remove noisy channels from batch3\n",
    "del batch3['b3c37']\n",
    "del batch3['b3c2']\n",
    "del batch3['b3c23']\n",
    "del batch3['b3c32']\n",
    "del batch3['b3c38']\n",
    "del batch3['b3c39']"
   ]
  },
  {
   "cell_type": "code",
   "execution_count": 10,
   "metadata": {},
   "outputs": [
    {
     "data": {
      "text/plain": [
       "40"
      ]
     },
     "execution_count": 10,
     "metadata": {},
     "output_type": "execute_result"
    }
   ],
   "source": [
    "numBat3 = len(batch3.keys())\n",
    "numBat3"
   ]
  },
  {
   "cell_type": "code",
   "execution_count": 11,
   "metadata": {},
   "outputs": [
    {
     "data": {
      "text/plain": [
       "124"
      ]
     },
     "execution_count": 11,
     "metadata": {},
     "output_type": "execute_result"
    }
   ],
   "source": [
    "numBat = numBat1 + numBat2 + numBat3\n",
    "numBat"
   ]
  },
  {
   "cell_type": "code",
   "execution_count": 12,
   "metadata": {
    "collapsed": true
   },
   "outputs": [],
   "source": [
    "bat_dict = {**batch1, **batch2, **batch3}"
   ]
  },
  {
   "cell_type": "code",
   "execution_count": 13,
   "metadata": {},
   "outputs": [
    {
     "data": {
      "text/plain": [
       "Text(0, 0.5, 'Discharge Capacity (Ah)')"
      ]
     },
     "execution_count": 13,
     "metadata": {},
     "output_type": "execute_result"
    },
    {
     "data": {
      "image/png": "[encoded data removed]",
      "text/plain": [
       "<Figure size 432x288 with 1 Axes>"
      ]
     },
     "metadata": {
      "needs_background": "light"
     },
     "output_type": "display_data"
    }
   ],
   "source": [
    "for i in bat_dict.keys():\n",
    "    plt.plot(bat_dict[i]['summary']['cycle'], bat_dict[i]['summary']['QD'])\n",
    "plt.xlabel('Cycle Number')\n",
    "plt.ylabel('Discharge Capacity (Ah)')"
   ]
  },
  {
   "cell_type": "markdown",
   "metadata": {},
   "source": [
    "### Train and Test Split\n",
    "If you are interested in using the same train/test split as the paper, use the indices specified below"
   ]
  },
  {
   "cell_type": "code",
   "execution_count": 14,
   "metadata": {
    "collapsed": true
   },
   "outputs": [],
   "source": [
    "test_ind = np.hstack((np.arange(0,(numBat1+numBat2),2),83))\n",
    "train_ind = np.arange(1,(numBat1+numBat2-1),2)\n",
    "secondary_test_ind = np.arange(numBat-numBat3,numBat);"
   ]
  }
 ],
 "metadata": {
  "kernelspec": {
   "display_name": "Python 3",
   "language": "python",
   "name": "python3"
  },
  "language_info": {
   "codemirror_mode": {
    "name": "ipython",
    "version": 3
   },
   "file_extension": ".py",
   "mimetype": "text/x-python",
   "name": "python",
   "nbconvert_exporter": "python",
   "pygments_lexer": "ipython3",
   "version": "3.7.3"
  }
 },
 "nbformat": 4,
 "nbformat_minor": 2
}
