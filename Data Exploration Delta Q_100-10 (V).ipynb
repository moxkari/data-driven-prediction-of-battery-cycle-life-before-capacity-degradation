{
 "cells": [
  {
   "cell_type": "code",
   "execution_count": null,
   "metadata": {},
   "outputs": [],
   "source": [
    "# Replicating Load Data logic\n",
    "\n",
    "import numpy as np\n",
    "import matplotlib.pyplot as plt\n",
    "import pickle\n",
    "from pathlib import Path\n",
    "\n",
    "path1 = Path(\"Data/batch1.pkl\")\n",
    "batch1 = pickle.load(open(path1, 'rb'))\n",
    "\n",
    "#remove batteries that do not reach 80% capacity\n",
    "del batch1['b1c8']\n",
    "del batch1['b1c10']\n",
    "del batch1['b1c12']\n",
    "del batch1['b1c13']\n",
    "del batch1['b1c22']\n",
    "\n",
    "numBat1 = len(batch1.keys())\n",
    "numBat1"
   ]
  },
  {
   "cell_type": "code",
   "execution_count": null,
   "metadata": {},
   "outputs": [],
   "source": [
    "# randomly selected sample cell\n",
    "qd_sample = None\n",
    "while not qd_sample:\n",
    "    idx = np.random.choice(numBat1, 1)\n",
    "    idx_key = \"b1c\" + str(*idx)\n",
    "    print(idx_key)\n",
    "    if idx_key in batch1.keys():\n",
    "        qd_sample = batch1[idx_key]\n",
    "idx_key"
   ]
  },
  {
   "cell_type": "markdown",
   "metadata": {},
   "source": [
    "### V over Qd"
   ]
  },
  {
   "cell_type": "code",
   "execution_count": null,
   "metadata": {},
   "outputs": [],
   "source": [
    "plt.figure(figsize=(20,10))\n",
    "for i, cycle in qd_sample[\"cycles\"].items():\n",
    "    if (int(i)==10) | (int(i) % 100 == 0):\n",
    "        plt.plot(cycle[\"Qd\"], cycle[\"V\"], label=i)\n",
    "plt.title('Voltage over Discharge Capacity, Select Cycles')\n",
    "plt.ylim(2,3.6)\n",
    "plt.grid()\n",
    "plt.legend()\n",
    "plt.show()"
   ]
  },
  {
   "cell_type": "markdown",
   "metadata": {},
   "source": [
    "### Qdlin over evenly spaced 1000 voltage points(?)"
   ]
  },
  {
   "cell_type": "code",
   "execution_count": null,
   "metadata": {},
   "outputs": [],
   "source": [
    "plt.figure(figsize=(20,10))\n",
    "v_space = np.linspace(3.5, 2.0, 1000)\n",
    "for i, cycle in qd_sample[\"cycles\"].items():\n",
    "    if (int(i)>0) & (int(i) % 100 == 0):\n",
    "        plt.plot(cycle[\"Qdlin\"], v_space, label=i)\n",
    "plt.title('Qdlin, Select Cycles')\n",
    "plt.grid()\n",
    "plt.legend()\n",
    "plt.show()"
   ]
  },
  {
   "cell_type": "markdown",
   "metadata": {},
   "source": [
    "### delta(Q_100, Q_10) over V:  _Done Using Qdlin !!!_"
   ]
  },
  {
   "cell_type": "code",
   "execution_count": null,
   "metadata": {},
   "outputs": [],
   "source": [
    "v_space = np.linspace(3.5,2,1000)   # does this make sense?\n",
    "plt.figure(figsize=(3,10))\n",
    "for cell in batch1.values():\n",
    "    c10 = cell['cycles']['10']\n",
    "    c100 = cell['cycles']['100']\n",
    "    dQ_100_10 = c100['Qdlin'] - c10['Qdlin']\n",
    "    plt.plot(dQ_100_10, v_space)\n",
    "plt.grid()\n",
    "plt.show()"
   ]
  },
  {
   "cell_type": "code",
   "execution_count": null,
   "metadata": {},
   "outputs": [],
   "source": []
  }
 ],
 "metadata": {
  "kernelspec": {
   "display_name": "Python 3",
   "language": "python",
   "name": "python3"
  },
  "language_info": {
   "codemirror_mode": {
    "name": "ipython",
    "version": 3
   },
   "file_extension": ".py",
   "mimetype": "text/x-python",
   "name": "python",
   "nbconvert_exporter": "python",
   "pygments_lexer": "ipython3",
   "version": "3.7.3"
  }
 },
 "nbformat": 4,
 "nbformat_minor": 2
}
