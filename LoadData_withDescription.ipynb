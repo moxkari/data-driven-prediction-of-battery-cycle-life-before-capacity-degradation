{
 "cells": [
  {
   "cell_type": "code",
   "execution_count": null,
   "metadata": {},
   "outputs": [],
   "source": [
    "import numpy as np\n",
    "import matplotlib.pyplot as plt\n",
    "import pickle"
   ]
  },
  {
   "cell_type": "code",
   "execution_count": null,
   "metadata": {},
   "outputs": [],
   "source": [
    "# batch1 = pickle.load(open(r'.\\Data\\batch1.pkl', 'rb'))   # orig\n",
    "batch1 = pickle.load(open(r'./Data/batch1.pkl', 'rb'))    # Wendy\n",
    "#batch1 = pickle.load(open(r'/media/hannes/TOSHIBA EXT/matlab/batch1.pkl', 'rb'))  # Hannes\n",
    "\n",
    "#remove batteries that do not reach 80% capacity\n",
    "del batch1['b1c8']\n",
    "del batch1['b1c10']\n",
    "del batch1['b1c12']\n",
    "del batch1['b1c13']\n",
    "del batch1['b1c22']"
   ]
  },
  {
   "cell_type": "code",
   "execution_count": null,
   "metadata": {},
   "outputs": [],
   "source": [
    "numBat1 = len(batch1.keys())\n",
    "numBat1"
   ]
  },
  {
   "cell_type": "code",
   "execution_count": null,
   "metadata": {},
   "outputs": [],
   "source": [
    "batch1.keys()"
   ]
  },
  {
   "cell_type": "markdown",
   "metadata": {},
   "source": [
    "# 1 Cell"
   ]
  },
  {
   "cell_type": "code",
   "execution_count": null,
   "metadata": {},
   "outputs": [],
   "source": [
    "# this is all data for cell 0 from batch 1\n",
    "# The cleaned data set from all 3 batches contains 124 cells\n",
    "batch1[\"b1c0\"].keys() "
   ]
  },
  {
   "cell_type": "markdown",
   "metadata": {},
   "source": [
    "## Dict structure\n",
    "1. Cell<br>\n",
    "    1.1 Cycle Life<br>\n",
    "    1.2 Charge Policy<br>\n",
    "    1.3 Summary (per charging cycle)\n",
    "        1.3.1 Internal Resistance (Ohm)\n",
    "        1.3.2 Quantity of Charge (Ah)\n",
    "        1.3.3 Quantity of Discharge (Ah)\n",
    "        1.3.4 Temp Avg (C°)\n",
    "        1.3.5 Temp min (C°)\n",
    "        1.3.6 Temp Max (C°)\n",
    "        1.3.7 Charge time (minutes)\n",
    "        1.3.8 Index\n",
    "    1.4 Cycle (all data points per cycle)\n",
    "        1.4.1 I ?\n",
    "        1.4.2 Quantity of Charge (Ah)\n",
    "        1.4.3 Quantity of Discharge (Ah)\n",
    "        1.4.4 Qdlin ?\n",
    "        1.4.5 Temperature (C°)\n",
    "        1.4.6 Tdlin ?\n",
    "        1.4.7 Volt\n",
    "        1.4.8 dQdV ?\n",
    "        1.4.9 time elapsed        "
   ]
  },
  {
   "cell_type": "markdown",
   "metadata": {},
   "source": [
    "# 1.1 Cycle Life"
   ]
  },
  {
   "cell_type": "code",
   "execution_count": null,
   "metadata": {
    "scrolled": true
   },
   "outputs": [],
   "source": [
    "batch1[\"b1c0\"][\"cycle_life\"] # total number of cycles measured"
   ]
  },
  {
   "cell_type": "markdown",
   "metadata": {},
   "source": [
    "# 1.2 Charge Policy"
   ]
  },
  {
   "cell_type": "code",
   "execution_count": null,
   "metadata": {},
   "outputs": [],
   "source": [
    "batch1[\"b1c0\"][\"charge_policy\"]"
   ]
  },
  {
   "cell_type": "markdown",
   "metadata": {},
   "source": [
    "# 1.3 Summary (for each charging cycle)"
   ]
  },
  {
   "cell_type": "code",
   "execution_count": null,
   "metadata": {
    "scrolled": true
   },
   "outputs": [],
   "source": [
    "batch1[\"b1c0\"][\"summary\"].keys()"
   ]
  },
  {
   "cell_type": "markdown",
   "metadata": {},
   "source": [
    "### 1.3.1 Internal resistance"
   ]
  },
  {
   "cell_type": "code",
   "execution_count": null,
   "metadata": {},
   "outputs": [],
   "source": [
    "batch1[\"b1c0\"][\"summary\"][\"IR\"] # Measured in Ohm?"
   ]
  },
  {
   "cell_type": "markdown",
   "metadata": {},
   "source": [
    "### 1.3.2/3 Quantity of charge/discharge"
   ]
  },
  {
   "cell_type": "code",
   "execution_count": null,
   "metadata": {},
   "outputs": [],
   "source": [
    "# Q is used to denote a quantity of electricity or charge. Measured in Ah.\n",
    "batch1[\"b1c0\"][\"summary\"][\"QC\"]\n",
    "batch1[\"b1c0\"][\"summary\"][\"QD\"] "
   ]
  },
  {
   "cell_type": "markdown",
   "metadata": {},
   "source": [
    "### 1.3.4/5/6 Temperature mean/min/max"
   ]
  },
  {
   "cell_type": "code",
   "execution_count": null,
   "metadata": {},
   "outputs": [],
   "source": [
    "# measured in Celcius?\n",
    "batch1[\"b1c0\"][\"summary\"][\"Tavg\"]\n",
    "batch1[\"b1c0\"][\"summary\"][\"Tmin\"]\n",
    "batch1[\"b1c0\"][\"summary\"][\"Tmax\"]"
   ]
  },
  {
   "cell_type": "markdown",
   "metadata": {},
   "source": [
    "### 1.3.7 Charge time"
   ]
  },
  {
   "cell_type": "code",
   "execution_count": null,
   "metadata": {},
   "outputs": [],
   "source": [
    "batch1[\"b1c0\"][\"summary\"][\"chargetime\"] # measured in minutes?"
   ]
  },
  {
   "cell_type": "markdown",
   "metadata": {},
   "source": [
    "### 1.3.8 Cycle (index)"
   ]
  },
  {
   "cell_type": "code",
   "execution_count": null,
   "metadata": {},
   "outputs": [],
   "source": [
    "batch1[\"b1c0\"][\"summary\"][\"cycle\"] # Number/index of charging cycle"
   ]
  },
  {
   "cell_type": "markdown",
   "metadata": {},
   "source": [
    "# 1.4 Cycles"
   ]
  },
  {
   "cell_type": "code",
   "execution_count": null,
   "metadata": {},
   "outputs": [],
   "source": [
    "list(batch1[\"b1c0\"][\"cycles\"].keys())[-5:-1] # For this cell they measured 1188 charging cycles"
   ]
  },
  {
   "cell_type": "markdown",
   "metadata": {},
   "source": [
    "### Get all data from one exemplary charging cycle"
   ]
  },
  {
   "cell_type": "code",
   "execution_count": null,
   "metadata": {},
   "outputs": [],
   "source": [
    "batch1[\"b1c0\"][\"cycles\"][\"1054\"].keys()"
   ]
  },
  {
   "cell_type": "markdown",
   "metadata": {},
   "source": [
    "### 1.4.1/2/3 I (index), Qc (charge) and Qd (discharge)"
   ]
  },
  {
   "cell_type": "code",
   "execution_count": null,
   "metadata": {},
   "outputs": [],
   "source": [
    "# Why are I, Qc and Qd identical?\n",
    "# When building the pickle all of them were set to \"Qc\"\n",
    "#assert sorted(batch1[\"b1c0\"][\"cycles\"][\"1054\"][\"I\"]) == sorted(batch1[\"b1c0\"][\"cycles\"][\"1054\"][\"Qc\"])\n",
    "#assert sorted(batch1[\"b1c0\"][\"cycles\"][\"1054\"][\"I\"]) == sorted(batch1[\"b1c0\"][\"cycles\"][\"1054\"][\"Qd\"])\n",
    "batch1[\"b1c0\"][\"cycles\"][\"1054\"][\"I\"]"
   ]
  },
  {
   "cell_type": "markdown",
   "metadata": {},
   "source": [
    "### 1.4.4 Qdlin (linear charge)"
   ]
  },
  {
   "cell_type": "code",
   "execution_count": null,
   "metadata": {},
   "outputs": [],
   "source": [
    "# Is Qdlin a smoothed out version of Qd?\n",
    "plt.plot(batch1[\"b1c0\"][\"cycles\"][\"1054\"][\"Qd\"], label='Qd')\n",
    "plt.plot(batch1[\"b1c0\"][\"cycles\"][\"1054\"][\"Qdlin\"], label='Qdlin')\n",
    "plt.legend()\n",
    "plt.show()"
   ]
  },
  {
   "cell_type": "markdown",
   "metadata": {},
   "source": [
    "### 1.4.5 T (temperature)"
   ]
  },
  {
   "cell_type": "code",
   "execution_count": null,
   "metadata": {},
   "outputs": [],
   "source": [
    "batch1[\"b1c0\"][\"cycles\"][\"1054\"][\"T\"]"
   ]
  },
  {
   "cell_type": "markdown",
   "metadata": {},
   "source": [
    "### 1.4.6 Tdlin"
   ]
  },
  {
   "cell_type": "code",
   "execution_count": null,
   "metadata": {},
   "outputs": [],
   "source": [
    "# Is Tdlin a smoothed out version of T? Most likely not\n",
    "plt.plot(batch1[\"b1c0\"][\"cycles\"][\"1054\"][\"T\"], label='T')\n",
    "plt.plot(batch1[\"b1c0\"][\"cycles\"][\"1054\"][\"Tdlin\"], label='Tdlin')\n",
    "plt.legend()\n",
    "plt.show()"
   ]
  },
  {
   "cell_type": "markdown",
   "metadata": {},
   "source": [
    "### 1.4.7 V (Volt)"
   ]
  },
  {
   "cell_type": "code",
   "execution_count": null,
   "metadata": {},
   "outputs": [],
   "source": [
    "batch1[\"b1c0\"][\"cycles\"][\"1054\"][\"V\"]"
   ]
  },
  {
   "cell_type": "markdown",
   "metadata": {},
   "source": [
    "### 1.4.8 dQdV"
   ]
  },
  {
   "cell_type": "code",
   "execution_count": null,
   "metadata": {},
   "outputs": [],
   "source": [
    "# Delta of Q and V?\n",
    "# This has len(1000), not 1051 like the other features\n",
    "batch1[\"b1c0\"][\"cycles\"][\"1054\"][\"dQdV\"]"
   ]
  },
  {
   "cell_type": "code",
   "execution_count": null,
   "metadata": {},
   "outputs": [],
   "source": [
    "# checking: dQdV always len=1000\n",
    "bcc = batch1['b1c5']['cycles']\n",
    "for cid, cycle in bcc.items():\n",
    "    print('cid', cid, 'tl', len(cycle['t']), 'dql', len(cycle['dQdV']))"
   ]
  },
  {
   "cell_type": "code",
   "execution_count": null,
   "metadata": {},
   "outputs": [],
   "source": [
    "# dQ/dV over ?_?\n",
    "plt.plot(batch1['b1c43']['cycles']['10']['t'][0:1000], batch1['b1c43']['cycles']['10']['dQdV'])"
   ]
  },
  {
   "cell_type": "code",
   "execution_count": null,
   "metadata": {},
   "outputs": [],
   "source": [
    "# plot dQdV's for one test cell\n",
    "plt.figure(figsize=(20,10))\n",
    "for i, cycle in batch1[\"b1c7\"][\"cycles\"].items():\n",
    "    if int(i) % 200 == 0:\n",
    "        plt.plot(cycle[\"dQdV\"][:100], label=i)\n",
    "plt.title('dQdV, 1st 100 steps')\n",
    "plt.legend()\n",
    "plt.show()"
   ]
  },
  {
   "cell_type": "code",
   "execution_count": null,
   "metadata": {},
   "outputs": [],
   "source": [
    "# dQdV, Qdlin:  what is the relationship between these two?\n",
    "plt.plot(batch1['b1c43']['cycles']['10']['Qdlin'], label='Qdlin')\n",
    "plt.plot(batch1['b1c43']['cycles']['10']['dQdV'], label='dQdV')\n",
    "plt.legend()\n",
    "plt.show()"
   ]
  },
  {
   "cell_type": "code",
   "execution_count": null,
   "metadata": {},
   "outputs": [],
   "source": [
    "# Qc & Qd\n",
    "plt.plot(batch1['b1c43']['cycles']['10']['t'], batch1['b1c43']['cycles']['10']['Qc'], label='Qc')\n",
    "plt.plot(batch1['b1c43']['cycles']['10']['t'], batch1['b1c43']['cycles']['10']['Qd'], label='Qd')\n",
    "plt.xlabel('time (0.1 minutes)')\n",
    "plt.ylabel('charge (coulombs)')  # 1C = 1A * 1s,  1 Coulomb = constant current of 1 Ampere in 1 second\n",
    "plt.legend()\n",
    "plt.show()"
   ]
  },
  {
   "cell_type": "markdown",
   "metadata": {},
   "source": [
    "### 1.4.9 t (time)"
   ]
  },
  {
   "cell_type": "code",
   "execution_count": null,
   "metadata": {},
   "outputs": [],
   "source": [
    "# time elapsed at each step\n",
    "# measured in minutes?\n",
    "batch1[\"b1c0\"][\"cycles\"][\"1054\"][\"t\"]"
   ]
  },
  {
   "cell_type": "code",
   "execution_count": null,
   "metadata": {
    "scrolled": true
   },
   "outputs": [],
   "source": [
    "#len(batch1[\"b1c0\"]['cycles']['10']['dQdV'])  # len 1189, keys ['cycle_life', 'charge_policy', 'summary', 'cycles']\n",
    "batch1[\"b1c0\"]['cycles']['1']['V']"
   ]
  },
  {
   "cell_type": "markdown",
   "metadata": {},
   "source": [
    "# Continue original notebook"
   ]
  },
  {
   "cell_type": "code",
   "execution_count": null,
   "metadata": {},
   "outputs": [],
   "source": [
    "# batch2 = pickle.load(open(r'/media/hannes/TOSHIBA EXT/matlab/batch2.pkl','rb'))\n",
    "# batch2 = pickle.load(open(r'.\\Data\\batch2.pkl','rb'))\n",
    "batch2 = pickle.load(open(r'./Data/batch2.pkl', 'rb'))    # Wendy"
   ]
  },
  {
   "cell_type": "code",
   "execution_count": null,
   "metadata": {},
   "outputs": [],
   "source": [
    "# There are four cells from batch1 that carried into batch2, we'll remove the data from batch2\n",
    "# and put it with the correct cell from batch1\n",
    "batch2_keys = ['b2c7', 'b2c8', 'b2c9', 'b2c15', 'b2c16']\n",
    "batch1_keys = ['b1c0', 'b1c1', 'b1c2', 'b1c3', 'b1c4']\n",
    "add_len = [662, 981, 1060, 208, 482];"
   ]
  },
  {
   "cell_type": "code",
   "execution_count": null,
   "metadata": {},
   "outputs": [],
   "source": [
    "for i, bk in enumerate(batch1_keys):\n",
    "    batch1[bk]['cycle_life'] = batch1[bk]['cycle_life'] + add_len[i]\n",
    "    for j in batch1[bk]['summary'].keys():\n",
    "        if j == 'cycle':\n",
    "            batch1[bk]['summary'][j] = np.hstack((batch1[bk]['summary'][j], batch2[batch2_keys[i]]['summary'][j] + len(batch1[bk]['summary'][j])))\n",
    "        else:\n",
    "            batch1[bk]['summary'][j] = np.hstack((batch1[bk]['summary'][j], batch2[batch2_keys[i]]['summary'][j]))\n",
    "    last_cycle = len(batch1[bk]['cycles'].keys())\n",
    "    for j, jk in enumerate(batch2[batch2_keys[i]]['cycles'].keys()):\n",
    "        batch1[bk]['cycles'][str(last_cycle + j)] = batch2[batch2_keys[i]]['cycles'][jk]"
   ]
  },
  {
   "cell_type": "code",
   "execution_count": null,
   "metadata": {},
   "outputs": [],
   "source": [
    "del batch2['b2c7']\n",
    "del batch2['b2c8']\n",
    "del batch2['b2c9']\n",
    "del batch2['b2c15']\n",
    "del batch2['b2c16']"
   ]
  },
  {
   "cell_type": "code",
   "execution_count": null,
   "metadata": {},
   "outputs": [],
   "source": [
    "numBat2 = len(batch2.keys())\n",
    "numBat2"
   ]
  },
  {
   "cell_type": "code",
   "execution_count": null,
   "metadata": {},
   "outputs": [],
   "source": [
    "# batch3 = pickle.load(open(r'.\\Data\\batch3.pkl','rb'))\n",
    "# batch3 = pickle.load(open(r'/media/hannes/TOSHIBA EXT/matlab/batch3.pkl','rb'))\n",
    "batch3 = pickle.load(open(r'./Data/batch3.pkl', 'rb'))    # Wendy\n",
    "\n",
    "# remove noisy channels from batch3\n",
    "del batch3['b3c37']\n",
    "del batch3['b3c2']\n",
    "del batch3['b3c23']\n",
    "del batch3['b3c32']\n",
    "del batch3['b3c38']\n",
    "del batch3['b3c39']"
   ]
  },
  {
   "cell_type": "code",
   "execution_count": null,
   "metadata": {},
   "outputs": [],
   "source": [
    "numBat3 = len(batch3.keys())\n",
    "numBat3"
   ]
  },
  {
   "cell_type": "code",
   "execution_count": null,
   "metadata": {},
   "outputs": [],
   "source": [
    "numBat = numBat1 + numBat2 + numBat3\n",
    "numBat"
   ]
  },
  {
   "cell_type": "code",
   "execution_count": null,
   "metadata": {},
   "outputs": [],
   "source": [
    "bat_dict = {**batch1, **batch2, **batch3}"
   ]
  },
  {
   "cell_type": "code",
   "execution_count": null,
   "metadata": {},
   "outputs": [],
   "source": [
    "for i in bat_dict.keys():\n",
    "    plt.plot(bat_dict[i]['summary']['cycle'], bat_dict[i]['summary']['QD'])\n",
    "plt.xlabel('Cycle Number')\n",
    "plt.ylabel('Discharge Capacity (Ah)')"
   ]
  },
  {
   "cell_type": "markdown",
   "metadata": {},
   "source": [
    "### Train and Test Split\n",
    "If you are interested in using the same train/test split as the paper, use the indices specified below"
   ]
  },
  {
   "cell_type": "code",
   "execution_count": null,
   "metadata": {},
   "outputs": [],
   "source": [
    "test_ind = np.hstack((np.arange(0,(numBat1+numBat2),2),83))\n",
    "train_ind = np.arange(1,(numBat1+numBat2-1),2)\n",
    "secondary_test_ind = np.arange(numBat-numBat3,numBat);"
   ]
  }
 ],
 "metadata": {
  "kernelspec": {
   "display_name": "Python 3",
   "language": "python",
   "name": "python3"
  },
  "language_info": {
   "codemirror_mode": {
    "name": "ipython",
    "version": 3
   },
   "file_extension": ".py",
   "mimetype": "text/x-python",
   "name": "python",
   "nbconvert_exporter": "python",
   "pygments_lexer": "ipython3",
   "version": "3.7.3"
  }
 },
 "nbformat": 4,
 "nbformat_minor": 2
}
