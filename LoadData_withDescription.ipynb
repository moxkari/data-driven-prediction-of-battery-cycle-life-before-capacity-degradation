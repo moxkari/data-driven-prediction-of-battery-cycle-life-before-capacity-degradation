{
 "cells": [
  {
   "cell_type": "code",
   "execution_count": null,
   "metadata": {},
   "outputs": [],
   "source": [
    "import numpy as np\n",
    "import matplotlib.pyplot as plt\n",
    "import pickle\n",
    "from pathlib import Path"
   ]
  },
  {
   "cell_type": "code",
   "execution_count": null,
   "metadata": {},
   "outputs": [],
   "source": [
    "path1 = Path(\"Data/batch1.pkl\")\n",
    "batch1 = pickle.load(open(path1, 'rb'))\n",
    "\n",
    "#remove batteries that do not reach 80% capacity\n",
    "del batch1['b1c8']\n",
    "del batch1['b1c10']\n",
    "del batch1['b1c12']\n",
    "del batch1['b1c13']\n",
    "del batch1['b1c22']"
   ]
  },
  {
   "cell_type": "code",
   "execution_count": null,
   "metadata": {},
   "outputs": [],
   "source": [
    "numBat1 = len(batch1.keys())\n",
    "numBat1"
   ]
  },
  {
   "cell_type": "code",
   "execution_count": null,
   "metadata": {},
   "outputs": [],
   "source": [
    "batch1.keys()"
   ]
  },
  {
   "cell_type": "markdown",
   "metadata": {},
   "source": [
    "# 1 Cell"
   ]
  },
  {
   "cell_type": "code",
   "execution_count": null,
   "metadata": {},
   "outputs": [],
   "source": [
    "# this is all data for cell 0 from batch 1\n",
    "# The cleaned data set from all 3 batches contains 124 cells\n",
    "batch1[\"b1c0\"].keys() "
   ]
  },
  {
   "cell_type": "markdown",
   "metadata": {},
   "source": [
    "## Dict structure\n",
    "1. Cell<br>\n",
    "    1.1 Cycle Life<br>\n",
    "    1.2 Charge Policy<br>\n",
    "    1.3 Summary (per charging cycle)\n",
    "        1.3.1 Internal Resistance (Ω)\n",
    "        1.3.2 Total Quantity of Charge (Ah)\n",
    "        1.3.3 Total Quantity of Discharge (Ah)\n",
    "        1.3.4 Temp Avg (C°)\n",
    "        1.3.5 Temp min (C°)\n",
    "        1.3.6 Temp Max (C°)\n",
    "        1.3.7 Charge time (minutes)\n",
    "        1.3.8 Cycle no. (Int)\n",
    "    1.4 Cycle (all data points per cycle)\n",
    "        1.4.1 Current (C-Rate)\n",
    "        1.4.2 Quantity of Charge (Ah)\n",
    "        1.4.3 Quantity of Discharge (Ah)\n",
    "        1.4.4 Qdlin (?)\n",
    "        1.4.5 Temperature (C°)\n",
    "        1.4.6 Tdlin (?)\n",
    "        1.4.7 Voltage (V)\n",
    "        1.4.8 dQdV (?)\n",
    "        1.4.9 Time elapsed (minutes)    "
   ]
  },
  {
   "cell_type": "markdown",
   "metadata": {},
   "source": [
    "# 1.1 Cycle Life"
   ]
  },
  {
   "cell_type": "code",
   "execution_count": null,
   "metadata": {
    "scrolled": true
   },
   "outputs": [],
   "source": [
    "for cell in batch1.keys():\n",
    "    print(cell, \": \", batch1[cell][\"cycle_life\"]) # total number of cycles measured"
   ]
  },
  {
   "cell_type": "markdown",
   "metadata": {},
   "source": [
    "# 1.2 Charge Policy"
   ]
  },
  {
   "cell_type": "markdown",
   "metadata": {},
   "source": [
    "A C-rate is a measure of the rate at which a battery is discharged relative to its maximum capacity.\n",
    "A 1C rate means that the discharge current will discharge the entire battery in 1 hour.\n",
    "For a battery with a capacity of 1 Amp-hrs, this equates to a discharge current of 1 Amps.\n",
    "A 5C rate for this battery would be 5 Amps, and a C/2 rate would be 0.5 Amps.\n",
    "\n",
    "Cells are charged from 0% to 80% state-of-charge (SOC) with one of 72 different one-step and two-step charging\n",
    "policies. One step corresponds to one constant C-rate.\n",
    "\n",
    "An internal resistance measurement was obtained during charging at 80% SOC by averaging 10 pulses of ±3.6 C with\n",
    "a pulse width of 30 or 33 ms.\n",
    "\n",
    "All cells then charged from 80% to 100% SOC with a uniform 1 C CC-CV charging step to 3.6 V and a current\n",
    "cutoff of C/50.\n",
    "All cells were subsequently discharged with a CC-CV discharge at 4 C to 2.0 V with a current cutoff of C/50.\n",
    "\n",
    "The used cell model has a nominal capacity of 1.1 Ah so 3.6C equates to 3.96 Amps (for example).\n",
    "\n",
    "Since the charging after 80% SOC is continued with 1C CC-CV the formatting of the charging policy is\n",
    "interpreted as follows (two examples):\n",
    "\n",
    "5.4C(40%)-3.6C <br>\n",
    "*C-rate of first step* (SOC at the end of the first step) *C-rate of second step*\n",
    "\n",
    "3.6C(80%)-3.6C <br>\n",
    "*C-rate of first step* (SOC at the end of the first step) *also C-rate of first step to keep formatting consistent*"
   ]
  },
  {
   "cell_type": "code",
   "execution_count": null,
   "metadata": {
    "scrolled": true
   },
   "outputs": [],
   "source": [
    "for cell in batch1.keys():\n",
    "    print(cell, \": \", batch1[cell][\"charge_policy\"])"
   ]
  },
  {
   "cell_type": "markdown",
   "metadata": {},
   "source": [
    "# 1.3 Summary (for each cell over every cycle)"
   ]
  },
  {
   "cell_type": "code",
   "execution_count": null,
   "metadata": {
    "scrolled": true
   },
   "outputs": [],
   "source": [
    "batch1[\"b1c0\"][\"summary\"].keys()"
   ]
  },
  {
   "cell_type": "markdown",
   "metadata": {},
   "source": [
    "### 1.3.1 Internal Resistance"
   ]
  },
  {
   "cell_type": "code",
   "execution_count": null,
   "metadata": {},
   "outputs": [],
   "source": [
    "# Measured in Ohm\n",
    "cleaned_I = [i for i in batch1[\"b1c0\"][\"summary\"][\"IR\"] if i > 0.01]\n",
    "plt.grid()\n",
    "plt.plot(cleaned_I)\n",
    "plt.show()"
   ]
  },
  {
   "cell_type": "markdown",
   "metadata": {},
   "source": [
    "### 1.3.2/3 Quantity of charge/discharge"
   ]
  },
  {
   "cell_type": "code",
   "execution_count": null,
   "metadata": {},
   "outputs": [],
   "source": [
    "# Q is used to denote a quantity of electricity or charge. Measured in Ah.\n",
    "cleaned_QC = [i for i in batch1[\"b1c0\"][\"summary\"][\"QC\"] if 1.5 > i > 0.5]\n",
    "cleaned_QD = [i for i in batch1[\"b1c0\"][\"summary\"][\"QD\"] if 1.5 > i > 0.5]\n",
    "plt.plot(cleaned_QC, label=\"Charge\")\n",
    "plt.plot(cleaned_QD, label=\"Discharge\")\n",
    "plt.legend()\n",
    "plt.grid()\n",
    "plt.show()"
   ]
  },
  {
   "cell_type": "markdown",
   "metadata": {},
   "source": [
    "### 1.3.4/5/6 Temperature mean/min/max"
   ]
  },
  {
   "cell_type": "code",
   "execution_count": null,
   "metadata": {},
   "outputs": [],
   "source": [
    "# measured in Celcius?\n",
    "fig, (ax1, ax2, ax3) = plt.subplots(3, 1, sharex=True, sharey=True, figsize=(12,8))\n",
    "ax1.plot(batch1[\"b1c0\"][\"summary\"][\"Tavg\"][1:], label=\"AVG\")\n",
    "ax2.plot(batch1[\"b1c0\"][\"summary\"][\"Tmin\"][1:], label=\"MIN\")\n",
    "ax3.plot(batch1[\"b1c0\"][\"summary\"][\"Tmax\"][1:], label=\"MAX\")\n",
    "ax1.grid()\n",
    "ax1.legend()\n",
    "ax2.grid()\n",
    "ax2.legend()\n",
    "ax3.grid()\n",
    "ax3.legend()\n",
    "plt.show()"
   ]
  },
  {
   "cell_type": "markdown",
   "metadata": {},
   "source": [
    "### 1.3.7 Charge time"
   ]
  },
  {
   "cell_type": "code",
   "execution_count": null,
   "metadata": {},
   "outputs": [],
   "source": [
    "# Measured in minutes.\n",
    "plt.figure(figsize=(15,5))\n",
    "cleaned_chargetime = [i for i in batch1[\"b1c0\"][\"summary\"][\"chargetime\"] if i > 5]\n",
    "plt.plot(cleaned_chargetime)\n",
    "plt.grid()\n",
    "plt.show()"
   ]
  },
  {
   "cell_type": "markdown",
   "metadata": {},
   "source": [
    "### 1.3.8 Cycle number"
   ]
  },
  {
   "cell_type": "code",
   "execution_count": null,
   "metadata": {},
   "outputs": [],
   "source": [
    "# Number/index of charging cycle starting from 1!\n",
    "list(batch1[\"b1c0\"][\"summary\"][\"cycle\"])[0:10] "
   ]
  },
  {
   "cell_type": "code",
   "execution_count": null,
   "metadata": {
    "scrolled": true
   },
   "outputs": [],
   "source": [
    "# Note: The lenght of cycle indeces doesn't match up with cycle life and is always one less.\n",
    "for cell in batch1.keys():\n",
    "    print(cell, \": \", batch1[cell][\"cycle_life\"], \"len(cycles): \", len(batch1[cell][\"summary\"][\"cycle\"]))"
   ]
  },
  {
   "cell_type": "markdown",
   "metadata": {},
   "source": [
    "# 1.4 Cycles"
   ]
  },
  {
   "cell_type": "code",
   "execution_count": null,
   "metadata": {},
   "outputs": [],
   "source": [
    "print(list(batch1[\"b1c0\"][\"cycles\"].keys())[:10])  # Cycle indeces starting from 0!\n",
    "\n",
    "# Lenght equals that of batch1[cell][\"summary\"][\"cycle\"]\n",
    "print(\"length: \", len(list(batch1[\"b1c0\"][\"cycles\"].keys())))"
   ]
  },
  {
   "cell_type": "markdown",
   "metadata": {},
   "source": [
    "### Get all data from one exemplary charging cycle, e.g. #1054"
   ]
  },
  {
   "cell_type": "code",
   "execution_count": null,
   "metadata": {},
   "outputs": [],
   "source": [
    "for key, val in batch1[\"b1c0\"][\"cycles\"][\"1054\"].items():\n",
    "    print(\"%s\\t%s\" % (key, len(val)))"
   ]
  },
  {
   "cell_type": "markdown",
   "metadata": {},
   "source": [
    "### 1.4.1 I (current in C)"
   ]
  },
  {
   "cell_type": "markdown",
   "metadata": {},
   "source": [
    "b1c0 charging policy: 3.6C(80%)-3.6C\n",
    "1. The cell is fast charged with 3.6C until ~80%.\n",
    "2. 1 minute and 1 second rest (according to batch one Notes)\n",
    "3. fully charged with 1C CC-CV (Constant voltage cutoff current of C/50)\n",
    "4. Discharging happens with constant 4C.\n",
    "5. Current levels of after finishing discharging\n",
    "\n",
    "For explanation of charging policy see 1.2."
   ]
  },
  {
   "cell_type": "code",
   "execution_count": null,
   "metadata": {},
   "outputs": [],
   "source": [
    "cycle = batch1[\"b1c0\"][\"cycles\"][\"1054\"]\n",
    "plt.plot(cycle[\"t\"], cycle[\"I\"])  # t in minutes, I in Amps\n",
    "plt.grid()\n",
    "plt.show()"
   ]
  },
  {
   "cell_type": "markdown",
   "metadata": {},
   "source": [
    "### 1.4.2/3 Qc (charge) and Qd (discharge) in Ah"
   ]
  },
  {
   "cell_type": "code",
   "execution_count": null,
   "metadata": {},
   "outputs": [],
   "source": [
    "cycle = batch1[\"b1c0\"][\"cycles\"][\"1054\"]\n",
    "\n",
    "# Note: timescale t is \"global\" for both Qc and Qd --> Discharge starts at around 32 minutes.\n",
    "plt.plot(cycle[\"t\"], cycle[\"Qc\"], label=\"Qc\")\n",
    "plt.plot(cycle[\"t\"], cycle[\"Qd\"], label=\"Qd\")\n",
    "plt.grid()\n",
    "plt.legend()\n",
    "plt.show()"
   ]
  },
  {
   "cell_type": "code",
   "execution_count": null,
   "metadata": {},
   "outputs": [],
   "source": [
    "# Last Cycle Measurements are recorded in Summary for Cell Cycle\n",
    "cycle = batch1[\"b1c0\"][\"cycles\"][\"1054\"]\n",
    "\n",
    "print('Qd last cycle', cycle[\"Qd\"][-1])\n",
    "print('QD summary', batch1[\"b1c0\"][\"summary\"][\"QD\"][1054])\n",
    "print('Qc last cycle', cycle[\"Qc\"][-1])\n",
    "print('QC summary', batch1[\"b1c0\"][\"summary\"][\"QC\"][1054])"
   ]
  },
  {
   "cell_type": "code",
   "execution_count": null,
   "metadata": {},
   "outputs": [],
   "source": [
    "# Overlay of graphs Qc and Qd\n",
    "cycle = batch1[\"b1c0\"][\"cycles\"][\"1054\"]\n",
    "\n",
    "plt.plot(cycle[\"t\"], cycle[\"Qc\"] - cycle[\"Qd\"])\n",
    "plt.grid()\n",
    "plt.show()"
   ]
  },
  {
   "cell_type": "markdown",
   "metadata": {},
   "source": [
    "### 1.4.4 Qdlin"
   ]
  },
  {
   "cell_type": "markdown",
   "metadata": {},
   "source": [
    "Is Qdlin a smoothed out version of Qd.\n",
    "\n",
    "A spline was fitted for that purpose, so Qdlin is resampled with 1000 sample points. <br>\n",
    "\n",
    "Voltage is plotted over Qdlin and Qd.\n",
    "In the final paper only the voltage range between 3.5V and 2.0V was considered."
   ]
  },
  {
   "cell_type": "code",
   "execution_count": null,
   "metadata": {},
   "outputs": [],
   "source": [
    "cycle = batch1[\"b1c0\"][\"cycles\"][\"1054\"]\n",
    "\n",
    "plt.plot(cycle[\"Qd\"], cycle[\"V\"], label=\"Qd\")\n",
    "plt.grid()\n",
    "plt.ylim(2,3.5)\n",
    "plt.show()"
   ]
  },
  {
   "cell_type": "code",
   "execution_count": null,
   "metadata": {},
   "outputs": [],
   "source": [
    "cycle = batch1[\"b1c0\"][\"cycles\"][\"1054\"]\n",
    "v_space = np.linspace(3.5, 2.0, 1000)\n",
    "\n",
    "plt.plot(cycle[\"Qdlin\"], v_space, label=\"Qdlin\")\n",
    "plt.ylim(2,3.5)\n",
    "plt.show()"
   ]
  },
  {
   "cell_type": "markdown",
   "metadata": {},
   "source": [
    "### 1.4.5 T (temperature in Celsius)"
   ]
  },
  {
   "cell_type": "code",
   "execution_count": null,
   "metadata": {},
   "outputs": [],
   "source": [
    "cycle = batch1[\"b1c0\"][\"cycles\"][\"1054\"]\n",
    "\n",
    "plt.plot(cycle[\"t\"], cycle[\"T\"])\n",
    "plt.grid()\n",
    "plt.show()"
   ]
  },
  {
   "cell_type": "markdown",
   "metadata": {},
   "source": [
    "### 1.4.6 Tdlin"
   ]
  },
  {
   "cell_type": "code",
   "execution_count": null,
   "metadata": {},
   "outputs": [],
   "source": [
    "cycle = batch1[\"b1c0\"][\"cycles\"][\"1054\"]\n",
    "\n",
    "plt.plot(cycle[\"Tdlin\"])\n",
    "plt.grid()\n",
    "plt.show()"
   ]
  },
  {
   "cell_type": "markdown",
   "metadata": {},
   "source": [
    "### 1.4.7 V (Volt)"
   ]
  },
  {
   "cell_type": "code",
   "execution_count": null,
   "metadata": {},
   "outputs": [],
   "source": [
    "cycle = batch1[\"b1c0\"][\"cycles\"][\"1054\"]\n",
    "\n",
    "plt.plot(cycle[\"t\"], cycle[\"V\"])\n",
    "plt.grid()\n",
    "plt.show()"
   ]
  },
  {
   "cell_type": "markdown",
   "metadata": {},
   "source": [
    "### 1.4.8 dQdV"
   ]
  },
  {
   "cell_type": "code",
   "execution_count": null,
   "metadata": {},
   "outputs": [],
   "source": [
    "cycle = batch1[\"b1c0\"][\"cycles\"][\"1054\"]\n",
    "v_space = np.linspace(3.5, 2.0, 1000)  # Same voltage range as in the paper.\n",
    "\n",
    "plt.plot(v_space, cycle[\"dQdV\"])\n",
    "plt.grid()\n",
    "plt.show()"
   ]
  },
  {
   "cell_type": "code",
   "execution_count": null,
   "metadata": {},
   "outputs": [],
   "source": [
    "keys = list(batch1[\"b1c0\"][\"cycles\"].keys())\n",
    "for key in keys[1::100]:\n",
    "    plt.plot(v_space, batch1[\"b1c0\"][\"cycles\"][key][\"dQdV\"])\n",
    "\n",
    "plt.grid()\n",
    "plt.show()"
   ]
  },
  {
   "cell_type": "code",
   "execution_count": null,
   "metadata": {
    "scrolled": false
   },
   "outputs": [],
   "source": [
    "plt.figure(figsize=(20,10))\n",
    "\n",
    "for i, cycle in batch1[\"b1c0\"][\"cycles\"].items():\n",
    "    if int(i) % 200 == 0:\n",
    "        plt.plot(cycle[\"dQdV\"][:900], label=i)\n",
    "        \n",
    "plt.title('dQdV, Select Cycles')\n",
    "plt.legend()\n",
    "plt.grid()\n",
    "plt.show()"
   ]
  },
  {
   "cell_type": "code",
   "execution_count": null,
   "metadata": {},
   "outputs": [],
   "source": [
    "plt.figure(figsize=(20,10))\n",
    "for i, cycle in dqdv_sample[\"cycles\"].items():\n",
    "    if int(i) % 200 == 0:\n",
    "        plt.plot(cycle[\"dQdV\"][:100], label=i)\n",
    "plt.title('dQdV (1st 100 steps), Select Cycles')\n",
    "plt.legend()\n",
    "plt.show()"
   ]
  },
  {
   "cell_type": "code",
   "execution_count": null,
   "metadata": {},
   "outputs": [],
   "source": [
    "v_space = np.linspace(3.5, 2.0, 1000)  # Same voltage range as in the paper.\n",
    "\n",
    "fig, ax = plt.subplots(ncols=2)\n",
    "\n",
    "ax[0].plot(batch1['b1c43']['cycles']['10']['Qdlin'], v_space, label='Qdlin')  # Qd over V (fitted spline)\n",
    "ax[1].plot(batch1['b1c43']['cycles']['10']['dQdV'], v_space, label='dQdV')  # Gradient of Qd over V (measured)\n",
    "\n",
    "plt.legend()\n",
    "plt.show()"
   ]
  },
  {
   "cell_type": "markdown",
   "metadata": {},
   "source": [
    "### 1.4.9 t (time)"
   ]
  },
  {
   "cell_type": "code",
   "execution_count": null,
   "metadata": {},
   "outputs": [],
   "source": [
    "# time elapsed at each step\n",
    "plt.plot(batch1[\"b1c0\"][\"cycles\"][\"1054\"][\"t\"])\n",
    "plt.grid()\n",
    "plt.show()"
   ]
  },
  {
   "cell_type": "code",
   "execution_count": null,
   "metadata": {},
   "outputs": [],
   "source": [
    "# time consists of float numbers that represent minutes\n",
    "list(batch1[\"b1c0\"][\"cycles\"][\"1054\"][\"t\"])[-10:-1]"
   ]
  },
  {
   "cell_type": "markdown",
   "metadata": {},
   "source": [
    "# Additional graphs"
   ]
  },
  {
   "cell_type": "code",
   "execution_count": null,
   "metadata": {
    "scrolled": false
   },
   "outputs": [],
   "source": [
    "plt.figure(figsize=(14,8))\n",
    "\n",
    "keys = list(batch1[\"b1c0\"][\"cycles\"].keys())\n",
    "for key in keys[1::100]:\n",
    "    plt.plot(batch1[\"b1c0\"][\"cycles\"][key][\"t\"], batch1[\"b1c0\"][\"cycles\"][key][\"V\"])\n",
    "plt.title(\"Voltage (V) over time (min) for every 100th cycle\")\n",
    "plt.grid()    \n",
    "plt.show()"
   ]
  },
  {
   "cell_type": "code",
   "execution_count": null,
   "metadata": {},
   "outputs": [],
   "source": [
    "plt.figure(figsize=(14,8))\n",
    "\n",
    "keys = list(batch1[\"b1c0\"][\"cycles\"].keys())\n",
    "for key in keys[1::100]:\n",
    "    plt.plot(batch1[\"b1c0\"][\"cycles\"][key][\"Qd\"], batch1[\"b1c0\"][\"cycles\"][key][\"V\"])\n",
    "plt.title(\"Voltage (V) over charge (Ah) for every 100th cycle\")\n",
    "plt.grid()    \n",
    "plt.show()"
   ]
  },
  {
   "cell_type": "code",
   "execution_count": null,
   "metadata": {},
   "outputs": [],
   "source": [
    "import pandas as pd\n",
    "import seaborn as sns"
   ]
  },
  {
   "cell_type": "code",
   "execution_count": null,
   "metadata": {},
   "outputs": [],
   "source": [
    "cycle_df = {k: batch1[\"b1c0\"][\"cycles\"][\"1054\"][k] for k in ('I', 'Qc', 'Qd', 'T', 'V', 't')}\n",
    "cycle_df = pd.DataFrame.from_dict(cycle_df)\n",
    "sns.heatmap(cycle_df.corr(), annot=True)\n",
    "plt.show()"
   ]
  },
  {
   "cell_type": "code",
   "execution_count": null,
   "metadata": {
    "scrolled": true
   },
   "outputs": [],
   "source": [
    "lin_df = {k: batch1[\"b1c0\"][\"cycles\"][\"1054\"][k] for k in ('Qdlin', 'Tdlin', 'dQdV')}\n",
    "lin_df = pd.DataFrame.from_dict(lin_df)\n",
    "sns.heatmap(lin_df.corr(), annot=True)\n",
    "plt.show()"
   ]
  },
  {
   "cell_type": "markdown",
   "metadata": {},
   "source": [
    "Tdlin and Qdlin are on different scales but have almost the same form. Why are they so highly correlated? "
   ]
  },
  {
   "cell_type": "markdown",
   "metadata": {},
   "source": [
    "# Continue original notebook"
   ]
  },
  {
   "cell_type": "code",
   "execution_count": null,
   "metadata": {},
   "outputs": [],
   "source": [
    "path2 = Path(\"Data/batch2.pkl\")\n",
    "batch2 = pickle.load(open(path, 'rb'))"
   ]
  },
  {
   "cell_type": "code",
   "execution_count": null,
   "metadata": {},
   "outputs": [],
   "source": [
    "# There are four cells from batch1 that carried into batch2, we'll remove the data from batch2\n",
    "# and put it with the correct cell from batch1\n",
    "batch2_keys = ['b2c7', 'b2c8', 'b2c9', 'b2c15', 'b2c16']\n",
    "batch1_keys = ['b1c0', 'b1c1', 'b1c2', 'b1c3', 'b1c4']\n",
    "add_len = [662, 981, 1060, 208, 482];"
   ]
  },
  {
   "cell_type": "code",
   "execution_count": null,
   "metadata": {},
   "outputs": [],
   "source": [
    "for i, bk in enumerate(batch1_keys):\n",
    "    batch1[bk]['cycle_life'] = batch1[bk]['cycle_life'] + add_len[i]\n",
    "    for j in batch1[bk]['summary'].keys():\n",
    "        if j == 'cycle':\n",
    "            batch1[bk]['summary'][j] = np.hstack((batch1[bk]['summary'][j], batch2[batch2_keys[i]]['summary'][j] + len(batch1[bk]['summary'][j])))\n",
    "        else:\n",
    "            batch1[bk]['summary'][j] = np.hstack((batch1[bk]['summary'][j], batch2[batch2_keys[i]]['summary'][j]))\n",
    "    last_cycle = len(batch1[bk]['cycles'].keys())\n",
    "    for j, jk in enumerate(batch2[batch2_keys[i]]['cycles'].keys()):\n",
    "        batch1[bk]['cycles'][str(last_cycle + j)] = batch2[batch2_keys[i]]['cycles'][jk]"
   ]
  },
  {
   "cell_type": "code",
   "execution_count": null,
   "metadata": {},
   "outputs": [],
   "source": [
    "del batch2['b2c7']\n",
    "del batch2['b2c8']\n",
    "del batch2['b2c9']\n",
    "del batch2['b2c15']\n",
    "del batch2['b2c16']"
   ]
  },
  {
   "cell_type": "code",
   "execution_count": null,
   "metadata": {},
   "outputs": [],
   "source": [
    "numBat2 = len(batch2.keys())\n",
    "numBat2"
   ]
  },
  {
   "cell_type": "code",
   "execution_count": null,
   "metadata": {},
   "outputs": [],
   "source": [
    "path3 = Path(\"Data/batch3.pkl\")\n",
    "batch3 = pickle.load(open(path, 'rb'))\n",
    "\n",
    "# remove noisy channels from batch3\n",
    "del batch3['b3c37']\n",
    "del batch3['b3c2']\n",
    "del batch3['b3c23']\n",
    "del batch3['b3c32']\n",
    "del batch3['b3c38']\n",
    "del batch3['b3c39']"
   ]
  },
  {
   "cell_type": "code",
   "execution_count": null,
   "metadata": {},
   "outputs": [],
   "source": [
    "numBat3 = len(batch3.keys())\n",
    "numBat3"
   ]
  },
  {
   "cell_type": "code",
   "execution_count": null,
   "metadata": {},
   "outputs": [],
   "source": [
    "numBat = numBat1 + numBat2 + numBat3\n",
    "numBat"
   ]
  },
  {
   "cell_type": "code",
   "execution_count": null,
   "metadata": {},
   "outputs": [],
   "source": [
    "bat_dict = {**batch1, **batch2, **batch3}"
   ]
  },
  {
   "cell_type": "code",
   "execution_count": null,
   "metadata": {},
   "outputs": [],
   "source": [
    "for i in bat_dict.keys():\n",
    "    plt.plot(bat_dict[i]['summary']['cycle'], bat_dict[i]['summary']['QD'])\n",
    "plt.xlabel('Cycle Number')\n",
    "plt.ylabel('Discharge Capacity (Ah)')"
   ]
  },
  {
   "cell_type": "markdown",
   "metadata": {},
   "source": [
    "### Train and Test Split\n",
    "If you are interested in using the same train/test split as the paper, use the indices specified below"
   ]
  },
  {
   "cell_type": "code",
   "execution_count": null,
   "metadata": {},
   "outputs": [],
   "source": [
    "test_ind = np.hstack((np.arange(0,(numBat1+numBat2),2),83))\n",
    "train_ind = np.arange(1,(numBat1+numBat2-1),2)\n",
    "secondary_test_ind = np.arange(numBat-numBat3,numBat);"
   ]
  }
 ],
 "metadata": {
  "kernelspec": {
   "display_name": "Python 3",
   "language": "python",
   "name": "python3"
  },
  "language_info": {
   "codemirror_mode": {
    "name": "ipython",
    "version": 3
   },
   "file_extension": ".py",
   "mimetype": "text/x-python",
   "name": "python",
   "nbconvert_exporter": "python",
   "pygments_lexer": "ipython3",
   "version": "3.6.8"
  }
 },
 "nbformat": 4,
 "nbformat_minor": 2
}
