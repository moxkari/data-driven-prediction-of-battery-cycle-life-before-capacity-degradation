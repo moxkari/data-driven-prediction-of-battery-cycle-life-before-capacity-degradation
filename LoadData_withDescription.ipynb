{
 "cells": [
  {
   "cell_type": "code",
   "execution_count": 64,
   "metadata": {},
   "outputs": [],
   "source": [
    "import numpy as np\n",
    "import matplotlib.pyplot as plt\n",
    "import pickle\n",
    "\n",
    "# own imports\n",
    "import matplotlib.pyplot as plt"
   ]
  },
  {
   "cell_type": "code",
   "execution_count": 3,
   "metadata": {},
   "outputs": [],
   "source": [
    "# batch1 = pickle.load(open(r'.\\Data\\batch1.pkl', 'rb'))   # orig\n",
    "batch1 = pickle.load(open(r'./Data/batch1.pkl', 'rb'))    # Wendy\n",
    "#batch1 = pickle.load(open(r'/media/hannes/TOSHIBA EXT/matlab/batch1.pkl', 'rb'))  # Hannes\n",
    "\n",
    "#remove batteries that do not reach 80% capacity\n",
    "del batch1['b1c8']\n",
    "del batch1['b1c10']\n",
    "del batch1['b1c12']\n",
    "del batch1['b1c13']\n",
    "del batch1['b1c22']"
   ]
  },
  {
   "cell_type": "code",
   "execution_count": 4,
   "metadata": {},
   "outputs": [
    {
     "data": {
      "text/plain": [
       "41"
      ]
     },
     "execution_count": 4,
     "metadata": {},
     "output_type": "execute_result"
    }
   ],
   "source": [
    "numBat1 = len(batch1.keys())\n",
    "numBat1"
   ]
  },
  {
   "cell_type": "code",
   "execution_count": 7,
   "metadata": {},
   "outputs": [
    {
     "data": {
      "text/plain": [
       "dict_keys(['b1c0', 'b1c1', 'b1c2', 'b1c3', 'b1c4', 'b1c5', 'b1c6', 'b1c7', 'b1c9', 'b1c11', 'b1c14', 'b1c15', 'b1c16', 'b1c17', 'b1c18', 'b1c19', 'b1c20', 'b1c21', 'b1c23', 'b1c24', 'b1c25', 'b1c26', 'b1c27', 'b1c28', 'b1c29', 'b1c30', 'b1c31', 'b1c32', 'b1c33', 'b1c34', 'b1c35', 'b1c36', 'b1c37', 'b1c38', 'b1c39', 'b1c40', 'b1c41', 'b1c42', 'b1c43', 'b1c44', 'b1c45'])"
      ]
     },
     "execution_count": 7,
     "metadata": {},
     "output_type": "execute_result"
    }
   ],
   "source": [
    "batch1.keys()"
   ]
  },
  {
   "cell_type": "markdown",
   "metadata": {},
   "source": [
    "# 1 Cell"
   ]
  },
  {
   "cell_type": "code",
   "execution_count": 107,
   "metadata": {},
   "outputs": [
    {
     "data": {
      "text/plain": [
       "dict_keys(['cycle_life', 'charge_policy', 'summary', 'cycles'])"
      ]
     },
     "execution_count": 107,
     "metadata": {},
     "output_type": "execute_result"
    }
   ],
   "source": [
    "# this is all data for cell 0 from batch 1\n",
    "# The cleaned data set from all 3 batches contains 124 cells\n",
    "batch1[\"b1c0\"].keys() "
   ]
  },
  {
   "cell_type": "markdown",
   "metadata": {},
   "source": [
    "## Dict structure\n",
    "1. Cell<br>\n",
    "    1.1 Cycle Life<br>\n",
    "    1.2 Charge Policy<br>\n",
    "    1.3 Summary (per charging cycle)\n",
    "        1.3.1 Internal Resistance (Ohm)\n",
    "        1.3.2 Quantity of Charge (Ah)\n",
    "        1.3.3 Quantity of Discharge (Ah)\n",
    "        1.3.4 Temp Avg (C°)\n",
    "        1.3.5 Temp min (C°)\n",
    "        1.3.6 Temp Max (C°)\n",
    "        1.3.7 Charge time (minutes)\n",
    "        1.3.8 Index\n",
    "    1.4 Cycle (all data points per cycle)\n",
    "        1.4.1 I ?\n",
    "        1.4.2 Quantity of Charge (Ah)\n",
    "        1.4.3 Quantity of Discharge (Ah)\n",
    "        1.4.4 Qdlin ?\n",
    "        1.4.5 Temperature (C°)\n",
    "        1.4.6 Tdlin ?\n",
    "        1.4.7 Volt\n",
    "        1.4.8 dQdV ?\n",
    "        1.4.9 time elapsed        "
   ]
  },
  {
   "cell_type": "markdown",
   "metadata": {},
   "source": [
    "# 1.1 Cycle Life"
   ]
  },
  {
   "cell_type": "code",
   "execution_count": 30,
   "metadata": {
    "scrolled": true
   },
   "outputs": [
    {
     "data": {
      "text/plain": [
       "array([[1190.]])"
      ]
     },
     "execution_count": 30,
     "metadata": {},
     "output_type": "execute_result"
    }
   ],
   "source": [
    "batch1[\"b1c0\"][\"cycle_life\"] # total number of cycles measured"
   ]
  },
  {
   "cell_type": "markdown",
   "metadata": {},
   "source": [
    "# 1.2 Charge Policy"
   ]
  },
  {
   "cell_type": "code",
   "execution_count": 11,
   "metadata": {},
   "outputs": [
    {
     "data": {
      "text/plain": [
       "'3.6C(80%)-3.6C'"
      ]
     },
     "execution_count": 11,
     "metadata": {},
     "output_type": "execute_result"
    }
   ],
   "source": [
    "batch1[\"b1c0\"][\"charge_policy\"]"
   ]
  },
  {
   "cell_type": "markdown",
   "metadata": {},
   "source": [
    "# 1.3 Summary (for each charging cycle)"
   ]
  },
  {
   "cell_type": "code",
   "execution_count": 12,
   "metadata": {
    "scrolled": true
   },
   "outputs": [
    {
     "data": {
      "text/plain": [
       "dict_keys(['IR', 'QC', 'QD', 'Tavg', 'Tmin', 'Tmax', 'chargetime', 'cycle'])"
      ]
     },
     "execution_count": 12,
     "metadata": {},
     "output_type": "execute_result"
    }
   ],
   "source": [
    "batch1[\"b1c0\"][\"summary\"].keys()"
   ]
  },
  {
   "cell_type": "markdown",
   "metadata": {},
   "source": [
    "### 1.3.1 Internal resistance"
   ]
  },
  {
   "cell_type": "code",
   "execution_count": 52,
   "metadata": {},
   "outputs": [
    {
     "data": {
      "text/plain": [
       "array([0.        , 0.01674235, 0.01672431, ..., 0.01708527, 0.01707222,\n",
       "       0.0170891 ])"
      ]
     },
     "execution_count": 52,
     "metadata": {},
     "output_type": "execute_result"
    }
   ],
   "source": [
    "batch1[\"b1c0\"][\"summary\"][\"IR\"] # Measured in Ohm?"
   ]
  },
  {
   "cell_type": "markdown",
   "metadata": {},
   "source": [
    "### 1.3.2/3 Quantity of charge/discharge"
   ]
  },
  {
   "cell_type": "code",
   "execution_count": 53,
   "metadata": {},
   "outputs": [
    {
     "data": {
      "text/plain": [
       "array([0.       , 1.0706892, 1.0719005, ..., 1.0264986, 1.0266768,\n",
       "       1.0262098])"
      ]
     },
     "execution_count": 53,
     "metadata": {},
     "output_type": "execute_result"
    }
   ],
   "source": [
    "# Q is used to denote a quantity of electricity or charge. Measured in Ah.\n",
    "batch1[\"b1c0\"][\"summary\"][\"QC\"]\n",
    "batch1[\"b1c0\"][\"summary\"][\"QD\"] "
   ]
  },
  {
   "cell_type": "markdown",
   "metadata": {},
   "source": [
    "### 1.3.4/5/6 Temperature mean/min/max"
   ]
  },
  {
   "cell_type": "code",
   "execution_count": 48,
   "metadata": {},
   "outputs": [
    {
     "data": {
      "text/plain": [
       "array([ 0.      , 35.652016, 35.692978, ..., 36.750278, 36.758877,\n",
       "       36.561554])"
      ]
     },
     "execution_count": 48,
     "metadata": {},
     "output_type": "execute_result"
    }
   ],
   "source": [
    "# measured in Celcius?\n",
    "batch1[\"b1c0\"][\"summary\"][\"Tavg\"]\n",
    "batch1[\"b1c0\"][\"summary\"][\"Tmin\"]\n",
    "batch1[\"b1c0\"][\"summary\"][\"Tmax\"]"
   ]
  },
  {
   "cell_type": "markdown",
   "metadata": {},
   "source": [
    "### 1.3.7 Charge time"
   ]
  },
  {
   "cell_type": "code",
   "execution_count": 54,
   "metadata": {},
   "outputs": [
    {
     "data": {
      "text/plain": [
       "array([ 0.        , 13.34125   , 13.42577667, ..., 13.42549833,\n",
       "       13.34097167, 13.42571167])"
      ]
     },
     "execution_count": 54,
     "metadata": {},
     "output_type": "execute_result"
    }
   ],
   "source": [
    "batch1[\"b1c0\"][\"summary\"][\"chargetime\"] # measured in minutes?"
   ]
  },
  {
   "cell_type": "markdown",
   "metadata": {},
   "source": [
    "### 1.3.8 Cycle (index)"
   ]
  },
  {
   "cell_type": "code",
   "execution_count": 50,
   "metadata": {},
   "outputs": [
    {
     "data": {
      "text/plain": [
       "array([1.000e+00, 2.000e+00, 3.000e+00, ..., 1.187e+03, 1.188e+03,\n",
       "       1.189e+03])"
      ]
     },
     "execution_count": 50,
     "metadata": {},
     "output_type": "execute_result"
    }
   ],
   "source": [
    "batch1[\"b1c0\"][\"summary\"][\"cycle\"] # Number/index of charging cycle"
   ]
  },
  {
   "cell_type": "markdown",
   "metadata": {},
   "source": [
    "# 1.4 Cycles"
   ]
  },
  {
   "cell_type": "code",
   "execution_count": 51,
   "metadata": {},
   "outputs": [
    {
     "data": {
      "text/plain": [
       "['1184', '1185', '1186', '1187']"
      ]
     },
     "execution_count": 51,
     "metadata": {},
     "output_type": "execute_result"
    }
   ],
   "source": [
    "list(batch1[\"b1c0\"][\"cycles\"].keys())[-5:-1] # For this cell they measured 1188 charging cycles"
   ]
  },
  {
   "cell_type": "markdown",
   "metadata": {},
   "source": [
    "### Get all data from one exemplary charging cycle"
   ]
  },
  {
   "cell_type": "code",
   "execution_count": 56,
   "metadata": {},
   "outputs": [
    {
     "data": {
      "text/plain": [
       "dict_keys(['I', 'Qc', 'Qd', 'Qdlin', 'T', 'Tdlin', 'V', 'dQdV', 't'])"
      ]
     },
     "execution_count": 56,
     "metadata": {},
     "output_type": "execute_result"
    }
   ],
   "source": [
    "batch1[\"b1c0\"][\"cycles\"][\"1054\"].keys()"
   ]
  },
  {
   "cell_type": "markdown",
   "metadata": {},
   "source": [
    "### 1.4.1/2/3 I (index), Qc (charge) and Qd (discharge)"
   ]
  },
  {
   "cell_type": "code",
   "execution_count": 82,
   "metadata": {},
   "outputs": [
    {
     "data": {
      "text/plain": [
       "array([0.0000000e+00, 5.9319001e-07, 5.9319001e-07, ..., 1.0357687e+00,\n",
       "       1.0357687e+00, 1.0357687e+00])"
      ]
     },
     "execution_count": 82,
     "metadata": {},
     "output_type": "execute_result"
    }
   ],
   "source": [
    "# Why are I, Qc and Qd identical?\n",
    "# When building the pickle all of them were set to \"Qc\"\n",
    "assert sorted(batch1[\"b1c0\"][\"cycles\"][\"1054\"][\"I\"]) == sorted(batch1[\"b1c0\"][\"cycles\"][\"1054\"][\"Qc\"])\n",
    "assert sorted(batch1[\"b1c0\"][\"cycles\"][\"1054\"][\"I\"]) == sorted(batch1[\"b1c0\"][\"cycles\"][\"1054\"][\"Qd\"])\n",
    "batch1[\"b1c0\"][\"cycles\"][\"1054\"][\"I\"]"
   ]
  },
  {
   "cell_type": "markdown",
   "metadata": {},
   "source": [
    "### 1.4.4 Qdlin (linear charge)"
   ]
  },
  {
   "cell_type": "code",
   "execution_count": 81,
   "metadata": {},
   "outputs": [
    {
     "data": {
      "image/png": "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\n",
      "text/plain": [
       "<Figure size 432x288 with 1 Axes>"
      ]
     },
     "metadata": {
      "needs_background": "light"
     },
     "output_type": "display_data"
    }
   ],
   "source": [
    "# Is Qdlin a smoothed out version of Qd?\n",
    "plt.plot(batch1[\"b1c0\"][\"cycles\"][\"1054\"][\"Qd\"], label='Qd')\n",
    "plt.plot(batch1[\"b1c0\"][\"cycles\"][\"1054\"][\"Qdlin\"], label='Qdlin')\n",
    "plt.legend()\n",
    "plt.show()"
   ]
  },
  {
   "cell_type": "markdown",
   "metadata": {},
   "source": [
    "### 1.4.5 T (temperature)"
   ]
  },
  {
   "cell_type": "code",
   "execution_count": 91,
   "metadata": {},
   "outputs": [
    {
     "data": {
      "text/plain": [
       "array([32.275799, 32.275799, 32.275799, ..., 32.112251, 32.112251,\n",
       "       32.112251])"
      ]
     },
     "execution_count": 91,
     "metadata": {},
     "output_type": "execute_result"
    }
   ],
   "source": [
    "batch1[\"b1c0\"][\"cycles\"][\"1054\"][\"T\"]"
   ]
  },
  {
   "cell_type": "markdown",
   "metadata": {},
   "source": [
    "### 1.4.6 Tdlin"
   ]
  },
  {
   "cell_type": "code",
   "execution_count": 85,
   "metadata": {},
   "outputs": [
    {
     "data": {
      "image/png": "iVBORw0KGgoAAAANSUhEUgAAAXQAAAD8CAYAAABn919SAAAABHNCSVQICAgIfAhkiAAAAAlwSFlzAAALEgAACxIB0t1+/AAAADl0RVh0U29mdHdhcmUAbWF0cGxvdGxpYiB2ZXJzaW9uIDMuMC4zLCBodHRwOi8vbWF0cGxvdGxpYi5vcmcvnQurowAAIABJREFUeJzt3Xd4W9X5wPHvsby3HY8MO3EcZy8nOItAEpIUwih700KZZbQU6GC0hUIHP0ZLgbJnyqaEMAIkkJBBNs7eie0sO/GM95Sl8/vjys6OZVvSleT38zx6ZF1dSe/NdV4fnXvOe5TWGiGEEL4vwOwAhBBCuIYkdCGE8BOS0IUQwk9IQhdCCD8hCV0IIfyEJHQhhPATktCFEMJPSEIXQgg/IQldCCH8RKAnPywhIUGnpaV58iOFEMLnrVmzplRrndjWfh5N6GlpaWRnZ3vyI4UQwucppfY6s590uQghhJ+QhC6EEH5CEroQQvgJSehCCOEnJKELIYSfkIQuhBB+QhK6EEL4CUnoQogub3luKZsLKs0Oo9M8OrFICCG80bWvrQJg9+PnoZQyOZqOkxa6EKJLq2+ytf687WC1iZF0niR0IUSXtnhncevPczYeMDGSzpOELoTo0vaW1QEwrm88s9bmo7U2OaKOk4QuhOjSKuqtBFkUF4zoQVFVIwcqG8wOqcMkoQshurSKOisxYcH0TYgEIP9QnckRdZwkdCFEl3aotpHY8CB6xoYC8NGP+02OqOMkoQshuiytNStyyxjRK4be8eEArN1XbnJUHScJXQjRZdVbbVQ1NNM/OYpASwA3TezLnrI61uz1zaQuCV0I0WVV1lsBiA0PAuDacakAbMyvMC2mzpCELoTosloSekyYkdD7JUYSHRpIbkmNmWF1WJsJXSkVqpRarZTaoJTaopR61LFdKaX+rpTaqZTappS62/3hCiGE61TWHZ3QlVL0S4okt7jWzLA6zJlaLo3AVK11jVIqCFiqlPoGGAykAoO01nalVJI7AxVCCFeraWwGIDLkcCrslxjJD7tKzAqpU9psoWtDy/ePIMdNA3cAj2mt7Y79ik/yFkII4ZVqHXVcIkIsrdvSEyMoqmqkusFqVlgd5lQfulLKopRaDxQD32mtVwH9gKuUUtlKqW+UUv3dGagQQrhanaOFHh58uIXeMnzxQIXvzRh1KqFrrW1a60wgBRirlBoGhAANWuss4DXgzRO9Vil1myPpZ5eU+ObXGCGEf6praaEfkdBjw4KBwxdMfUm7RrlorSuARcAMIB+Y5XhqNjDiJK95VWudpbXOSkxM7ESoQgjhWnVNRgs9LPhwl0t0mJHc/TKhK6USlVKxjp/DgOnAduAzYKpjt8nATncFKYQQ7lDbZCPIoggOPJwKW0a8lNc1mRVWhznTQu8BLFRKbQR+xOhDnwP8H3CZUmoT8Dhwi/vCFEII16tvsh3Vfw4QG250uby1bI8JEXVOm8MWtdYbgVEn2F4BnO+OoIQQwhNqG5uJOKK7BYwWeu/4cBqstpO8ynvJTFEhRJdV12Q7qv+8xXnDe5BfXofN7luLXUhCF0J0WbVNzUSEHN9R0Ss2FKtNU1bbaEJUHScJXQjRZdU12Qg/QQs9KdqojV5c5UjoWsPKl6Gh0pPhtZskdCFEl1XX1HzcRVGAZEdCL6pyTC7KfgPm3g8bP/ZkeO0mCV0I0WVVN5y4yyU5OgSAoqpGqC+HBY9B+hTIutmzAbaTJHQhRJfTbLPz7ZZC8svr6eOY6n+khMgQlHK00Jc9Z3S1nP03CPDulOlMtUUhhPArP+wq5bZ31gAwIiXmuOeDLAF0iwih7lAB5LwMwy6H7sM9HWa7SUIXQnQ5ByrrAZh95+lkpsaecJ+kqBAm7n8ZmhvhrIc8GV6HSUIXQvgHraF8D2g7RPeCoFBjm9bGNjRNzTa0tlFWXkkojQxNsKCaao7YBwgMgaAwJoTkcmb5VzDudujWz8wjc5okdCGE72tugtm/hC2fnnK3YMf93cDdocCTJ9kxLI4H66spsCfQPOzXpLswVHeShC6E8B5VB6DqIIRGQ1gcWIIBRysbDQFBYAky7lsuUDbVwaybYcfXcMa90K0/VB8AmxVQ2FE02TTf7yghp6SWMX27AYqk6DD6JUUBClQAKGW8n7Ueqgoormjgms3j+HtdkCR0IYRwmtbw/V9h6TOHuz7aoiyHE35zI5z3NIy99bjdbnprNYt2GGsxjOsbz903THDq7ZtKaynYvIjiat+ZLSoJXQjhGc1NsHuJ0XpWFggIhNAYoyW+5m3Y8D6MvBaGXASNVVBfAbZGWlvQAHar0fK2N4OtyXGzwuCfQtoZR32c3a5ZtLOYVXmHmJjRjWmDkjk9o5vT4SZGGWPRX1uSx5VZqS76R3AvSehCCPfbtxI+vwvKck6+z+T7YcqDh7s+Omnl7jJuejsbgCtOS+XiUb3a9fqIkEB6x4fT7EMFuiShCyHaz2aFvcshwAIxqRCRaHSV2I0VgAgMAUsI1JbAkqfgx9eN/a58B3qOAm0Du81ohdcfgvh0l44kqWtqZuuBKgBm3TGB0b3jOvQ+0wYn8fGP+10Wl7tJQhdCtI+1Af57Iexf5dz+KgDG3gbT/gwhUe6NDdiUX8nFLy7DZteEBAYwKjUO1cFWf/foUGqbbFQ1WIkODXJxpK4nCV0I0T7f/9VI5uf/E+L7QcU+qCsz+sQDAmm9SGlrguAI6H8OJA7wWHjbCquw2TX3TO/P6N5xBAR0vAunf3IkANsPVjO2b7yrQnQbSehCiMNqy2Dt20aXSsIAYxRJU63Rrx3d00jeK16ArJtgjPetOllQUc/ynFIA7pjSj5DA40vjtkd6gpHQ9x2qk4QuhPAhTXXwzsVQuBFQwEkuBnYfYRSq8kL3f7KRpTmlpMSFdTqZw+EFoyvrrZ1+L09oM6ErpUKBJUCIY/9PtNaPKKXeBiYDLRXff6G1Xu+uQIUQbbDboakaQqLbP1JEa/jybijcBNd8aJSKLcsxLnQGRxr3lfuNUrIDzoXg4ysUeoM9ZbVMG5TEP68c6ZL3i3Yk9Cp/SehAIzBVa12jlAoCliqlvnE893ut9SfuC08I4ZTCTfDx9XAozxhdEpV8eOx2yyxLDt9hCYLA0Na6JTQ3QMEamPpnGHiusc+x1QUT+nviSNpt5vI9vLQoF4DCqgYuHNmT2PDgNl7lHEuAIiok0H9a6FprDdQ4HgY5br4zMFMIf1e0FWZeaCToaY8YwwBrio1E3tpSV0e32m1NxoXL5gZjqrvNCj95DE6/25RD6Ix5Wwqxa82UgYlYAhSXnZbi0vePDguioq7Jpe/pLk71oSulLMAaIAN4QWu9Sil1B/B3pdTDwALgAa2178yRFcJb1ZbCnh/A1mzUNLEEw74VsOs7o9tDBUBQuNEVEhwOxduMx7+Y4zNVAV2hst7KvR+tZ3luGZeM6sWTl7umm+VYveLCKKiod8t7u5pTCV1rbQMylVKxwGyl1DDgQaAQo4DZq8D9wGPHvlYpdRtwG0Dv3r1dFLYQfqLukNE/Hd7NuF87E+b/5fjFiFUA9MqCQecb+zXVgbUOmmqg31Sjq6QLJXOAhz7dxPfbi0lPiOCG09Pc9jkpsWF8uq6Agop6esWGue1zXKFdo1y01hVKqUXADK31047NjUqpt4DfneQ1r2IkfLKysqSrRggwhgLO+yOsect4HBRh1O+uK4O0M2HawxAaa9Q0aaoxRpaEe/+wOU/5cPU+vtp0kGG9opl950SCLO5bGm58v258uq6A3OIa30/oSqlEwOpI5mHAdOAJpVQPrfVBZUzBuhjY7OZYhfBNWkPFXsjPNkaO2Kyw9TMoy4Uxtxot6/K9Rqt8wDlGcSoX1TPxRyXVjTw4exMAz109yq3JHGgtG1DuA/3ozrTQewAzHf3oAcDHWus5SqnvHcleAeuB290YpxC+58B6WP485C2CutKjn+vWH67/zBgeKJxWWW/lov8sRWtj4lB6YqTbPzM+whgxU17rBwlda70RGHWC7VPdEpEQvkxro7LgD09DznwIiYFB50FKFqSMgaQhxpDBo0agCGct2VnCgcoGzhmazP0zBnnkM2PCgggMUBysavDI53WGzBQVorNszZC/GrZ/ZayacygPwhOMfvAxtxg1v48lybzdGqw27p+1EYBnrz6ujek2lgDF0F4xrN9X4bHP7ChJ6EK0JWc+rHzZ6P9umYgTFGH83NxoTJVvrDKGF/adBBN/A8Ov9NrZlL7o0S+3sCK3jLomG5MGJBIa1Plp/e2R1i2c9fsloQvhuyoL4Kvfws5vjFreKWOMet/WOmPYYEOFUV1w2GWQPhn6TTPGjQuXWplXxlvL9tA3IYJzhibz/DWjPR5Dt4gQSn1gKTpJ6EKcSN4i+Ojnh2dQjrvdaJELj1uy01gPdOaNY+ndzZxvPd0ig6ltspFbUkM/D1yI7ShJ6EIcK28RvH+VUev76neN1XSEaQorG+gZE2paMgcY0tP45rU8p9SrE7p7B3AK4c20Pv7x1s8PJ/MbvpBkbrIGq41P1xWQHBNqahxnZCQAUOblQxelhS78m80KGz6EqgPGxUxth5LtRnXC0p3GtvAEY2Wdxmoo322seXndLIhwfoV44VrF1Q08MMuY2g8wfXCyqfEEWQKIDQ+irEYSuhDmsNbDxzfArnlHb4/sbpSGTZ9iVB2sLTUudFqC4fRfQebPjGn4wjSPfbmV77cXM7RnNGkJEdw4Mc3skOgWEUxZrXdfGJWELvxLQxUsfsJYiKFoMxzcCOc9DafdaJSK1bYTjwsXXqOp2c6cjQcZ2jOar+4+0+xwWiVEhlAqLXQhPGjOvbD5E4hIBGWBK96GoRcbz1m892KWOGzV7jLgcA0Vb5EQGcL2wiqzwzglSejC91UWGJN4ds4zkvnUP8Gk35sdleigzQVG0rz1TO+6IN0tMlguigrhVkv/bdQPV8q44NlnIpxxn9lRiU54Yu52AJKivWvcf1x4MJX1Vmx2jSXAO0s3SEIXvkNroxVest2oGV5bYiTz/mdD92FG+dmpf4IAz04LF66z4Yjp9Z6e3t+W2PAgtDYWjI6LcM2apa4mCV34huZGmHUzbPvy6O09Rhr95FI3xS9c89pKAKYPTjI5kuPFhgcBUCEJXYhOaKyGD6+D3YuNafiZ18G2L4y+8/F3SjL3EznF1dQ12QC4bnwfk6M5XmyYkcQLKxvomxBhcjQnJgldeLeCtfDF3VC8FS5+CTKvNbZn3WRuXMLlWi6GfnfvJPonR5kczfEyU2MJsigW7ShmQj/vnHQmCV14j9WvwZKnIGEAZEyHvIVGXZXwBLj2Y+g/3ewIhZvsLKrmno/WA5Aa753fuOIigkmNDye/vN7sUE5KarkI71BZAHMfgKjuUJkP8x+B0l3GRc6710ky93Ofry8A4KLMnl53MfRIPWPC+GrTQRqsNrNDOSFpoQvvsPpVY9jhlf+F2D5QfRAik2XEShdR12QjyKI8uhJRR2QkRbI0p5T88joykryvW0ha6MJ81gZYOxMGnQ9xacaY8uieksy7kJLqRlLivLOr5UgtRcIO1VpNjuTE2kzoSqlQpdRqpdQGpdQWpdSjxzz/vFKqxn0hCr+39XOj9sqYW8yORJikuLqRxCjvmkh0InERxtDFQ15apMuZFnojMFVrPRLIBGYopcYDKKWygFg3xif8nc0Ky5416o+nTTI7GmGSUh9J6PGO8efe2kJvsw9da62BlhZ4kOOmlVIW4CngWuASt0Uo/IvdDov+AZs/NQpo2ZqgeAtc9R4ESA9gV/TNpoPkldYyaUCi2aG0KS7cSOjldd5Z08Wp/0FKKYtSaj1QDHyntV4F/Ar4Qmt9sI3X3qaUylZKZZeUlHQ+YuHb5j9iDE2MTTX6yptq4IJnYPAFZkcmTPLy4lwAxqd759juI4UGWYgItnDIS4t0OTXKRWttAzKVUrHAbKXUJOAKYIoTr30VeBUgKytLt7G78GfZb8Ly52DMrXDeU0ZCF13aqrwyNuRXcs3YVGYM6252OE6JDQ/m4+z93D2tPzFhQWaHc5R2fcfVWlcAi4CzgAwgRym1BwhXSuW4PDrhP4q2wjf3Q8ZPYMb/STIXACzPNWqf33VWhsmROG94rxiqG5p5fsEus0M5jjOjXBIdLXOUUmHAdGCN1rq71jpNa50G1GmtfeeMCM8oWGPM9Gxugtm/hJBouORlsMj0BwHltU08u2AXYUEWnxiy2OKln40mJiyI/eV1ZodyHGf+Z/UAZjouggYAH2ut57g3LOHzyvfA69ONyUJxacbjq96DiASTAxPe4rnvjRZuvZfOujwZpRQjU2MprGwwO5TjODPKZSNwyulbWmtZ20scbeVLRjJPHQf7V8GEX8mFT3EU7bii1is2zNxAOqBHdCjbD3rfcnTy3Ve4XvleWPM2jLwWLn7RmMYf3dPsqISXaVnO7b1bxpkcSft1jwmlpKYRq81OkMV7htt6TyTC92kN+1YZXS0BQTD594en8QtxhH1ldXy54QDnDE0mzUtri59Kj5hQtDZmuHoTaaEL11j+H2OMub0Z4vrCDV9CvHct8iu8x6SnFgLw05G++cc+OSYUMBa78KYuI2mhi86zNsDiJyEmFcbdDrd+D0mDzI5K+IAZQ31j7PmxejgS+rp95SZHcjRJ6KLzdn0LjZVw/tNw7hMQHm92RMLLRQRbuGliXwK9qP+5PVqGWX616ZQT5T3ON/81hfewWY1a5hFJ0HeK2dEIH7BwRzG1TTaSor2/GNfJRIYEMmlAIntKa80O5SiS0EXnzHsI9vwAZz0oE4ZEm5ptdn79/jrAd/vPWwzuEUV5nZXsPYfMDqWVJHTRcbuXGK3zcXfIos3CKT/uKaemsZmfj+/jVRcTO+Kikb0AyCvxnla6NKlE+9mssG8FfHanUcd82sNmRyR8gNaaFxYaJZ9um+T7I6DSE43hliU13jN0URK6cJ6tGTZ8AIseh6oCozbL9Z9DsO/U4RDmqKhr4vo3V7MxvxI4PErEl4UGWYgKDaTEi8aiS0IXzvvkF7DtS+iVBTMeh7QzZUSLcMrP3ljF5oIqLh3Vi19P6++zo1uOlRgZIgldeCebXfPd1kLGp3cj1rEyS6vdS4xkfuZvYeqfpfytcFplvZXNBVVMH5zMv67KNDscl0qICvGqLhf/+DMpOq2sppGLXljK7e+u5cl5O45+0m6H7x6G6BSY9AdJ5qJdcoqrAbhuXG+TI3G9xKgQth+swmqzmx0KIAldAPd8uI7T/jafzQVG9bjVu48ZhrX1MziwDqb+EYJ8v+9TeNa2g0ZC7+uDNVvackZGAlUNzWwqqDQ7FEASugA+W38AgLjwIG6f3I+c4prDayY2N8GCxyBpKIy4ysQoha/6ZvNB0hMi6NPN/y6eZ6bGArD/kHcsdiEJvQuz2uxU1llbHydFhTIiJQaAL9YXGBuXPgPlu2H6XyDA4vkghU/bVVTNspwyJg1IRPlhV12vOGMsfctwTLPJRdEu7ML/LGObo0h/r9gwZt91OqGBFgIDFAerGoxVhpY8CcOvgP4/MTdY4ZNeWZIHwBVZKSZH4h7RoUFkpsayfn8Fh2qbiI8IbvtFbiQt9C7IZtf8+oN1rckc4NM7Tyc8OJCAAEWvuDBeWZyHXvQEBATCT/4qF0JFu+0rq+OrjQc5s38CQ3vGmB2O21zruNi7cHuxyZFIQu+SdhZV8+UGo9/8tz8ZwOd3TSQ5+vDFzumDk0lXB2DjhzDmFojuYVaowoc9OW879VYbt0/uZ3YobnXecOP/R6kXDF9ss8tFKRUKLAFCHPt/orV+RCn1BpAFKGAn8AutdY07gxWdt6+sjnOf/QGAxy8dzhWnpRw3yeOaQRamrHobmyWUwIn3mBGm8HFDHp5LXZON/kmRTMzw74XBI4IthAQGMHdLIb80+Y+XMy30RmCq1nokkAnMUEqNB+7VWo/UWo8A9gG/cmOcwgX+l72/daUYgKvHpB4/Y09r0r6+lokBW1iT8WuITPRwlMLXaa2pa7IB+H3rHEApRViwhc0FleiWla9N0mZC14aWlneQ46a11lUAyrh0HQaYeyTipGx2zex1+fz+k40ATBqQyNo//+TEow72rSTwUA4PNN/KnNALPRyp8AfljpFTSsH5I7pGd9290wdgtWn2lpk7fNGpPnSllEUptR4oBr7TWq9ybH8LKAQGAc+f5LW3KaWylVLZJSUlLgpbtMfFLyzj3o82APDxLyfw35vGnvxq/Nr/QlAERannsmin+Rd5hG+x2TVPzt0OwIvXjiY0qGsMdR3dOw6AP3222dQ4nEroWmub1joTSAHGKqWGObbfCPQEtgEnnHWitX5Va52ltc5KTJSv7550sLKeb7cUts5ie/lnoxnb9yTFtMpy4aWJsOF9GHUdg/r0oKiyEbtdvngJ5/358818+ON+ADJ7x5ocjecMT4lhREoMu01ewahdo1y01hXAImDGEdtswEfAZS6NTHSI1pqc4hqqG6xMfXoxt72zpvW5yQOSTv7C7/9qjDuf8QSc/Td6RIfSZLOzcneZ+4MWfuP9VfsAo25LjxjfXsCivU7vl0BxdYOpjSBnRrkkAlatdYVSKgyYDjyplMrQWuc4+tB/Cmx3c6zCCd9tLToqif/t4mFcmNmT6NCgk7+ovhy2fwVZN8P42wE4o7/xbWpFbhmn9/PvUQrCNYqrGwhQ8Kup/bnvJwPMDsfjkqNDsNo05XVNdIs0Z71UZ2aK9gBmKqUsGC36j4GvgB+UUtEYwxY3AHe4LUrhtPnbio56fFFmT6JOlcwB1r0HtiYYeXXrpoykSNITIthVJCNRhXO2FFRh1zCpf9dsAHR3zOUoqmr03oSutd4IjDrBUxNdH47oCK01jc12Xl2Sx8fZ+QA8eO4geseHt53Mm5tgxQvGYhU9j65VnZEUSU6JJHTRttrGZu54z/hm2Keb/1VVdEaSI6Ev2lnMkJ7RpsQgtVz8wNWvrmSVo+RtekIE/7h0OOPTuzn34i2fQvUBuPD4QUoZSZF8v70Yq81OkJ+sMCPc49N1BTRY7WSmxpIQaW49E7NkJEYC8O/vdnHTxL6mjPCR/6U+rMFqI7+8rjWZ90+K5PvfTXE+mQNs/Aji0iBj2nFP9U+OpNmuWZV36PjXCXGEjfsriAoJZPadp/tlVUVnxDjKTzfZ7MevKeAhktB92HWvr+KMJ4yZnz1jQvnrxcPa9wZVByFvMQy95ITFt0amGMPOZq8r6HSswn/VNTXzvzX5nJYW12WTeYvrJ/QBIL+83pTPl4Tuw9bsLW/9efmD09rXMgdY/SpoO4y+/oRPpzu+Qs5am+8VhYeEd/pgtTHufNqgUwyL7SKSo0MJDQpgw/4KUz5fEroP0lrzyOeHZ6S9feOY9r/J5k9hxX9g2KUQn97m7ntMnjAhvNMHq/fx1zlb6ZsQwc8npJkdjuksAYqzBiaxIs+c+RuS0H3QlxsPMnPFXgD+cclwpgxsZ8vo0G6YdQskD4MZ/3fKXd+9eRwA1Y3NHYpV+K/luaU8+OkmAG6cmGZuMF4kLSGCg5X12EyYYCSjXHzMmr2HeGCWUWRr2qAkpg/uwNfc1a8ZfeZXvweRp359j1hjKFZVvfWU+4mu537H7+F7t4zz+xK57dEzNgyrTVNa03jUOgOeIAndh7yzYg9//nwLAC9cO7pjleyqi4wCXEMuguiebe4eE2aMYy9vWTRaCODrTQfZf6ieX05Kl2R+jG6OwnfldU0eT+jS5eIjCirqW5P5s1dndrws6eInoLkBpjzk1O7x4cEkR4ewUoYuCoeVeWXc+d5aACYPlIJ7x4ptbQR5/luttNB9gNaabzYdBIz60hdl9urYG1UdgHXvwKjrICHDqZcEBCgyU2PJlRmjAmNk1XMLdgGw+o/TSIrybAvUF8SGGy30ijrPf6uVhO7FahqbmfbPRRRVGUMGo0ID+deVIzv2ZnWH4L8XgQqAdi4r1yMmjB92laK17vLjjLuy6gYrl720HICEyGBJ5ieRHG3Ucdld5vmRYdLl4sW2HqhqTeZ3ndWP2XeeTkhgB6cTb/wISnfCtR9BfN92vXRg9yjqmmymDcUS3iGn+PC3tJvPaHuoa1fVLTKEESkxPLdgF/WOpfg8RVroXmztPmPi0MoHp9E9ppOtoc2zoPtwSJ/S7pdOcfSTPr8gR0rpdmHzthiVPL+++0zTik/5iikDEtmYX8mKvFKmDkr22OdKC91LWW12XluSx8iUmM4n80O7If9HGHpph16e4CgFKi30rktrzfur9hIebGFwjyizw/F6V4/tDUBhpWdnWPtEC/3BTze2q0BUoEXxxGUjGOVY58+XbC6o5IddpTzhWJfx75cM7/ybrnvX6DsfccJVAtsklRbFm8v2UNXQzN3T+st1FCckRhmNoIdmb+LS0b08VnnRJxJ67/gIahqd74tasK2Ia19bRXiwhSBLAC9cN4r+yVFEhQR69S/jqrwyrnp15VHbzuzsYgG2Zlj/HmRMh5gOjo4BJg9IZPHOEuqbbIQFd42Ff4WhtKaRv3+1FYBLR3X8d6grCbIEkNUnjuy95ewurWVwD890UflEQr9jSr927f/lhgOs2l1Gg9XOJ2vyueylFQBEhQSSnhjB/24/neBA72t1PjN/JwAhgQFcN64PV41JJSKkk6codwFUH4Rzn+zU20zM6MbinSU8+OlG/n31idY7Ef7qov8sw67hnZvHkpbQNRev6IgHzh3E5S+voKS6kcEdnDbSXj6R0NvrpyN78tORxizIC0f2ZGdRNY3NRo3ixTtLWLSjmHlbihiQHMkvJ7fvj4W7fLulkJV5h7hmbCqPXzrCdW+89r8QkQgDZrS97ymU1Rhjaj9bf0ASehfy7/k7KaioZ2jPaLkg3k4t3S7Lc8uYNMAzE7D8MqEfadKAxNZ/zDMyKli8s+SoRZRvPqMvgSb3Ef/r2x08930OAGmuXL6rphh2fAMT7oLAzq0iM7D74QthFXVNrZMnhP/aXVrLv+fvIjQogDduGIMlwHu7K71Rz9gwokMDeXlxLmP7xjEhPcHt3ZVtZjKlVKhSarVSaoNSaotS6lHH9veUUjuUUpuVUm8qpdpYvNJ8w3tZQwUHAAAacElEQVTF8NB5g7hjSj/OHmIMJfrwx/0szyk1Lab9h+pakznAWa6sKb1lNmgbZF7X6be6ZFQv7p8xCIC5mws7/X7Cu9ntmjkbDgAw+86JnR9p1QUFWQJ45edZANz0djYFFe5f9EJpfeoSj8q4ihihta5xJO2lwG+AeOAbx27vA0u01i+d6r2ysrJ0dnZ256N2gUU7ivnFWz+2Pl710DSPF9JZmVfG1Y6LoNMGJfGfa0e77i94+V548xyISIDbl7rkLbXWjPn7fCYPSOKfHZ2xKrye1WbnkheXsbmgit7x4Sz63RQCpHXeIVpr1u6roLaxmay0OMKDO9YpopRao7XOamu/Nlvo2tAyRSzIcdNa668dz2lgNZDSoUhNMqFfNx6+YAjnDe8OwLh/LDhqJpy7Haysb03mAK/fkOW6ZG63w6yboakOLnnFNe8JKKXISIpkjwlTmoVn5BTXcO6zP7C5oIqUuDBm3jRWknknKKU4rU8ckwYkdjiZt4dTncdKKYtSaj1QDHyntV51xHNBwM+Bue4J0T1CAi3cdEZfXrh2NBdnGhdQz312CY3Nnpmq+/Q8Y0RLTFgQr12f5drhlJtnGROJznsKkoe67n2BPvER7C2rc+l7Cu/x9LwdrQ2b+fdNpq+MavEpTiV0rbVNa52J0Qofq5Q6cjXiFzG6W3440WuVUrcppbKVUtklJSWdj9jFlFI8fcVIrspKxWrTFFY2uP0zS2sambU2n1G9Y1nzp+n8ZIiLpwbv+BqiesKIK137vkDvbuGU1jQetZ6p8B85jqqaX/xqoscmwwjXadfwDq11BbAImAGglHoESATuO8VrXtVaZ2mtsxITvbN2cqAlgItGGa30v87ZSlOz3W2ftW5fOVl/mw/A788Z6PoRNlrD3mWQNtFYlcjFejpWMLri5eUuf29hru2FVeQU13DP9P6MSIk1OxzRAc6McklUSsU6fg4DpgPblVK3AOcA12it3ZcBPWRUahw9Y0KZv62Ya19b6Zb630t3lXLJi0Yi7BUbxoT0bi7/DMpyoaYI+kx0/XsDZw/pTlRIIHZtfNMQ/sFu19wy0xiwMNWVI62ERznTPOwBLFRKbQR+xOhDnwO8DCQDK5RS65VSD7sxTrcLC7bwzT2TyEiKJHtvOdP+uZhtB6tc+hn/+m5H68/z75vsnjIEuQuM+7QzXf/eQERIIG/fNAaA7D3S7eIvHv1yC/nl9Vx+Woq0zn1Ym5ddtdYbgeOmBmqt/W5SUkxYEPPumcSCbUXc9s4aZq8r6FQNhm0Hq7jnw/X0igtjT1kteSW1XDKqF89clenCqI+xeRYkDXF6RaKOGNYrhuDAALL3HGLGsO5u+xzhGVsOVDJzxV5iwoJ49ELXXkQXnuV3SbmzLAGKs4caSerVJXncP2NQu2bINTbbeGruDrYXVvPjnkM0NtvZUVTd+vzoPm6sALlrPuxfBef8w32fgTFCKDM1lh/lwqjPW5ZTynWvG4PWZt95eudrBwlTydlrw/C/zGPLo+c43T3y0qJcXl+6G4A+3cK5MiuVn47oSUxYEN9uLez44s7OWPh3iE+HMbe47zMcxqTF8cLCXCrrrcSEef0kYXECWmvu+3g9AP+4ZDjpiZEmRyQ6y/tKDnqJOb8+A4C6JhsvLMw55b7NNjs5xdW8uXQ3H/24H4A7p/Rj8e/P4q6zMujdLZyY8CCuyEp13+SC8r1wYC2cdiMEhrjnM44w3nFBt2XBYOFbtNbc+PaPFFU18ucLhnDtuN5mhyRcQFroJzGsVwzf3TuJC55fymfrD3DXWRlHtdIbrDYKKxt49MstLNxx9Pj6B84dxO2eruK4fY5xP/gCj3zcGRkJRIUG8sbS3fxhxsCOr3UqTJFTXMOiHSWkxodx/YQ+ZocjXERa6KfQPzmKP10whJziGp49piV6/ZurmfL0oqOS+Y0T03jjhix+cXqahyMFtn4BycONLhcPUEq1/tGSVrrveX/1PgDevnGsrEjlR+RMtuH84Uaf97/n72LelkJuf2cNdrtm9e7DS+LdM70/L143mocvGMK0wcmen2FXXWhcDB38U49+7J1T+jF1UBIvLMxl5xEXfoV3y95ziLeW7QEgXab2+xXpcmlDfEQwz1w1kns/2sAvHXXU0x/6GoArTkvhqSu8oOrg9q8A7fGErpTi11Mz+H57MfM2FzIgWRYP9gWfrMkH4OWfnebVSzKK9pMWuhNGnmCihSVA8duzB5oQzQnkLIDYPpA02OMfPap3HEN7RrMs17ya8sJ5dU3NfPjjfi4Y0UPmEPghaaE7IT0xkp1/O5e1+8qJCg1kSI9o6q02j5TDbJOtGfb8AMMudUvtFmdMzEjg7WV7ZAFpH3DHu2sByEyV2aD+SFroTgoODGB8ejeG9oxBKeUdyRzgwDporIL0KaaFMHlAIk02O4t3FpsWg2jbD7tKWLyzhEHdo7hqTKrZ4Qg3kITu6/IWAQrSJpkWwri+8UQEW3hlSZ5pMYhTa2y28d5KY2TLG78YQ1SoTAbzR5LQfV3eIug+HCLcULnRSYGWACb0S2DdvgrSHviKhTukpe5NrDY7ZzyxkLlbCrl0dC96xYaZHZJwE0novqyp1hiumD7F7Eh4/prD9dtaWoLCO+QU11BSbZQ6vnOKhye8CY+ShO7L9q4Au9UrEnpYsIWZN40FYP62IjYXVJockWjRci7m3zeZjCQZWurPJKH7sryFYAmG3hPMjgQwLo6+d8s4AJ6at6ONvYWnLNpZQniwRdYH7QIkofuy3YshdRwEh5sdSauJGQncODGNJbtK2FtWa3Y4Xd6CbUV8tfEgk/ontqsMtPBNktB9VVMtFG3xmtb5ka4ak4rW8L/sfLND6dJKaxq5eWY23aNDeewiWbiiK5CE7qsOrAdth5QssyM5Tj9HXe1Za/PRWpscTdf1M8fCFX+5cAhJ0aEmRyM8QRK6ryow6srQ6zRz4ziBIEsAf71oKAcrGxj88Fwp3GWC/Yfq2F5YzYyh3ZkxzI2Lqgiv0mZCV0qFKqVWK6U2KKW2KKUedWz/lVIqRymllVIJ7g9VHKUg26jfEuGd//TXjO3NA+cOosFq5y9fbDE7nC4np7gGgFsneaacsvAOzrTQG4GpWuuRQCYwQyk1HlgGTAf2ujE+cTIFa72ydd4i0BLA7ZP7MWVgIstzy3hlca7ZIXUpC7YXAZAaJ5OIupI2E7o21DgeBjluWmu9Tmu9x53BiZOoLoLK/V7Zf36sf12ZSUJkMI9/s7211Sjcq6iqgXdX7iMxKoTEKPcvRyi8h1N96Eopi1JqPVAMfKe1XuXesMQp7Xf883txC71FfEQw3/zGqDMz/V+LqayzmhyRf9t6oIpLXlgGwH+uGSX1zrsYpxK61tqmtc4EUoCxSqlhzn6AUuo2pVS2Uiq7pKSk7ReItuUthJBon0joAIlRIVyc2ROAkY99S3ltk8kR+a9n5u/kQGUD0wcnc1qfOLPDER7WrlEuWusKYBEwox2veVVrnaW1zkpMTGxneOKECtZAr9Fg8Z2Kec9cldk6sWX+tiKTo/FfOwqrOX9ED16/IYtAWSu0y3FmlEuiUirW8XMYxoXQ7e4OTJyEtcGYUNRzVNv7ehGlFJ/ecTpg1BZpttlNjsj/2O2awsoGUuRCaJflzJ/wHsBCpdRG4EeMPvQ5Sqm7lVL5GN0wG5VSr7szUOFQtAXszdBztNmRtNuIlBgAZq7Yy00zs6msszJ380Hyy+tMjsw/vLdqL002Oylx3lMKQnhWm8vuaK03Asc1B7XWzwHPuSMocQoHjCXEfK2FDkYr/dYz+/LaD7tZsrOEkY99C8AZGQm86yjqJTrmkzX5/PlzY7z/RY7rFaLrkU42X1O607ggGpNidiQd8sfzhzDL0fXSYlNBpZQI6KSZy/cA8MrPTyNaViPqsiSh+5rSXdCtn2kLQrvCaX3ieOHa0cwY2p1fnJ5GZb2Vl2TiUYcVVNSzqaCSM/sncM7Q7maHI0zkJSsdC6eV5ULv8WZH0Wnnj+jB+SN60GC18fbyPTw5dwc1Dc1cPaY3KXFhBEipV6d9sMpYIeo2mebf5UkL3ZdY640Zot0yzI7EZUKDLJw9JBmAFxflMumphdJab6e1+8oBGJMWb3IkwmyS0H1JyXZAQ9IgsyNxqWevHsX5ww9XBHxq3g4+X19gYkS+429ztrI8t4wZQ7sTGmQxOxxhMknovqRoq3GfNMTcOFwsLNjCs1dnAtA3IYLAAMV9H29geU6pjFdvw+tLdwMQaJEuKiF96L6leCtYQiDe//pKAy0BbHj4bCJDA9lRWM0Fz//AtY4FGm4+oy9/mDGQkEBpgR7p8W+2tf4sF0MFSAvdtxRvhcSBEOCfiS0mPAhLgGJIz2g+u2sifboZE2TeWLqb0Y99x9PzdvDG0t1YpdUOwCuL8wC4ZFQvfjpSxp4LSei+pXgbJHeNtSFHpMSy+Pdn8eTlIwCobbLxn4U5/HXOVn76/FLsdhm3Hh5s/GG/Y0o/kyMR3kISuq+oOwTVB/2u/7wtl49O4f8uHX5UfZLthdWkP/R1l07qO4uqqWuyceeUfgxIjjI7HOElJKH7imJHf2kXS+gBAYqrx/Zm6f1T+fyuifz+nIGtz6U/9DUrcstMjM48s9bkA3CurBcqjiAJ3VcUO0a4JHethH6kkamx3HVWBm/ccHilpmteW2liROb5dF0B0wcnM9xR8EwIkITuO4q3QmgMREmLbNrgZP50/uDWx/d9vN7EaDyvtKaRkupGxqfLRCJxNEnovqJoKyQN9ekaLq50y5nprVUFP11bwJNzt1NZZ6Wx2WZyZO63s7AagEHdo02ORHgbSei+QGujDz1pcNv7diHPXj2KWXdMAIyyASMf+5aJ//e9yVG53xPzdgAwsLtcDBVHk4TuCw7lQWMldHd6Kdcu47Q+8fzzipEEBxq/yqU1TdQ2Npsclfss3VXKhv0VjOodS2JUiNnhCC8jCd0X7DVWcaf36afer4u67LQUfnf2gNbH4x9fYGI07qO15o531wDw7FW+t8CJcD9J6L5gzzIITzBmiYoTuvXMdH74w1kAVDc0s2BbEfVN/tWf/sWGA1Q3NnP9hD707ibLzInjSUL3dlpD3iLoO0kuiJ6CUorU+PDWkR83z8zm8peXM3dzocmRuU72HqNM7j3TB7Sxp+iqJKF7u5LtUFMI6VPMjsQnPHrhMCIcU+K3HKjidkcXha/bf6iOd1buZUiPaOIjgs0OR3ipNhO6UipUKbVaKbVBKbVFKfWoY3tfpdQqpdQupdRHSin5LXOHvEXGfb+zTA3DVwzsHsWWx2YctS23pMakaFxn4Y5iACZmdDM5EuHNnGmhNwJTtdYjgUxghlJqPPAE8IzWuj9QDtzsvjC7sNyFEN8PYnubHYlP+cOMga0rIU3752Km/XMRP+wqMTmqjiuqasASoHjwXBm6Kk6uzYSuDS1NnCDHTQNTgU8c22cCF7slwq6suQn2LJXulg64c0oGz11zeCRIbkktf/hko4kRdVx5bRNvLN1NYmSIrLUqTsmpPnSllEUptR4oBr4DcoEKrXXLgN98oNdJXnubUipbKZVdUuK7LSRTFGSDtVa6WzooNMjCx7+cwPTBSQAcrGzgybnbeXPpbp9aCWntvnIarHbOGZpsdijCyzmV0LXWNq11JpACjAVO9L3vhLVMtdavaq2ztNZZiYmJHY+0K8pdCCoA0s40OxKfNbZvPK/fMIa3bhwDGDNKH5uzlYw/fsMHq/eZHJ1zDlQ2AHDnWf6zOLhwj3YtQae1rlBKLQLGA7FKqUBHKz0FOOCG+LourWHrZ5AyFsJizY7G5501MIkXrxvNhz/uZ8lO45vig59uYv+hOlLiwjlQUc8VWSn06RZhcqTH23+ojiCLIiFSZoaKU2szoSulEgGrI5mHAdMxLoguBC4HPgRuAD53Z6Bdzr4VULoTLnrB7Ej8xnnDe3De8B7M3XyQx77cyoHKBl5clNv6/KG6Jv5xyXATIzxebWMzry7JY2RqLBbpPxdtcKaF3gOYqZSyYHTRfKy1nqOU2gp8qJT6G7AOeMONcXY9a96GkGgYeonZkfidGcN6MHlAEi8uyuGD1fsprWkE4P1V+xjXN5788nr2lNby2EXDCAs2d/3W3aW1AEzun2BqHMI3tJnQtdYbgeMKR2it8zD604WrVRfB1s9h1M8g2Pu6APxBWLCF3549kN+ebZRTePybbbyyOI/ffHi4trpS8MfzhhATHmRWmOSX1wNw9tDupsUgfIfMFPUmjdWw/D/w7mVGH/r4O82OqMv4wzmD+O7eSUfNwvw4O5+Rj33L0l2lrdvW76/g++1FHonJarPzzso9BFsCpHaLcEq7LooKF1r5Mmz6H/QYCVMeNFYj+uAa2PMDJAyAi1+EbrKau6dYAhT9k6NYdv9UPltfgF1r/jh7MwA/e2MVZw9JJi48mI+y9wOw8S9nszK3jFlr8/nXlZlEhLj2v9Lq3Yf413c7WJl3iKvHpBIdat63BOE7lNaeWzk9KytLZ2dne+zzvNaat+HL3xgLPpfuMpJ5XJox7vzilyHzGrMj7PKamu1MenIhhVUNTu0fZFHs/Nu5KBcVULv8peVk7zWKca14cCo9YsJc8r7CNyml1mits9raT1ronrZnGXz1O+g3Da77H5TsgC9+baxIdN7Tksy9RHBgACsenIpSiso6KzVNzdz01o/sKKo+4f5Wm+bbrUWM79uN2qZm8kpqufW/2Tx9xUjOH9G+dWBLqhtbkzlAogxXFE6SFrq7lOyAnXOhqRYaa+DAOqg+ABX7IT4dbv4WwmWRX19SWNnAK0ty+cXpaRRWNlBa00RlvZWHZm865eueuWokF2f2cqr1Xt1g5dxnfyC/vJ7e8eH8fHwfbp2U7qpDED7K2Ra6JPS2aN3+OuTr3jO6VOxW47ElxFg+Lr4fRPeACb+CyCTXxypMYbdr0h/6+pT7jEmL46WfnUZUaCAhgScfCvnCwhyecqwZuuh3U0hLkFFOwt8S+v9uhLyFJ3nyJMn2RElYBUDGdDjjPkg8xSIBtaWw7FlY/z7UlUJAIASGQWCw8XNAIARYHPdBhx+HxkBgCOTMh76T4dJXITJZFqboAuZuPsj7q/eTmRrLTRPTiA4NYmVeGYVVDdz38YbW/ZSCmLCjL3BeNjqF5blllNc2UVjVQGRIIBseOVsmEolW/pXQf3zDWOjhWCeN/STbG2uM8d3NDUY5WqXAZoXmRuPe3gzaBrYmY/9BF0DSYMc+DcZ+2ga2ZmPfY2/15cYfgwEzYPpfjD8AosurbWxm6CPzALhuXG8Cj0jUq/eUs+1gFQDTByfTYLUxeUCidLOIo/hXQnelmhJY85YxrR5lJF2L49bS0g4MhWGXn7oVL0Q77D9Ux4GKesalH71ARU5xNe+u3Ed0WBB3T80g0CJTQ8TxJKELIYSfcDahS3NACCH8hCR0IYTwE5LQhRDCT0hCF0IIPyEJXQgh/IQkdCGE8BOS0IUQwk9IQhdCCD/h0YlFSqkSYG8HX54AlLa5l++T4/Qvcpz+xazj7KO1TmxrJ48m9M5QSmU7M1PK18lx+hc5Tv/i7ccpXS5CCOEnJKELIYSf8KWE/qrZAXiIHKd/keP0L159nD7Thy6EEOLUfKmFLoQQ4hR8IqErpWYopXYopXKUUg+YHU9HKaVSlVILlVLblFJblFK/cWyPV0p9p5Ta5biPc2xXSqnnHMe9USk12twjaB+llEUptU4pNcfxuK9SapXjOD9SSgU7toc4Huc4nk8zM+72UErFKqU+UUptd5zXCf54PpVS9zp+ZzcrpT5QSoX6w/lUSr2plCpWSm0+Ylu7z59S6gbH/ruUUjeYcSzgAwldKWUBXgDOBYYA1yilhpgbVYc1A7/VWg8GxgN3OY7lAWCB1ro/sMDxGIxj7u+43Qa85PmQO+U3wLYjHj8BPOM4znLgZsf2m4FyrXUG8IxjP1/xLDBXaz0IGIlxvH51PpVSvYC7gSyt9TDAAlyNf5zPt4EZx2xr1/lTSsUDjwDjgLHAIy1/BDxOa+3VN2ACMO+Ixw8CD5odl4uO7XPgJ8AOoIdjWw9gh+PnV4Brjti/dT9vvwEpGP8ZpgJzMFbzLgUCjz2vwDxgguPnQMd+yuxjcOIYo4Hdx8bqb+cT6AXsB+Id52cOcI6/nE8gDdjc0fMHXAO8csT2o/bz5M3rW+gc/mVqke/Y5tMcX0NHAauAZK31QQDHfZJjN18+9n8DfwDsjsfdgAqtdbPj8ZHH0nqcjucrHft7u3SgBHjL0bX0ulIqAj87n1rrAuBpYB9wEOP8rMH/zmeL9p4/rzmvvpDQ1Qm2+fTQHKVUJDALuEdrXXWqXU+wzeuPXSl1AVCstV5z5OYT7KqdeM6bBQKjgZe01qOAWg5/PT8RnzxOR/fBRUBfoCcQgdH9cCxfP59tOdlxec3x+kJCzwdSj3icAhwwKZZOU0oFYSTz97TWnzo2Fymlejie7wEUO7b76rFPBC5USu0BPsTodvk3EKuUCnTsc+SxtB6n4/kY4JAnA+6gfCBfa73K8fgTjATvb+dzOrBba12itbYCnwKn43/ns0V7z5/XnFdfSOg/Av0dV9SDMS7GfGFyTB2ilFLAG8A2rfW/jnjqC6DlyvgNGH3rLduvd1xdHw9UtnwV9GZa6we11ila6zSM8/W91vo6YCFwuWO3Y4+z5fgvd+zv9S06rXUhsF8pNdCxaRqwFT87nxhdLeOVUuGO3+GW4/Sr83mE9p6/ecDZSqk4x7eZsx3bPM/sCxJOXrQ4D9gJ5AJ/NDueThzHGRhfxTYC6x238zD6FxcAuxz38Y79FcYIn1xgE8YoA9OPo53HPAWY4/g5HVgN5AD/A0Ic20Mdj3Mcz6ebHXc7ji8TyHac08+AOH88n8CjwHZgM/AOEOIP5xP4AOO6gBWjpX1zR84fcJPjeHOAG806HpkpKoQQfsIXulyEEEI4QRK6EEL4CUnoQgjhJyShCyGEn5CELoQQfkISuhBC+AlJ6EII4SckoQshhJ/4fyfDXj8CBFEgAAAAAElFTkSuQmCC\n",
      "text/plain": [
       "<Figure size 432x288 with 1 Axes>"
      ]
     },
     "metadata": {
      "needs_background": "light"
     },
     "output_type": "display_data"
    }
   ],
   "source": [
    "# Is Tdlin a smoothed out version of T? Most likely not\n",
    "plt.plot(batch1[\"b1c0\"][\"cycles\"][\"1054\"][\"T\"], label='T')\n",
    "plt.plot(batch1[\"b1c0\"][\"cycles\"][\"1054\"][\"Tdlin\"], label='Tdlin')\n",
    "plt.legend()\n",
    "plt.show()"
   ]
  },
  {
   "cell_type": "markdown",
   "metadata": {},
   "source": [
    "### 1.4.7 V (Volt)"
   ]
  },
  {
   "cell_type": "code",
   "execution_count": 96,
   "metadata": {},
   "outputs": [
    {
     "data": {
      "text/plain": [
       "array([2.0175753, 2.0321321, 2.0450382, ..., 2.0015354, 2.0115385,\n",
       "       2.0168495])"
      ]
     },
     "execution_count": 96,
     "metadata": {},
     "output_type": "execute_result"
    }
   ],
   "source": [
    "batch1[\"b1c0\"][\"cycles\"][\"1054\"][\"V\"]"
   ]
  },
  {
   "cell_type": "markdown",
   "metadata": {},
   "source": [
    "### 1.4.8 dQdV"
   ]
  },
  {
   "cell_type": "code",
   "execution_count": 97,
   "metadata": {},
   "outputs": [
    {
     "data": {
      "text/plain": [
       "array([ 0.00000000e+00,  0.00000000e+00,  0.00000000e+00,  0.00000000e+00,\n",
       "       -1.27691832e-03, -3.21159282e-03, -6.01041088e-03, -9.67337250e-03,\n",
       "       -1.42004777e-02, -1.95917264e-02, -2.55824827e-02, -3.15732390e-02,\n",
       "       -3.73576079e-02, -4.22778332e-02, -4.63339150e-02, -4.95258532e-02,\n",
       "       -5.18536479e-02, -5.33172990e-02, -5.39168065e-02, -5.39168065e-02,\n",
       "       -5.39168065e-02, -5.39168065e-02, -5.39168065e-02, -5.39168065e-02,\n",
       "       -5.39168065e-02, -5.39168065e-02, -5.39168065e-02, -5.39168065e-02,\n",
       "       -5.39168065e-02, -5.39168065e-02, -5.39168065e-02, -5.39168065e-02,\n",
       "       -5.39168065e-02, -5.39168065e-02, -5.39168065e-02, -5.39168065e-02,\n",
       "       -5.39168065e-02, -5.40146568e-02, -5.56531938e-02, -5.88324177e-02,\n",
       "       -6.35523283e-02, -6.98129257e-02, -7.76142100e-02, -8.69561810e-02,\n",
       "       -9.72809783e-02, -1.07605776e-01, -1.17832723e-01, -1.26518983e-01,\n",
       "       -1.33664556e-01, -1.39269443e-01, -1.43333643e-01, -1.45251805e-01,\n",
       "       -1.44712074e-01, -1.42272311e-01, -1.38915342e-01, -1.34641167e-01,\n",
       "       -1.29449786e-01, -1.23341198e-01, -1.17160219e-01, -1.10979239e-01,\n",
       "       -1.05403611e-01, -1.00745188e-01, -9.70039721e-02, -9.41799618e-02,\n",
       "       -9.22731577e-02, -9.12835596e-02, -9.12111677e-02, -9.12111677e-02,\n",
       "       -9.12111677e-02, -9.12111677e-02, -9.12111677e-02, -9.18565323e-02,\n",
       "       -9.39353256e-02, -9.74475476e-02, -1.02393198e-01, -1.08772278e-01,\n",
       "       -1.16584786e-01, -1.25830723e-01, -1.34067921e-01, -1.40544987e-01,\n",
       "       -1.44616558e-01, -1.45494570e-01, -1.43179021e-01, -1.37669913e-01,\n",
       "       -1.28967245e-01, -1.18816182e-01, -1.07231689e-01, -9.66559364e-02,\n",
       "       -8.78403144e-02, -8.07848234e-02, -7.54894634e-02, -7.24056375e-02,\n",
       "       -7.26313629e-02, -7.61666396e-02, -8.12663038e-02, -8.79153883e-02,\n",
       "       -9.61138931e-02, -1.05861818e-01, -1.15544023e-01, -1.23986382e-01,\n",
       "       -1.30737492e-01, -1.34699335e-01, -1.35871913e-01, -1.34255224e-01,\n",
       "       -1.29849269e-01, -1.23940304e-01, -1.16806189e-01, -1.10062066e-01,\n",
       "       -1.04882059e-01, -1.01266169e-01, -9.92143966e-02, -9.86897950e-02,\n",
       "       -9.94050393e-02, -1.01360129e-01, -1.03268810e-01, -1.04853219e-01,\n",
       "       -1.06113358e-01, -1.07049225e-01, -1.08579883e-01, -1.11890901e-01,\n",
       "       -1.17019226e-01, -1.24252183e-01, -1.33589772e-01, -1.45031993e-01,\n",
       "       -1.58578845e-01, -1.71437907e-01, -1.82724307e-01, -1.91518983e-01,\n",
       "       -1.96636366e-01, -1.98076454e-01, -1.95839249e-01, -1.89955634e-01,\n",
       "       -1.82184963e-01, -1.72527236e-01, -1.63774876e-01, -1.56812754e-01,\n",
       "       -1.51640871e-01, -1.48259225e-01, -1.46651284e-01, -1.46784581e-01,\n",
       "       -1.48628232e-01, -1.50422883e-01, -1.52168533e-01, -1.53865184e-01,\n",
       "       -1.55512834e-01, -1.57268741e-01, -1.59214342e-01, -1.61366170e-01,\n",
       "       -1.63756692e-01, -1.66385908e-01, -1.69253819e-01, -1.72360423e-01,\n",
       "       -1.75726924e-01, -1.79353664e-01, -1.83083385e-01, -1.86834651e-01,\n",
       "       -1.90607461e-01, -1.94401816e-01, -1.98184461e-01, -2.01863994e-01,\n",
       "       -2.05440415e-01, -2.08892522e-01, -2.12219972e-01, -2.15422765e-01,\n",
       "       -2.18500901e-01, -2.21711990e-01, -2.25277224e-01, -2.29229855e-01,\n",
       "       -2.33661288e-01, -2.38571522e-01, -2.43960557e-01, -2.49828393e-01,\n",
       "       -2.56267166e-01, -2.63297964e-01, -2.70663176e-01, -2.78141611e-01,\n",
       "       -2.85733268e-01, -2.93438149e-01, -3.01296094e-01, -3.09556574e-01,\n",
       "       -3.18219589e-01, -3.27193004e-01, -3.36455730e-01, -3.46007770e-01,\n",
       "       -3.55849122e-01, -3.66285593e-01, -3.77767356e-01, -3.90254569e-01,\n",
       "       -4.03497761e-01, -4.17496932e-01, -4.32252082e-01, -4.47763211e-01,\n",
       "       -4.65302269e-01, -4.85391935e-01, -5.07726403e-01, -5.31855500e-01,\n",
       "       -5.57779227e-01, -5.85507576e-01, -6.16445870e-01, -6.50594107e-01,\n",
       "       -6.87952288e-01, -7.27248463e-01, -7.71721331e-01, -8.24313754e-01,\n",
       "       -8.85025732e-01, -9.52764098e-01, -1.02536248e+00, -1.10141555e+00,\n",
       "       -1.19290293e+00, -1.30857217e+00, -1.44416378e+00, -1.59237652e+00,\n",
       "       -1.75952287e+00, -1.93906694e+00, -2.11635373e+00, -2.33713366e+00,\n",
       "       -2.59722056e+00, -2.83524278e+00, -3.10362405e+00, -3.36084311e+00,\n",
       "       -3.68983023e+00, -3.92931710e+00, -4.27261541e+00, -4.50580451e+00,\n",
       "       -4.77938698e+00, -5.02915347e+00, -5.29094766e+00, -5.47010644e+00,\n",
       "       -5.66814224e+00, -5.81241887e+00, -5.91331884e+00, -5.92142398e+00,\n",
       "       -6.12354384e+00, -6.12503595e+00, -6.17439404e+00, -6.14001186e+00,\n",
       "       -6.10191736e+00, -6.06828837e+00, -6.01737590e+00, -6.03863093e+00,\n",
       "       -5.99477739e+00, -5.84830438e+00, -5.80688467e+00, -5.74616606e+00,\n",
       "       -5.68957366e+00, -5.66331790e+00, -5.60853502e+00, -5.48689778e+00,\n",
       "       -5.42779898e+00, -5.39222675e+00, -5.32841086e+00, -5.28248348e+00,\n",
       "       -5.11580592e+00, -5.08493704e+00, -5.04180087e+00, -4.96488678e+00,\n",
       "       -4.93443562e+00, -4.86464466e+00, -4.79745227e+00, -4.75315673e+00,\n",
       "       -4.70617294e+00, -4.72107763e+00, -4.64114625e+00, -4.63691542e+00,\n",
       "       -4.57692913e+00, -4.53221445e+00, -4.51627991e+00, -4.42816761e+00,\n",
       "       -4.43695494e+00, -4.39182245e+00, -4.32572535e+00, -4.31357386e+00,\n",
       "       -4.24978382e+00, -4.21490017e+00, -4.21388121e+00, -4.16023326e+00,\n",
       "       -4.17768854e+00, -4.11709418e+00, -4.09545336e+00, -4.11180992e+00,\n",
       "       -4.03925979e+00, -3.95893079e+00, -3.96699584e+00, -3.90158764e+00,\n",
       "       -3.85241083e+00, -3.79508235e+00, -3.72962585e+00, -3.66946798e+00,\n",
       "       -3.59868790e+00, -3.57842625e+00, -3.54104368e+00, -3.46728310e+00,\n",
       "       -3.41031586e+00, -3.35369008e+00, -3.29523136e+00, -3.26072782e+00,\n",
       "       -3.21367597e+00, -3.13720035e+00, -3.08407366e+00, -3.04372019e+00,\n",
       "       -2.99984244e+00, -2.95001204e+00, -2.90429479e+00, -2.86681540e+00,\n",
       "       -2.81031541e+00, -2.75853114e+00, -2.72956144e+00, -2.68689800e+00,\n",
       "       -2.63605266e+00, -2.58202646e+00, -2.54260393e+00, -2.51448149e+00,\n",
       "       -2.47668369e+00, -2.43252329e+00, -2.40782935e+00, -2.38222155e+00,\n",
       "       -2.34035400e+00, -2.29636154e+00, -2.25812532e+00, -2.21973154e+00,\n",
       "       -2.18441311e+00, -2.15998852e+00, -2.13369593e+00, -2.08631757e+00,\n",
       "       -2.03968050e+00, -2.01105180e+00, -1.99318537e+00, -1.97422116e+00,\n",
       "       -1.94191236e+00, -1.89489804e+00, -1.85360640e+00, -1.82085083e+00,\n",
       "       -1.79344614e+00, -1.76971705e+00, -1.74434245e+00, -1.71301816e+00,\n",
       "       -1.68147970e+00, -1.65689999e+00, -1.63798179e+00, -1.61410417e+00,\n",
       "       -1.58756636e+00, -1.56082964e+00, -1.53515207e+00, -1.51107105e+00,\n",
       "       -1.48795433e+00, -1.46550263e+00, -1.44300969e+00, -1.42146039e+00,\n",
       "       -1.40085473e+00, -1.38048958e+00, -1.35998579e+00, -1.33932821e+00,\n",
       "       -1.31758609e+00, -1.29465106e+00, -1.27082243e+00, -1.24886959e+00,\n",
       "       -1.23058981e+00, -1.21598307e+00, -1.20345330e+00, -1.19011848e+00,\n",
       "       -1.17507820e+00, -1.15860977e+00, -1.14082153e+00, -1.12394083e+00,\n",
       "       -1.10765463e+00, -1.09016568e+00, -1.07147398e+00, -1.05151502e+00,\n",
       "       -1.03312917e+00, -1.01721684e+00, -1.00377803e+00, -9.92679820e-01,\n",
       "       -9.81582857e-01, -9.70160275e-01, -9.58412074e-01, -9.46338255e-01,\n",
       "       -9.34074265e-01, -9.21636462e-01, -9.09024845e-01, -8.96239413e-01,\n",
       "       -8.83443444e-01, -8.70999107e-01, -8.58906401e-01, -8.47165326e-01,\n",
       "       -8.35775883e-01, -8.24667132e-01, -8.14018286e-01, -8.03845551e-01,\n",
       "       -7.94148929e-01, -7.84898064e-01, -7.75842791e-01, -7.66936281e-01,\n",
       "       -7.58094692e-01, -7.49318022e-01, -7.40606273e-01, -7.31780059e-01,\n",
       "       -7.22823172e-01, -7.13675832e-01, -7.04237160e-01, -6.94507156e-01,\n",
       "       -6.84532649e-01, -6.74397481e-01, -6.64101654e-01, -6.53645166e-01,\n",
       "       -6.43468876e-01, -6.33791165e-01, -6.24671812e-01, -6.16211697e-01,\n",
       "       -6.08410821e-01, -6.01269182e-01, -5.94786782e-01, -5.88981442e-01,\n",
       "       -5.83853201e-01, -5.78961202e-01, -5.74087065e-01, -5.69230789e-01,\n",
       "       -5.64392374e-01, -5.59472699e-01, -5.54257904e-01, -5.48747991e-01,\n",
       "       -5.42925137e-01, -5.36789302e-01, -5.30340486e-01, -5.23578690e-01,\n",
       "       -5.16783563e-01, -5.10109389e-01, -5.03655290e-01, -4.97635126e-01,\n",
       "       -4.92048895e-01, -4.86896599e-01, -4.82178236e-01, -4.77841853e-01,\n",
       "       -4.73885440e-01, -4.70029346e-01, -4.66119287e-01, -4.62155264e-01,\n",
       "       -4.58137276e-01, -4.54062919e-01, -4.49925722e-01, -4.45725684e-01,\n",
       "       -4.41514760e-01, -4.37294960e-01, -4.33066285e-01, -4.28828734e-01,\n",
       "       -4.24666180e-01, -4.20639157e-01, -4.16750070e-01, -4.13005390e-01,\n",
       "       -4.09405117e-01, -4.05949252e-01, -4.02637794e-01, -3.99425050e-01,\n",
       "       -3.96306070e-01, -3.93196980e-01, -3.90037245e-01, -3.86826866e-01,\n",
       "       -3.83565841e-01, -3.80263228e-01, -3.76950805e-01, -3.73628571e-01,\n",
       "       -3.70342220e-01, -3.67096703e-01, -3.63892021e-01, -3.60728173e-01,\n",
       "       -3.57593245e-01, -3.54477448e-01, -3.51371724e-01, -3.48244296e-01,\n",
       "       -3.45095163e-01, -3.41924326e-01, -3.38731784e-01, -3.35823498e-01,\n",
       "       -3.33244296e-01, -3.31006092e-01, -3.29118678e-01, -3.27582054e-01,\n",
       "       -3.26396218e-01, -3.25506730e-01, -3.24596837e-01, -3.23666540e-01,\n",
       "       -3.22409880e-01, -3.20782025e-01, -3.18782978e-01, -3.16412736e-01,\n",
       "       -3.13677804e-01, -3.10585494e-01, -3.07190250e-01, -3.03808823e-01,\n",
       "       -3.00441213e-01, -2.97087419e-01, -2.93747443e-01, -2.90723623e-01,\n",
       "       -2.88112624e-01, -2.85907943e-01, -2.84102266e-01, -2.82695593e-01,\n",
       "       -2.81687924e-01, -2.81054772e-01, -2.80511275e-01, -2.80057434e-01,\n",
       "       -2.79390909e-01, -2.78415036e-01, -2.77129814e-01, -2.75535244e-01,\n",
       "       -2.73673599e-01, -2.71606160e-01, -2.69357413e-01, -2.67212220e-01,\n",
       "       -2.65170580e-01, -2.63232494e-01, -2.61397961e-01, -2.59624589e-01,\n",
       "       -2.57896414e-01, -2.56171163e-01, -2.54387555e-01, -2.52545591e-01,\n",
       "       -2.50645271e-01, -2.48690945e-01, -2.46801803e-01, -2.44977842e-01,\n",
       "       -2.43261458e-01, -2.41668613e-01, -2.40199307e-01, -2.38853540e-01,\n",
       "       -2.37568922e-01, -2.36238345e-01, -2.34857458e-01, -2.33307075e-01,\n",
       "       -2.31587194e-01, -2.29697816e-01, -2.27638941e-01, -2.25654527e-01,\n",
       "       -2.23885267e-01, -2.22393552e-01, -2.21286488e-01, -2.20564076e-01,\n",
       "       -2.20226314e-01, -2.20273204e-01, -2.20300959e-01, -2.20273586e-01,\n",
       "       -2.19947126e-01, -2.19180888e-01, -2.17974870e-01, -2.16329074e-01,\n",
       "       -2.14267612e-01, -2.11878943e-01, -2.09163069e-01, -2.06523774e-01,\n",
       "       -2.03997052e-01, -2.01582903e-01, -1.99281327e-01, -1.97287663e-01,\n",
       "       -1.95769554e-01, -1.94702887e-01, -1.93999202e-01, -1.93658501e-01,\n",
       "       -1.93680782e-01, -1.94066045e-01, -1.94472295e-01, -1.94839831e-01,\n",
       "       -1.94973312e-01, -1.94705096e-01, -1.94035183e-01, -1.92963573e-01,\n",
       "       -1.91510770e-01, -1.89805043e-01, -1.87846392e-01, -1.85976811e-01,\n",
       "       -1.84256003e-01, -1.82683967e-01, -1.81260704e-01, -1.79968041e-01,\n",
       "       -1.78784806e-01, -1.77690492e-01, -1.76556833e-01, -1.75383828e-01,\n",
       "       -1.74171478e-01, -1.72919782e-01, -1.71679066e-01, -1.70468318e-01,\n",
       "       -1.69305709e-01, -1.68212413e-01, -1.67188431e-01, -1.66233762e-01,\n",
       "       -1.65348407e-01, -1.64538771e-01, -1.63804893e-01, -1.63096448e-01,\n",
       "       -1.62394447e-01, -1.61698891e-01, -1.61009779e-01, -1.60308888e-01,\n",
       "       -1.59545289e-01, -1.58718982e-01, -1.57823560e-01, -1.56858986e-01,\n",
       "       -1.55825259e-01, -1.54722380e-01, -1.53488620e-01, -1.52079492e-01,\n",
       "       -1.50513219e-01, -1.48840730e-01, -1.47062025e-01, -1.45177103e-01,\n",
       "       -1.43185965e-01, -1.41494488e-01, -1.40185343e-01, -1.39320260e-01,\n",
       "       -1.38943726e-01, -1.39055742e-01, -1.39656307e-01, -1.40688692e-01,\n",
       "       -1.41731162e-01, -1.42783717e-01, -1.43440480e-01, -1.43618777e-01,\n",
       "       -1.43318610e-01, -1.42539977e-01, -1.41340247e-01, -1.39788774e-01,\n",
       "       -1.37942288e-01, -1.36222524e-01, -1.34629482e-01, -1.33163163e-01,\n",
       "       -1.31823566e-01, -1.30651382e-01, -1.29658743e-01, -1.28788279e-01,\n",
       "       -1.27970638e-01, -1.27205818e-01, -1.26493820e-01, -1.25829503e-01,\n",
       "       -1.25159114e-01, -1.24482653e-01, -1.23759429e-01, -1.22977311e-01,\n",
       "       -1.22136299e-01, -1.21236393e-01, -1.20312840e-01, -1.19418413e-01,\n",
       "       -1.18558253e-01, -1.17786113e-01, -1.17101993e-01, -1.16505894e-01,\n",
       "       -1.15997815e-01, -1.15525224e-01, -1.15067945e-01, -1.14590732e-01,\n",
       "       -1.14040812e-01, -1.13418184e-01, -1.12722849e-01, -1.11954807e-01,\n",
       "       -1.11177226e-01, -1.10396026e-01, -1.09663738e-01, -1.09000538e-01,\n",
       "       -1.08406425e-01, -1.07881399e-01, -1.07417373e-01, -1.06989473e-01,\n",
       "       -1.06597699e-01, -1.06178880e-01, -1.05727100e-01, -1.05242358e-01,\n",
       "       -1.04724655e-01, -1.04179933e-01, -1.03613104e-01, -1.03032252e-01,\n",
       "       -1.02462254e-01, -1.01903108e-01, -1.01354816e-01, -1.00817376e-01,\n",
       "       -1.00281071e-01, -9.97429568e-02, -9.91970882e-02, -9.86385571e-02,\n",
       "       -9.80673633e-02, -9.74835070e-02, -9.68934712e-02, -9.63601937e-02,\n",
       "       -9.58836746e-02, -9.54736324e-02, -9.51330111e-02, -9.48618106e-02,\n",
       "       -9.46600311e-02, -9.51035318e-02, -9.69776100e-02, -1.00275783e-01,\n",
       "       -1.04935112e-01, -1.10955597e-01, -1.18337240e-01, -1.27080039e-01,\n",
       "       -1.35015536e-01, -1.41389558e-01, -1.45626247e-01, -1.46940303e-01,\n",
       "       -1.45331729e-01, -1.40800522e-01, -1.33472470e-01, -1.24783261e-01,\n",
       "       -1.14732895e-01, -1.05489831e-01, -9.78082417e-02, -9.16881274e-02,\n",
       "       -8.71294879e-02, -8.45840669e-02, -8.47682538e-02, -8.75562636e-02,\n",
       "       -9.15124065e-02, -9.66366826e-02, -1.02929092e-01, -1.10389634e-01,\n",
       "       -1.17239321e-01, -1.22658678e-01, -1.26195963e-01, -1.27134786e-01,\n",
       "       -1.25475147e-01, -1.21217045e-01, -1.14360482e-01, -1.05210215e-01,\n",
       "       -9.37879000e-02, -8.18725269e-02, -7.02835685e-02, -5.90210248e-02,\n",
       "       -4.80848959e-02, -3.83965104e-02, -3.25077888e-02, -3.04187313e-02,\n",
       "       -3.18245787e-02, -3.67036754e-02, -4.50560214e-02, -5.68816166e-02,\n",
       "       -7.10657700e-02, -8.63538378e-02, -1.01824491e-01, -1.14925810e-01,\n",
       "       -1.25657793e-01, -1.34020442e-01, -1.40013756e-01, -1.43540995e-01,\n",
       "       -1.44555311e-01, -1.44171397e-01, -1.43643895e-01, -1.42972807e-01,\n",
       "       -1.42158131e-01, -1.41199867e-01, -1.40224307e-01, -1.39248747e-01,\n",
       "       -1.38369927e-01, -1.37634693e-01, -1.37043048e-01, -1.36594989e-01,\n",
       "       -1.36244119e-01, -1.35812346e-01, -1.35299669e-01, -1.34579798e-01,\n",
       "       -1.33635437e-01, -1.32466585e-01, -1.31073242e-01, -1.29563856e-01,\n",
       "       -1.28054470e-01, -1.26591482e-01, -1.25352984e-01, -1.24338978e-01,\n",
       "       -1.23549462e-01, -1.22984437e-01, -1.22565766e-01, -1.22270048e-01,\n",
       "       -1.21988836e-01, -1.21606086e-01, -1.21121799e-01, -1.20535974e-01,\n",
       "       -1.19848612e-01, -1.19150109e-01, -1.18451606e-01, -1.17831240e-01,\n",
       "       -1.17312412e-01, -1.16895121e-01, -1.16579368e-01, -1.16390346e-01,\n",
       "       -1.16496082e-01, -1.16896576e-01, -1.17501431e-01, -1.18299506e-01,\n",
       "       -1.19290801e-01, -1.20475317e-01, -1.21798763e-01, -1.23122209e-01,\n",
       "       -1.24420461e-01, -1.25525493e-01, -1.26437305e-01, -1.27155896e-01,\n",
       "       -1.27681267e-01, -1.27928041e-01, -1.27839708e-01, -1.27470560e-01,\n",
       "       -1.26959527e-01, -1.26306607e-01, -1.25511802e-01, -1.24575112e-01,\n",
       "       -1.23613192e-01, -1.22651271e-01, -1.21774727e-01, -1.21040069e-01,\n",
       "       -1.20447297e-01, -1.19996410e-01, -1.19692836e-01, -1.19664468e-01,\n",
       "       -1.19911306e-01, -1.20316696e-01, -1.20855406e-01, -1.21527437e-01,\n",
       "       -1.22332789e-01, -1.23233173e-01, -1.24133557e-01, -1.25028514e-01,\n",
       "       -1.25790150e-01, -1.26418465e-01, -1.26913459e-01, -1.27275133e-01,\n",
       "       -1.27511856e-01, -1.27629272e-01, -1.27665673e-01, -1.27716089e-01,\n",
       "       -1.27780520e-01, -1.27858966e-01, -1.27951427e-01, -1.27060345e-01,\n",
       "       -1.25042982e-01, -1.21890967e-01, -1.17598655e-01, -1.12166046e-01,\n",
       "       -1.05593140e-01, -9.80616547e-02, -9.05161544e-02, -8.29566389e-02,\n",
       "       -7.63806660e-02, -7.09309748e-02, -6.66075655e-02, -6.34104379e-02,\n",
       "       -6.17554653e-02, -6.23162197e-02, -6.49109835e-02, -6.85951925e-02,\n",
       "       -7.33688468e-02, -7.92319463e-02, -8.61844911e-02, -9.34756042e-02,\n",
       "       -1.00766717e-01, -1.07641957e-01, -1.13427752e-01, -1.18124101e-01,\n",
       "       -1.21731006e-01, -1.24245996e-01, -1.25573712e-01, -1.25714155e-01,\n",
       "       -1.25418199e-01, -1.25024415e-01, -1.24532803e-01, -1.23943361e-01,\n",
       "       -1.23290003e-01, -1.22636645e-01, -1.21985755e-01, -1.21432694e-01,\n",
       "       -1.20977463e-01, -1.20620060e-01, -1.20360485e-01, -1.20198740e-01,\n",
       "       -1.20134824e-01, -1.20134824e-01, -1.20134824e-01, -1.20134824e-01,\n",
       "       -1.20134824e-01, -1.20134824e-01, -1.20579212e-01, -1.21594770e-01,\n",
       "       -1.23181497e-01, -1.25339393e-01, -1.28068458e-01, -1.31368692e-01,\n",
       "       -1.35240096e-01, -1.39127237e-01, -1.43014378e-01, -1.46457131e-01,\n",
       "       -1.49328715e-01, -1.51629129e-01, -1.53358375e-01, -1.54277658e-01,\n",
       "       -1.53635411e-01, -1.51431634e-01, -1.48221758e-01, -1.44021520e-01,\n",
       "       -1.38830922e-01, -1.32649962e-01, -1.26042681e-01, -1.19435399e-01,\n",
       "       -1.13066911e-01, -1.07688783e-01, -1.03301017e-01, -9.99036118e-02,\n",
       "       -9.74965677e-02, -9.60798847e-02, -9.56535628e-02, -9.56535628e-02,\n",
       "       -9.56535628e-02, -9.56535628e-02, -9.56535628e-02, -9.56679976e-02,\n",
       "       -9.60649054e-02, -9.68442862e-02, -9.80061400e-02, -9.95504667e-02,\n",
       "       -1.01477266e-01, -1.03786539e-01, -1.06425460e-01, -1.09064380e-01,\n",
       "       -1.11688866e-01, -1.13930879e-01, -1.15790419e-01, -1.17267486e-01,\n",
       "       -1.18362080e-01, -1.19074201e-01, -1.19403849e-01, -1.19403849e-01,\n",
       "       -1.19403849e-01, -1.19403849e-01, -1.19403849e-01, -1.19403849e-01,\n",
       "       -1.19403849e-01, -1.19403849e-01, -1.19403849e-01, -1.19403849e-01,\n",
       "       -1.19403849e-01, -1.19403849e-01, -1.19403849e-01, -1.19590916e-01,\n",
       "       -1.19969643e-01, -1.20540030e-01, -1.21302078e-01, -1.22255787e-01,\n",
       "       -1.23401156e-01, -1.24689333e-01, -1.25977510e-01, -1.27265687e-01,\n",
       "       -1.28366798e-01, -1.29276248e-01, -1.29994038e-01, -1.30520167e-01,\n",
       "       -1.30854635e-01, -1.30997443e-01, -1.30997443e-01, -1.30997443e-01,\n",
       "       -1.30997443e-01, -1.30997443e-01, -1.30997443e-01, -1.30997443e-01,\n",
       "       -1.30997443e-01, -1.30997443e-01, -1.30997443e-01, -1.30997443e-01,\n",
       "       -1.30997443e-01, -1.30997443e-01, -1.30635199e-01, -1.29878403e-01,\n",
       "       -1.28727053e-01, -1.27181152e-01, -1.25240698e-01, -1.22905692e-01,\n",
       "       -1.20265649e-01, -1.17625606e-01, -1.14985564e-01, -1.12707765e-01,\n",
       "       -1.10824519e-01, -1.09335825e-01, -1.08241684e-01, -1.07542095e-01,\n",
       "       -1.07237058e-01, -1.07237058e-01, -1.07237058e-01, -1.07237058e-01,\n",
       "       -1.07237058e-01, -1.07237058e-01, -1.07237058e-01, -1.07237058e-01,\n",
       "       -1.07237058e-01, -1.07237058e-01, -1.07237058e-01, -1.07237058e-01,\n",
       "       -1.00877061e-01, -1.00381103e-01, -9.75909327e-02, -9.25065487e-02,\n",
       "       -8.51279514e-02, -7.54551409e-02, -6.80400742e-02, -5.61248455e-02,\n",
       "       -4.96984955e-02, -3.25981013e-02, -2.02277405e-02,  0.00000000e+00])"
      ]
     },
     "execution_count": 97,
     "metadata": {},
     "output_type": "execute_result"
    }
   ],
   "source": [
    "# Delta of Q and V?\n",
    "# This has len(1000), not 1051 like the other features\n",
    "batch1[\"b1c0\"][\"cycles\"][\"1054\"][\"dQdV\"]"
   ]
  },
  {
   "cell_type": "code",
   "execution_count": 93,
   "metadata": {},
   "outputs": [
    {
     "data": {
      "text/plain": [
       "[<matplotlib.lines.Line2D at 0x10f9ed5f8>]"
      ]
     },
     "execution_count": 93,
     "metadata": {},
     "output_type": "execute_result"
    },
    {
     "data": {
      "image/png": "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
      "text/plain": [
       "<Figure size 432x288 with 1 Axes>"
      ]
     },
     "metadata": {
      "needs_background": "light"
     },
     "output_type": "display_data"
    }
   ],
   "source": [
    "# dQ/dV over t ?_?\n",
    "plt.plot(batch1['b1c43']['cycles']['10']['t'][0:1000], batch1['b1c43']['cycles']['10']['dQdV'])"
   ]
  },
  {
   "cell_type": "code",
   "execution_count": 104,
   "metadata": {},
   "outputs": [
    {
     "data": {
      "image/png": "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
      "text/plain": [
       "<Figure size 432x288 with 1 Axes>"
      ]
     },
     "metadata": {
      "needs_background": "light"
     },
     "output_type": "display_data"
    }
   ],
   "source": [
    "plt.plot(bat_dict['b1c43']['cycles']['10']['t'], bat_dict['b1c43']['cycles']['10']['Qc'], label='Qc')\n",
    "plt.plot(bat_dict['b1c43']['cycles']['10']['t'], bat_dict['b1c43']['cycles']['10']['Qd'], label='Qd')\n",
    "plt.xlabel('time (0.1 minutes)')\n",
    "plt.ylabel('charge (coulombs)')  # 1C = 1A * 1s,  1 Coulomb = constant current of 1 Ampere in 1 second\n",
    "plt.legend()\n",
    "plt.show()"
   ]
  },
  {
   "cell_type": "code",
   "execution_count": null,
   "metadata": {},
   "outputs": [],
   "source": [
    "bcc = batch1['b1c5']['cycles']\n",
    "for cid, cycle in bcc.items():\n",
    "    print('cid', cid, 'tl', len(cycle['t']), 'dql', len(cycle['dQdV']))"
   ]
  },
  {
   "cell_type": "markdown",
   "metadata": {},
   "source": [
    "### 1.4.9 t (time)"
   ]
  },
  {
   "cell_type": "code",
   "execution_count": 106,
   "metadata": {},
   "outputs": [
    {
     "data": {
      "text/plain": [
       "array([0.00000000e+00, 2.56166667e-03, 3.01666667e-03, ...,\n",
       "       5.11831683e+01, 5.11938200e+01, 5.11998900e+01])"
      ]
     },
     "execution_count": 106,
     "metadata": {},
     "output_type": "execute_result"
    }
   ],
   "source": [
    "# time elapsed at each step\n",
    "# measured in minutes?\n",
    "batch1[\"b1c0\"][\"cycles\"][\"1054\"][\"t\"]"
   ]
  },
  {
   "cell_type": "code",
   "execution_count": 83,
   "metadata": {
    "scrolled": true
   },
   "outputs": [
    {
     "data": {
      "text/plain": [
       "array([2.0264158, 2.0393877, 2.0516596, ..., 2.0124063, 2.0224609,\n",
       "       2.0250397])"
      ]
     },
     "execution_count": 83,
     "metadata": {},
     "output_type": "execute_result"
    }
   ],
   "source": [
    "#len(batch1[\"b1c0\"]['cycles']['10']['dQdV'])  # len 1189, keys ['cycle_life', 'charge_policy', 'summary', 'cycles']\n",
    "batch1[\"b1c0\"]['cycles']['1']['V']"
   ]
  },
  {
   "cell_type": "markdown",
   "metadata": {},
   "source": [
    "# Continue original notebook"
   ]
  },
  {
   "cell_type": "code",
   "execution_count": 4,
   "metadata": {},
   "outputs": [],
   "source": [
    "# batch2 = pickle.load(open(r'/media/hannes/TOSHIBA EXT/matlab/batch2.pkl','rb'))\n",
    "# batch2 = pickle.load(open(r'.\\Data\\batch2.pkl','rb'))\n",
    "batch2 = pickle.load(open(r'./Data/batch2.pkl', 'rb'))    # Wendy"
   ]
  },
  {
   "cell_type": "code",
   "execution_count": 5,
   "metadata": {
    "collapsed": true
   },
   "outputs": [],
   "source": [
    "# There are four cells from batch1 that carried into batch2, we'll remove the data from batch2\n",
    "# and put it with the correct cell from batch1\n",
    "batch2_keys = ['b2c7', 'b2c8', 'b2c9', 'b2c15', 'b2c16']\n",
    "batch1_keys = ['b1c0', 'b1c1', 'b1c2', 'b1c3', 'b1c4']\n",
    "add_len = [662, 981, 1060, 208, 482];"
   ]
  },
  {
   "cell_type": "code",
   "execution_count": 6,
   "metadata": {},
   "outputs": [],
   "source": [
    "for i, bk in enumerate(batch1_keys):\n",
    "    batch1[bk]['cycle_life'] = batch1[bk]['cycle_life'] + add_len[i]\n",
    "    for j in batch1[bk]['summary'].keys():\n",
    "        if j == 'cycle':\n",
    "            batch1[bk]['summary'][j] = np.hstack((batch1[bk]['summary'][j], batch2[batch2_keys[i]]['summary'][j] + len(batch1[bk]['summary'][j])))\n",
    "        else:\n",
    "            batch1[bk]['summary'][j] = np.hstack((batch1[bk]['summary'][j], batch2[batch2_keys[i]]['summary'][j]))\n",
    "    last_cycle = len(batch1[bk]['cycles'].keys())\n",
    "    for j, jk in enumerate(batch2[batch2_keys[i]]['cycles'].keys()):\n",
    "        batch1[bk]['cycles'][str(last_cycle + j)] = batch2[batch2_keys[i]]['cycles'][jk]"
   ]
  },
  {
   "cell_type": "code",
   "execution_count": 7,
   "metadata": {
    "collapsed": true
   },
   "outputs": [],
   "source": [
    "del batch2['b2c7']\n",
    "del batch2['b2c8']\n",
    "del batch2['b2c9']\n",
    "del batch2['b2c15']\n",
    "del batch2['b2c16']"
   ]
  },
  {
   "cell_type": "code",
   "execution_count": 8,
   "metadata": {},
   "outputs": [
    {
     "data": {
      "text/plain": [
       "43"
      ]
     },
     "execution_count": 8,
     "metadata": {},
     "output_type": "execute_result"
    }
   ],
   "source": [
    "numBat2 = len(batch2.keys())\n",
    "numBat2"
   ]
  },
  {
   "cell_type": "code",
   "execution_count": 9,
   "metadata": {
    "collapsed": true
   },
   "outputs": [],
   "source": [
    "# batch3 = pickle.load(open(r'.\\Data\\batch3.pkl','rb'))\n",
    "# batch3 = pickle.load(open(r'/media/hannes/TOSHIBA EXT/matlab/batch3.pkl','rb'))\n",
    "batch3 = pickle.load(open(r'./Data/batch3.pkl', 'rb'))    # Wendy\n",
    "\n",
    "# remove noisy channels from batch3\n",
    "del batch3['b3c37']\n",
    "del batch3['b3c2']\n",
    "del batch3['b3c23']\n",
    "del batch3['b3c32']\n",
    "del batch3['b3c38']\n",
    "del batch3['b3c39']"
   ]
  },
  {
   "cell_type": "code",
   "execution_count": 10,
   "metadata": {},
   "outputs": [
    {
     "data": {
      "text/plain": [
       "40"
      ]
     },
     "execution_count": 10,
     "metadata": {},
     "output_type": "execute_result"
    }
   ],
   "source": [
    "numBat3 = len(batch3.keys())\n",
    "numBat3"
   ]
  },
  {
   "cell_type": "code",
   "execution_count": 11,
   "metadata": {},
   "outputs": [
    {
     "data": {
      "text/plain": [
       "124"
      ]
     },
     "execution_count": 11,
     "metadata": {},
     "output_type": "execute_result"
    }
   ],
   "source": [
    "numBat = numBat1 + numBat2 + numBat3\n",
    "numBat"
   ]
  },
  {
   "cell_type": "code",
   "execution_count": 12,
   "metadata": {
    "collapsed": true
   },
   "outputs": [],
   "source": [
    "bat_dict = {**batch1, **batch2, **batch3}"
   ]
  },
  {
   "cell_type": "code",
   "execution_count": 13,
   "metadata": {},
   "outputs": [
    {
     "data": {
      "text/plain": [
       "Text(0, 0.5, 'Discharge Capacity (Ah)')"
      ]
     },
     "execution_count": 13,
     "metadata": {},
     "output_type": "execute_result"
    },
    {
     "data": {
      "image/png": "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\n",
      "text/plain": [
       "<Figure size 432x288 with 1 Axes>"
      ]
     },
     "metadata": {
      "needs_background": "light"
     },
     "output_type": "display_data"
    }
   ],
   "source": [
    "for i in bat_dict.keys():\n",
    "    plt.plot(bat_dict[i]['summary']['cycle'], bat_dict[i]['summary']['QD'])\n",
    "plt.xlabel('Cycle Number')\n",
    "plt.ylabel('Discharge Capacity (Ah)')"
   ]
  },
  {
   "cell_type": "markdown",
   "metadata": {},
   "source": [
    "### Train and Test Split\n",
    "If you are interested in using the same train/test split as the paper, use the indices specified below"
   ]
  },
  {
   "cell_type": "code",
   "execution_count": 14,
   "metadata": {
    "collapsed": true
   },
   "outputs": [],
   "source": [
    "test_ind = np.hstack((np.arange(0,(numBat1+numBat2),2),83))\n",
    "train_ind = np.arange(1,(numBat1+numBat2-1),2)\n",
    "secondary_test_ind = np.arange(numBat-numBat3,numBat);"
   ]
  }
 ],
 "metadata": {
  "kernelspec": {
   "display_name": "Python 3",
   "language": "python",
   "name": "python3"
  },
  "language_info": {
   "codemirror_mode": {
    "name": "ipython",
    "version": 3
   },
   "file_extension": ".py",
   "mimetype": "text/x-python",
   "name": "python",
   "nbconvert_exporter": "python",
   "pygments_lexer": "ipython3",
   "version": "3.7.3"
  }
 },
 "nbformat": 4,
 "nbformat_minor": 2
}
